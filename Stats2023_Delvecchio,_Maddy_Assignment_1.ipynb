{
  "nbformat": 4,
  "nbformat_minor": 0,
  "metadata": {
    "colab": {
      "provenance": [],
      "authorship_tag": "ABX9TyP0SYNG0JpE8R+LyCpJWYMo",
      "include_colab_link": true
    },
    "kernelspec": {
      "name": "python3",
      "display_name": "Python 3"
    },
    "language_info": {
      "name": "python"
    }
  },
  "cells": [
    {
      "cell_type": "markdown",
      "metadata": {
        "id": "view-in-github",
        "colab_type": "text"
      },
      "source": [
        "<a href=\"https://colab.research.google.com/github/mdelvecchio2019/Stats2023fall/blob/main/Stats2023_Delvecchio%2C_Maddy_Assignment_1.ipynb\" target=\"_parent\"><img src=\"https://colab.research.google.com/assets/colab-badge.svg\" alt=\"Open In Colab\"/></a>"
      ]
    },
    {
      "cell_type": "markdown",
      "source": [
        "Lab #1 notebook "
      ],
      "metadata": {
        "id": "O3E1nryFwvYN"
      }
    },
    {
      "cell_type": "markdown",
      "source": [
        "#Basic Math"
      ],
      "metadata": {
        "id": "E-PAnRb625kG"
      }
    },
    {
      "cell_type": "code",
      "execution_count": null,
      "metadata": {
        "colab": {
          "base_uri": "https://localhost:8080/"
        },
        "id": "hSoX3L2-wMrP",
        "outputId": "cce0ee79-8608-4754-e729-506742fd0005"
      },
      "outputs": [
        {
          "output_type": "execute_result",
          "data": {
            "text/plain": [
              "4"
            ]
          },
          "metadata": {},
          "execution_count": 1
        }
      ],
      "source": [
        "2+2 #here we are establishing an equation 2+2 the outcome is 4 "
      ]
    },
    {
      "cell_type": "code",
      "source": [
        "2*24 #here we are establishing an equation 2*24 the outcome is 48"
      ],
      "metadata": {
        "colab": {
          "base_uri": "https://localhost:8080/"
        },
        "id": "bcnFUt93xX7U",
        "outputId": "f0d5fb9e-23de-49b5-9f45-e995ffb2f99b"
      },
      "execution_count": null,
      "outputs": [
        {
          "output_type": "execute_result",
          "data": {
            "text/plain": [
              "48"
            ]
          },
          "metadata": {},
          "execution_count": 2
        }
      ]
    },
    {
      "cell_type": "code",
      "source": [
        "2**8 #here we are establishing an equation 2^8 )2 to the 8th power) the outcome is 256"
      ],
      "metadata": {
        "colab": {
          "base_uri": "https://localhost:8080/"
        },
        "id": "vhcOy1vYxX-V",
        "outputId": "358b4b0e-b3f2-426f-aa91-baee7c548901"
      },
      "execution_count": null,
      "outputs": [
        {
          "output_type": "execute_result",
          "data": {
            "text/plain": [
              "256"
            ]
          },
          "metadata": {},
          "execution_count": 1
        }
      ]
    },
    {
      "cell_type": "code",
      "source": [
        "8/4 #here we are establishing an equation 8/4 the outcome is 2.0, the singular slash give us a decimal remainder\n"
      ],
      "metadata": {
        "colab": {
          "base_uri": "https://localhost:8080/"
        },
        "id": "9mvTHyjkxYB1",
        "outputId": "3d0e39e8-b9f5-4767-c3ea-3ef4a01e869a"
      },
      "execution_count": null,
      "outputs": [
        {
          "output_type": "execute_result",
          "data": {
            "text/plain": [
              "2.0"
            ]
          },
          "metadata": {},
          "execution_count": 5
        }
      ]
    },
    {
      "cell_type": "code",
      "source": [
        "8//4 #here we are establishing an equation 8/4 the outcome is 2.0, adding a double slash gives us the whole number and ignores the remainder of the number \n"
      ],
      "metadata": {
        "colab": {
          "base_uri": "https://localhost:8080/"
        },
        "id": "sbu0_EqpxYEm",
        "outputId": "a88ac9fb-a479-44e8-fef9-bc6344887f81"
      },
      "execution_count": null,
      "outputs": [
        {
          "output_type": "execute_result",
          "data": {
            "text/plain": [
              "2"
            ]
          },
          "metadata": {},
          "execution_count": 4
        }
      ]
    },
    {
      "cell_type": "code",
      "source": [
        "13%12  #here we are establishing the modual of 12, think of this as what is the remainfer when you divde 13 by 12, think similar to long division"
      ],
      "metadata": {
        "colab": {
          "base_uri": "https://localhost:8080/"
        },
        "id": "M7WFEIs-xYHO",
        "outputId": "d721bfe4-659a-49f3-ab33-0daedbd3375b"
      },
      "execution_count": null,
      "outputs": [
        {
          "output_type": "execute_result",
          "data": {
            "text/plain": [
              "1"
            ]
          },
          "metadata": {},
          "execution_count": 6
        }
      ]
    },
    {
      "cell_type": "code",
      "source": [
        "22%12 #another example for modual of 12\n"
      ],
      "metadata": {
        "colab": {
          "base_uri": "https://localhost:8080/"
        },
        "id": "IlYzS_ICxYJ9",
        "outputId": "062e6401-06a5-4f3b-9aa5-8ebb4c53470e"
      },
      "execution_count": null,
      "outputs": [
        {
          "output_type": "execute_result",
          "data": {
            "text/plain": [
              "10"
            ]
          },
          "metadata": {},
          "execution_count": 1
        }
      ]
    },
    {
      "cell_type": "markdown",
      "source": [
        "# This is a comment \n",
        "hashtag is important in python  if put in the code it will seperate as a comment "
      ],
      "metadata": {
        "id": "GhDAgRlGxy_E"
      }
    },
    {
      "cell_type": "markdown",
      "source": [
        "# Variables (fruit)"
      ],
      "metadata": {
        "id": "GHkSquUZyf73"
      }
    },
    {
      "cell_type": "code",
      "source": [
        "apples=5\n",
        "# here we are assigning the number 5 to the variable apples "
      ],
      "metadata": {
        "id": "gbRClzh9yixH"
      },
      "execution_count": null,
      "outputs": []
    },
    {
      "cell_type": "code",
      "source": [
        "apples\n",
        "# here we are establishing that apples is equal to 5"
      ],
      "metadata": {
        "colab": {
          "base_uri": "https://localhost:8080/"
        },
        "id": "HWdGBUwtyjP4",
        "outputId": "be54cc3a-e128-470f-e208-e5e3be17cbd3"
      },
      "execution_count": null,
      "outputs": [
        {
          "output_type": "execute_result",
          "data": {
            "text/plain": [
              "5"
            ]
          },
          "metadata": {},
          "execution_count": 2
        }
      ]
    },
    {
      "cell_type": "code",
      "source": [
        "oranges=8\n",
        "# here we are assigning the number 8 to the variable oranges"
      ],
      "metadata": {
        "id": "5K8UpvpHynEv"
      },
      "execution_count": null,
      "outputs": []
    },
    {
      "cell_type": "code",
      "source": [
        "oranges\n",
        "#here we are establishing that oranges is equal to 8"
      ],
      "metadata": {
        "colab": {
          "base_uri": "https://localhost:8080/"
        },
        "id": "Nj5duuD6ytTf",
        "outputId": "ff93db3c-857a-48ff-f41b-8499af6146ea"
      },
      "execution_count": null,
      "outputs": [
        {
          "output_type": "execute_result",
          "data": {
            "text/plain": [
              "8"
            ]
          },
          "metadata": {},
          "execution_count": 7
        }
      ]
    },
    {
      "cell_type": "code",
      "source": [
        "apples + oranges \n",
        "# here we are adding the variables apples and oranges to find out the total (5+8)"
      ],
      "metadata": {
        "colab": {
          "base_uri": "https://localhost:8080/"
        },
        "id": "8R3g4fe4yuFf",
        "outputId": "a1eb56cc-7156-4b6e-b2c2-51cfbcbc8e48"
      },
      "execution_count": null,
      "outputs": [
        {
          "output_type": "execute_result",
          "data": {
            "text/plain": [
              "13"
            ]
          },
          "metadata": {},
          "execution_count": 8
        }
      ]
    },
    {
      "cell_type": "code",
      "source": [
        "total = apples + oranges \n",
        "#here we are assigning the variable total to the number of apples and oranges (total= 5+8)"
      ],
      "metadata": {
        "id": "eRBWiEmnyxFA"
      },
      "execution_count": null,
      "outputs": []
    },
    {
      "cell_type": "code",
      "source": [
        "total\n",
        "# here we are establishing that total equals 13 "
      ],
      "metadata": {
        "colab": {
          "base_uri": "https://localhost:8080/"
        },
        "id": "ZCHTvrByy4UQ",
        "outputId": "db97ef0f-7def-4af1-f428-11589fe4b017"
      },
      "execution_count": null,
      "outputs": [
        {
          "output_type": "execute_result",
          "data": {
            "text/plain": [
              "13"
            ]
          },
          "metadata": {},
          "execution_count": 10
        }
      ]
    },
    {
      "cell_type": "markdown",
      "source": [
        "# Variables (fruit more)\n"
      ],
      "metadata": {
        "id": "Xax2w9ddzLlw"
      }
    },
    {
      "cell_type": "code",
      "source": [
        "apple = 5\n",
        "#here we are assigning the variable apple to the value 5"
      ],
      "metadata": {
        "id": "SM3H56VQzN-m"
      },
      "execution_count": null,
      "outputs": []
    },
    {
      "cell_type": "code",
      "source": [
        "apple \n",
        "#here we are establishing that apple is equal to 5"
      ],
      "metadata": {
        "colab": {
          "base_uri": "https://localhost:8080/"
        },
        "id": "gJp3RLe5zRC_",
        "outputId": "73eb2254-846b-431e-dbc9-336bf4749fca"
      },
      "execution_count": null,
      "outputs": [
        {
          "output_type": "execute_result",
          "data": {
            "text/plain": [
              "5"
            ]
          },
          "metadata": {},
          "execution_count": 16
        }
      ]
    },
    {
      "cell_type": "code",
      "source": [
        "print (apple)\n",
        "#here we are printing the number of apples to establish what the number of apples are (5)\n"
      ],
      "metadata": {
        "colab": {
          "base_uri": "https://localhost:8080/"
        },
        "id": "ncP4eSrzzSpv",
        "outputId": "344a01e0-86ab-4381-b368-9edaeaa884c8"
      },
      "execution_count": null,
      "outputs": [
        {
          "output_type": "stream",
          "name": "stdout",
          "text": [
            "5\n"
          ]
        }
      ]
    },
    {
      "cell_type": "code",
      "source": [
        "orange =8\n",
        "#here we are assigning the variable orange to the value 8"
      ],
      "metadata": {
        "id": "pVaNCBjVzTnA"
      },
      "execution_count": null,
      "outputs": []
    },
    {
      "cell_type": "code",
      "source": [
        "orange\n",
        "#here we are establishing that orange is equal to 8"
      ],
      "metadata": {
        "colab": {
          "base_uri": "https://localhost:8080/"
        },
        "id": "e-Bi6GUFzYXQ",
        "outputId": "9ec7e23b-99fd-4139-ca06-42a9a3112ee8"
      },
      "execution_count": null,
      "outputs": [
        {
          "output_type": "execute_result",
          "data": {
            "text/plain": [
              "8"
            ]
          },
          "metadata": {},
          "execution_count": 20
        }
      ]
    },
    {
      "cell_type": "code",
      "source": [
        "print (orange)\n",
        "#here we are printing the number of oranges to establish what the number of oranges are (8)"
      ],
      "metadata": {
        "colab": {
          "base_uri": "https://localhost:8080/"
        },
        "id": "PkoWAQB2zZew",
        "outputId": "f1558641-4f36-43d0-dfee-2033a07e0054"
      },
      "execution_count": null,
      "outputs": [
        {
          "output_type": "stream",
          "name": "stdout",
          "text": [
            "8\n"
          ]
        }
      ]
    },
    {
      "cell_type": "code",
      "source": [
        "apple + orange \n",
        "#here we are establishing that apple plus orange is equal to 13"
      ],
      "metadata": {
        "colab": {
          "base_uri": "https://localhost:8080/"
        },
        "id": "eRzlhXTtzbTQ",
        "outputId": "410c57f1-70bc-4c57-fb39-8d06078fb1f4"
      },
      "execution_count": null,
      "outputs": [
        {
          "output_type": "execute_result",
          "data": {
            "text/plain": [
              "13"
            ]
          },
          "metadata": {},
          "execution_count": 22
        }
      ]
    },
    {
      "cell_type": "code",
      "source": [
        "total = apple + orange\n",
        "#here we are assigning the variable total to the value of apple plus orange (8+5)"
      ],
      "metadata": {
        "id": "Bqve5Avxzdhf"
      },
      "execution_count": null,
      "outputs": []
    },
    {
      "cell_type": "code",
      "source": [
        "total \n",
        "#here we are establishing that total is equal to 13"
      ],
      "metadata": {
        "colab": {
          "base_uri": "https://localhost:8080/"
        },
        "id": "ajPNG0BCzhlw",
        "outputId": "de517193-2916-4643-f1ac-565e118111c6"
      },
      "execution_count": null,
      "outputs": [
        {
          "output_type": "execute_result",
          "data": {
            "text/plain": [
              "13"
            ]
          },
          "metadata": {},
          "execution_count": 21
        }
      ]
    },
    {
      "cell_type": "code",
      "source": [
        "print (total)\n",
        "#here we are printing the number of total to establish what the number of total fruit is (13)"
      ],
      "metadata": {
        "colab": {
          "base_uri": "https://localhost:8080/"
        },
        "id": "m-0x9byjzijQ",
        "outputId": "d5604f6f-1435-48d9-eee8-59a3a9905943"
      },
      "execution_count": null,
      "outputs": [
        {
          "output_type": "stream",
          "name": "stdout",
          "text": [
            "13\n"
          ]
        }
      ]
    },
    {
      "cell_type": "code",
      "source": [
        "apple **2\n",
        "#here we are squaring the number of apples (5) to get 25 apples"
      ],
      "metadata": {
        "colab": {
          "base_uri": "https://localhost:8080/"
        },
        "id": "TGQPB3-BzjpA",
        "outputId": "98885c58-2d39-4a39-b5bf-e584546e53d8"
      },
      "execution_count": null,
      "outputs": [
        {
          "output_type": "execute_result",
          "data": {
            "text/plain": [
              "25"
            ]
          },
          "metadata": {},
          "execution_count": 25
        }
      ]
    },
    {
      "cell_type": "code",
      "source": [
        "cost_per_apple = 0.25\n",
        "#here we are assigning the cost of apple to the value 0.25"
      ],
      "metadata": {
        "id": "1F83gawhzqgA"
      },
      "execution_count": null,
      "outputs": []
    },
    {
      "cell_type": "code",
      "source": [
        "total_apple_cost= cost_per_apple*apple\n",
        "#here we are assigning the total cost of apples to cost per apple times the amount of apples"
      ],
      "metadata": {
        "id": "d8MNDZgPztc_"
      },
      "execution_count": null,
      "outputs": []
    },
    {
      "cell_type": "code",
      "source": [
        "total_apple_cost\n",
        "#here we are assigning the total cost of apple to the value 1.25\n"
      ],
      "metadata": {
        "colab": {
          "base_uri": "https://localhost:8080/"
        },
        "id": "ZHOEOAjuzycf",
        "outputId": "caf294fb-8d37-4b1b-ea7a-40141e39561c"
      },
      "execution_count": null,
      "outputs": [
        {
          "output_type": "execute_result",
          "data": {
            "text/plain": [
              "1.25"
            ]
          },
          "metadata": {},
          "execution_count": 36
        }
      ]
    },
    {
      "cell_type": "code",
      "source": [
        "cost_per_orange=1.45\n",
        "#here we are assigning the cost of orange to the value 1.45"
      ],
      "metadata": {
        "id": "S9Gk6t9rz-5A"
      },
      "execution_count": null,
      "outputs": []
    },
    {
      "cell_type": "code",
      "source": [
        "total_orange_cost= cost_per_orange*orange\n",
        "#here we are assigning the total cost of oranges to cost per orange times the amount of oranges"
      ],
      "metadata": {
        "id": "iactv1AY0NAP"
      },
      "execution_count": null,
      "outputs": []
    },
    {
      "cell_type": "code",
      "source": [
        "total_orange_cost\n",
        "#here we are assigning the total cost of orange to the value 11.6"
      ],
      "metadata": {
        "colab": {
          "base_uri": "https://localhost:8080/"
        },
        "id": "PXldfoBH0Sm_",
        "outputId": "7d0f376a-f43e-4a88-d4d3-5a5ef8522b3f"
      },
      "execution_count": null,
      "outputs": [
        {
          "output_type": "execute_result",
          "data": {
            "text/plain": [
              "11.6"
            ]
          },
          "metadata": {},
          "execution_count": 29
        }
      ]
    },
    {
      "cell_type": "markdown",
      "source": [
        "# Clothing Store example "
      ],
      "metadata": {
        "id": "kCgH5bESwNfo"
      }
    },
    {
      "cell_type": "code",
      "source": [
        "shirt=12.99\n",
        "#we are establishing the cost of a shirt "
      ],
      "metadata": {
        "id": "TsOps5W50UpP"
      },
      "execution_count": null,
      "outputs": []
    },
    {
      "cell_type": "code",
      "source": [
        "pants=10.99\n",
        "#we are establishing the cost of a pants"
      ],
      "metadata": {
        "id": "9B2GEt5H0ZoP"
      },
      "execution_count": null,
      "outputs": []
    },
    {
      "cell_type": "code",
      "source": [
        "shoes=18.99\n",
        "#we are establishing the cost of a shoes"
      ],
      "metadata": {
        "id": "QgT7uM660ccv"
      },
      "execution_count": null,
      "outputs": []
    },
    {
      "cell_type": "code",
      "source": [
        "shirt_sold= 34\n",
        "#we are establishing the amount of shirts sold"
      ],
      "metadata": {
        "id": "7egOubCB0f-v"
      },
      "execution_count": null,
      "outputs": []
    },
    {
      "cell_type": "code",
      "source": [
        "shoes_sold= 12\n",
        "#we are establishing the amount of shoes sold"
      ],
      "metadata": {
        "id": "5w_Wo1ST0kuv"
      },
      "execution_count": null,
      "outputs": []
    },
    {
      "cell_type": "code",
      "source": [
        "pants_sold= 43\n",
        "#we are establishing the amount of pants sold"
      ],
      "metadata": {
        "id": "LqrhEXU50m5Q"
      },
      "execution_count": null,
      "outputs": []
    },
    {
      "cell_type": "code",
      "source": [
        "total_sales= (shirt*shirt_sold)+(pants*pants_sold)+(shoes*shoes_sold) \n",
        "#here is a large equation, each piece of clothing has its own small equation put into a larger one to find out the total sales, it can be broken down but to have a full total it all must be combined "
      ],
      "metadata": {
        "id": "WRLtkKH80okw"
      },
      "execution_count": null,
      "outputs": []
    },
    {
      "cell_type": "code",
      "source": [
        "total_sales\n",
        "#we are establishing the total amount of sales in dollars "
      ],
      "metadata": {
        "colab": {
          "base_uri": "https://localhost:8080/"
        },
        "id": "7e-tj6xv04Xu",
        "outputId": "81dc2d28-4cc4-4824-b11d-d8a59d4c32bb"
      },
      "execution_count": null,
      "outputs": [
        {
          "output_type": "execute_result",
          "data": {
            "text/plain": [
              "1142.1100000000001"
            ]
          },
          "metadata": {},
          "execution_count": 9
        }
      ]
    },
    {
      "cell_type": "code",
      "source": [
        "total_sales #note this is in dollars \n"
      ],
      "metadata": {
        "colab": {
          "base_uri": "https://localhost:8080/"
        },
        "id": "1yF21Tfm05sf",
        "outputId": "3b91cb20-df4e-4527-e850-405ad0105207"
      },
      "execution_count": null,
      "outputs": [
        {
          "output_type": "execute_result",
          "data": {
            "text/plain": [
              "1142.1100000000001"
            ]
          },
          "metadata": {},
          "execution_count": 81
        }
      ]
    },
    {
      "cell_type": "code",
      "source": [
        "total_shirt_sales=(shirt*shirt_sold) \n",
        "#this is a piece of the large equation above, it shows us the total shirt sales by taking shirts price and multiplying it by the amount of shirts sold "
      ],
      "metadata": {
        "id": "9VWEec9q09yP"
      },
      "execution_count": null,
      "outputs": []
    },
    {
      "cell_type": "code",
      "source": [
        "total_shirt_sales\n",
        "#establishing the total shirt sales in dollars "
      ],
      "metadata": {
        "colab": {
          "base_uri": "https://localhost:8080/"
        },
        "id": "KA-ZxP7A1_LB",
        "outputId": "ee1e0dae-c837-4dcb-b700-359fdc824193"
      },
      "execution_count": null,
      "outputs": [
        {
          "output_type": "execute_result",
          "data": {
            "text/plain": [
              "441.66"
            ]
          },
          "metadata": {},
          "execution_count": 14
        }
      ]
    },
    {
      "cell_type": "code",
      "source": [
        "total_pants_sales=pants*pants_sold\n",
        "#this is a piece of the large equation above, it shows us the total pants sales by taking pants price and multiplying it by the amount of pants sold "
      ],
      "metadata": {
        "id": "KVsDORoY2AnR"
      },
      "execution_count": null,
      "outputs": []
    },
    {
      "cell_type": "code",
      "source": [
        "total_pants_sales\n",
        "#establishing the total pant sales in dollars "
      ],
      "metadata": {
        "colab": {
          "base_uri": "https://localhost:8080/"
        },
        "id": "HV_vt3Pv2Fvx",
        "outputId": "f57c6006-eeeb-40fc-96d3-f0ef85188f8f"
      },
      "execution_count": null,
      "outputs": [
        {
          "output_type": "execute_result",
          "data": {
            "text/plain": [
              "472.57"
            ]
          },
          "metadata": {},
          "execution_count": 13
        }
      ]
    },
    {
      "cell_type": "code",
      "source": [
        "total_shoe_sales=shoes*shoes_sold\n",
        "#this is a piece of the large equation above, it shows us the total shoes sales by taking shoes price and multiplying it by the amount of shoes sold "
      ],
      "metadata": {
        "id": "4MrG21FG2HTB"
      },
      "execution_count": null,
      "outputs": []
    },
    {
      "cell_type": "code",
      "source": [
        "total_shoe_sales\n",
        "#establishing the total shoes sales in dollars "
      ],
      "metadata": {
        "colab": {
          "base_uri": "https://localhost:8080/"
        },
        "id": "ReZgMMNU2Kkh",
        "outputId": "cc55a028-0a02-47e0-c09b-82f8e0e0352d"
      },
      "execution_count": null,
      "outputs": [
        {
          "output_type": "execute_result",
          "data": {
            "text/plain": [
              "227.88"
            ]
          },
          "metadata": {},
          "execution_count": 18
        }
      ]
    },
    {
      "cell_type": "markdown",
      "source": [
        "#Vectors\n",
        "\n"
      ],
      "metadata": {
        "id": "9e1HWEI82ZwU"
      }
    },
    {
      "cell_type": "code",
      "source": [
        "import numpy as np\n",
        "# used for making vectors \n",
        "\n"
      ],
      "metadata": {
        "id": "OpAwtFZ-2cCC"
      },
      "execution_count": null,
      "outputs": []
    },
    {
      "cell_type": "code",
      "source": [
        "import matplotlib.pyplot as plt\n",
        "# used for making plots "
      ],
      "metadata": {
        "id": "9OAD6gTE2_tf"
      },
      "execution_count": null,
      "outputs": []
    },
    {
      "cell_type": "code",
      "source": [
        "np.arange(10)\n",
        "# used for making an array, a range of numbers from 0 to the number in put or a certain number to another number it goes up to the number but not include that number \n"
      ],
      "metadata": {
        "colab": {
          "base_uri": "https://localhost:8080/"
        },
        "id": "I6nwC6au2_wF",
        "outputId": "cac1a6c8-1486-44e3-c66a-821439e1547f"
      },
      "execution_count": null,
      "outputs": [
        {
          "output_type": "execute_result",
          "data": {
            "text/plain": [
              "array([0, 1, 2, 3, 4, 5, 6, 7, 8, 9])"
            ]
          },
          "metadata": {},
          "execution_count": 6
        }
      ]
    },
    {
      "cell_type": "code",
      "source": [
        "x = np.arange(10)\n",
        "#we are establishing the fact that x is equal to the array of 10 from above"
      ],
      "metadata": {
        "id": "84snrZWm2_z1"
      },
      "execution_count": null,
      "outputs": []
    },
    {
      "cell_type": "code",
      "source": [
        "x\n",
        "#we are reestablishing the fact that x is equal to the array of 10 from above"
      ],
      "metadata": {
        "colab": {
          "base_uri": "https://localhost:8080/"
        },
        "id": "g_5w0dEm2_2t",
        "outputId": "fbe80cab-46d4-4764-9780-575fa50acbf5"
      },
      "execution_count": null,
      "outputs": [
        {
          "output_type": "execute_result",
          "data": {
            "text/plain": [
              "array([0, 1, 2, 3, 4, 5, 6, 7, 8, 9])"
            ]
          },
          "metadata": {},
          "execution_count": 8
        }
      ]
    },
    {
      "cell_type": "code",
      "source": [
        "x+1 #this will take the array and add the input number to each variable of the array "
      ],
      "metadata": {
        "colab": {
          "base_uri": "https://localhost:8080/"
        },
        "id": "vdgza25f4lUU",
        "outputId": "f983e5f0-daef-4b34-ec85-adaa4c91a445"
      },
      "execution_count": null,
      "outputs": [
        {
          "output_type": "execute_result",
          "data": {
            "text/plain": [
              "array([ 1,  2,  3,  4,  5,  6,  7,  8,  9, 10])"
            ]
          },
          "metadata": {},
          "execution_count": 9
        }
      ]
    },
    {
      "cell_type": "code",
      "source": [
        "x*2 #this will take the array and multiply the input number to each variable of the array"
      ],
      "metadata": {
        "colab": {
          "base_uri": "https://localhost:8080/"
        },
        "id": "YEi8KP5I4m80",
        "outputId": "60353dd0-2f00-4c2d-cc62-7be4f430292b"
      },
      "execution_count": null,
      "outputs": [
        {
          "output_type": "execute_result",
          "data": {
            "text/plain": [
              "array([ 0,  2,  4,  6,  8, 10, 12, 14, 16, 18])"
            ]
          },
          "metadata": {},
          "execution_count": 10
        }
      ]
    },
    {
      "cell_type": "code",
      "source": [
        "x**2 #this will take the array and square (exponent) the input number to each variable of the array"
      ],
      "metadata": {
        "colab": {
          "base_uri": "https://localhost:8080/"
        },
        "id": "AT5kWa9a4ycK",
        "outputId": "672ecfc7-737b-4cf4-91d1-c0ed8457c8e3"
      },
      "execution_count": null,
      "outputs": [
        {
          "output_type": "execute_result",
          "data": {
            "text/plain": [
              "array([ 0,  1,  4,  9, 16, 25, 36, 49, 64, 81])"
            ]
          },
          "metadata": {},
          "execution_count": 11
        }
      ]
    },
    {
      "cell_type": "code",
      "source": [
        "y=3*x+5\n",
        "#this will take the array and put it in a mathematical equation giving us a y value from the equation with every x value"
      ],
      "metadata": {
        "id": "aA70-e2i4zdq"
      },
      "execution_count": null,
      "outputs": []
    },
    {
      "cell_type": "code",
      "source": [
        "y\n",
        "#reestablishing what y is from the equation from above"
      ],
      "metadata": {
        "colab": {
          "base_uri": "https://localhost:8080/"
        },
        "id": "Ahn71cRY4205",
        "outputId": "6cc2e029-f52b-43a3-c952-db4b2337ea35"
      },
      "execution_count": null,
      "outputs": [
        {
          "output_type": "execute_result",
          "data": {
            "text/plain": [
              "array([ 5,  8, 11, 14, 17, 20, 23, 26, 29, 32])"
            ]
          },
          "metadata": {},
          "execution_count": 13
        }
      ]
    },
    {
      "cell_type": "code",
      "source": [
        "x\n",
        "#reestablishing what the x values from the array are "
      ],
      "metadata": {
        "colab": {
          "base_uri": "https://localhost:8080/"
        },
        "id": "jrRRUZRB43r6",
        "outputId": "20c2ceeb-1933-4b2c-878f-d6322d1a8295"
      },
      "execution_count": null,
      "outputs": [
        {
          "output_type": "execute_result",
          "data": {
            "text/plain": [
              "array([0, 1, 2, 3, 4, 5, 6, 7, 8, 9])"
            ]
          },
          "metadata": {},
          "execution_count": 14
        }
      ]
    },
    {
      "cell_type": "code",
      "source": [
        "y\n",
        "#reestablishing what y is from the equation from above"
      ],
      "metadata": {
        "colab": {
          "base_uri": "https://localhost:8080/"
        },
        "id": "VMZmHGQ54_zU",
        "outputId": "26ab83ec-2299-48ce-d70a-e205bff66db5"
      },
      "execution_count": null,
      "outputs": [
        {
          "output_type": "execute_result",
          "data": {
            "text/plain": [
              "array([ 5,  8, 11, 14, 17, 20, 23, 26, 29, 32])"
            ]
          },
          "metadata": {},
          "execution_count": 15
        }
      ]
    },
    {
      "cell_type": "code",
      "source": [
        "plt.plot(x,y) # plt is the shortcut to plot your numbers on a graph, here we are plotting the x and y values from the array (x) and the y values from the equaiton above\n"
      ],
      "metadata": {
        "colab": {
          "base_uri": "https://localhost:8080/"
        },
        "id": "sTX3A8U_5ALE",
        "outputId": "32e006a7-61b6-42bc-bb8d-cef9092e1519"
      },
      "execution_count": null,
      "outputs": [
        {
          "output_type": "execute_result",
          "data": {
            "text/plain": [
              "[<matplotlib.lines.Line2D at 0x7f39c2b0f3d0>]"
            ]
          },
          "metadata": {},
          "execution_count": 16
        },
        {
          "output_type": "display_data",
          "data": {
            "text/plain": [
              "<Figure size 432x288 with 1 Axes>"
            ],
            "image/png": "[encoded data removed]"
          },
          "metadata": {
            "needs_background": "light"
          }
        }
      ]
    },
    {
      "cell_type": "code",
      "source": [
        "plt.plot(x,y,'.') # the '.' makes the graph a dotted line and allows us to see the plotted points instead of a solid line "
      ],
      "metadata": {
        "colab": {
          "base_uri": "https://localhost:8080/"
        },
        "id": "Hs-wUhX45GYE",
        "outputId": "d7bc4563-8485-4159-fc90-ecced70bf3a3"
      },
      "execution_count": null,
      "outputs": [
        {
          "output_type": "execute_result",
          "data": {
            "text/plain": [
              "[<matplotlib.lines.Line2D at 0x7f39bc805d50>]"
            ]
          },
          "metadata": {},
          "execution_count": 17
        },
        {
          "output_type": "display_data",
          "data": {
            "text/plain": [
              "<Figure size 432x288 with 1 Axes>"
            ],
            "image/png": "[encoded data removed]"
          },
          "metadata": {
            "needs_background": "light"
          }
        }
      ]
    },
    {
      "cell_type": "code",
      "source": [
        "plt.plot(x,y, 'r.') # adding the r changes the color of te graph to red "
      ],
      "metadata": {
        "colab": {
          "base_uri": "https://localhost:8080/"
        },
        "id": "mwtDxp7b5doE",
        "outputId": "4dc8a44b-a0fa-4928-eb0b-180361575e97"
      },
      "execution_count": null,
      "outputs": [
        {
          "output_type": "execute_result",
          "data": {
            "text/plain": [
              "[<matplotlib.lines.Line2D at 0x7f39bc77c710>]"
            ]
          },
          "metadata": {},
          "execution_count": 18
        },
        {
          "output_type": "display_data",
          "data": {
            "text/plain": [
              "<Figure size 432x288 with 1 Axes>"
            ],
            "image/png": "[encoded data removed]"
          },
          "metadata": {
            "needs_background": "light"
          }
        }
      ]
    },
    {
      "cell_type": "code",
      "source": [
        "plt.plot(x,y,'r--') # adding the r-- changes the color to red and makes the graph a lined graph"
      ],
      "metadata": {
        "colab": {
          "base_uri": "https://localhost:8080/"
        },
        "id": "uq8AFypF6Nt3",
        "outputId": "aba5e205-1feb-4cf9-a1a1-ce0feb60ba3b"
      },
      "execution_count": null,
      "outputs": [
        {
          "output_type": "execute_result",
          "data": {
            "text/plain": [
              "[<matplotlib.lines.Line2D at 0x7f39bc765ad0>]"
            ]
          },
          "metadata": {},
          "execution_count": 19
        },
        {
          "output_type": "display_data",
          "data": {
            "text/plain": [
              "<Figure size 432x288 with 1 Axes>"
            ],
            "image/png": "[encoded data removed]"
          },
          "metadata": {
            "needs_background": "light"
          }
        }
      ]
    },
    {
      "cell_type": "code",
      "source": [
        "plt.plot(x,y,'y*') # y changes the color to yellow "
      ],
      "metadata": {
        "colab": {
          "base_uri": "https://localhost:8080/"
        },
        "id": "Y1E2eszh6YD4",
        "outputId": "fc177133-af2b-49ad-eb6b-dd981669b52c"
      },
      "execution_count": null,
      "outputs": [
        {
          "output_type": "execute_result",
          "data": {
            "text/plain": [
              "[<matplotlib.lines.Line2D at 0x7f39bc6cbd10>]"
            ]
          },
          "metadata": {},
          "execution_count": 20
        },
        {
          "output_type": "display_data",
          "data": {
            "text/plain": [
              "<Figure size 432x288 with 1 Axes>"
            ],
            "image/png": "[encoded data removed]"
          },
          "metadata": {
            "needs_background": "light"
          }
        }
      ]
    },
    {
      "cell_type": "markdown",
      "source": [
        "matplotlib.org or just google matplotlib colors and they can show us the different colors we can change our graphs to"
      ],
      "metadata": {
        "id": "su7-cUMj7SKq"
      }
    },
    {
      "cell_type": "code",
      "source": [
        "plt.plot(x,y, marker='*', linestyle= 'none', markerfacecolor= '#333399') # this allows us to change the line style, marker color, and marker type"
      ],
      "metadata": {
        "colab": {
          "base_uri": "https://localhost:8080/"
        },
        "id": "vuICaN4Q7LBa",
        "outputId": "d39029cc-2f36-4f74-db9e-77ebb3247820"
      },
      "execution_count": null,
      "outputs": [
        {
          "output_type": "execute_result",
          "data": {
            "text/plain": [
              "[<matplotlib.lines.Line2D at 0x7f39bc641190>]"
            ]
          },
          "metadata": {},
          "execution_count": 21
        },
        {
          "output_type": "display_data",
          "data": {
            "text/plain": [
              "<Figure size 432x288 with 1 Axes>"
            ],
            "image/png": "[encoded data removed]"
          },
          "metadata": {
            "needs_background": "light"
          }
        }
      ]
    },
    {
      "cell_type": "code",
      "source": [
        "plt.plot(x,y, marker='o', linestyle= 'none', markerfacecolor= '#ff8ea1') #here we changed the color of the circle marker "
      ],
      "metadata": {
        "colab": {
          "base_uri": "https://localhost:8080/"
        },
        "id": "bsq9Wa007_O5",
        "outputId": "8bca0920-fbf0-4b91-c846-0557f40d070c"
      },
      "execution_count": null,
      "outputs": [
        {
          "output_type": "execute_result",
          "data": {
            "text/plain": [
              "[<matplotlib.lines.Line2D at 0x7f39bc7c6490>]"
            ]
          },
          "metadata": {},
          "execution_count": 22
        },
        {
          "output_type": "display_data",
          "data": {
            "text/plain": [
              "<Figure size 432x288 with 1 Axes>"
            ],
            "image/png": "[encoded data removed]"
          },
          "metadata": {
            "needs_background": "light"
          }
        }
      ]
    },
    {
      "cell_type": "code",
      "source": [
        "z=np.linspace(0,10,100) # you have the start value the stop value and then how many steps you want to get from start to stop "
      ],
      "metadata": {
        "id": "9X0swdsk8Xoo"
      },
      "execution_count": null,
      "outputs": []
    },
    {
      "cell_type": "code",
      "source": [
        "z #we are establishing what z is (the array)"
      ],
      "metadata": {
        "colab": {
          "base_uri": "https://localhost:8080/"
        },
        "id": "OpuAUdN79h8o",
        "outputId": "7515d322-2389-4174-a9b5-67aee899182a"
      },
      "execution_count": null,
      "outputs": [
        {
          "output_type": "execute_result",
          "data": {
            "text/plain": [
              "array([ 0.        ,  0.1010101 ,  0.2020202 ,  0.3030303 ,  0.4040404 ,\n",
              "        0.50505051,  0.60606061,  0.70707071,  0.80808081,  0.90909091,\n",
              "        1.01010101,  1.11111111,  1.21212121,  1.31313131,  1.41414141,\n",
              "        1.51515152,  1.61616162,  1.71717172,  1.81818182,  1.91919192,\n",
              "        2.02020202,  2.12121212,  2.22222222,  2.32323232,  2.42424242,\n",
              "        2.52525253,  2.62626263,  2.72727273,  2.82828283,  2.92929293,\n",
              "        3.03030303,  3.13131313,  3.23232323,  3.33333333,  3.43434343,\n",
              "        3.53535354,  3.63636364,  3.73737374,  3.83838384,  3.93939394,\n",
              "        4.04040404,  4.14141414,  4.24242424,  4.34343434,  4.44444444,\n",
              "        4.54545455,  4.64646465,  4.74747475,  4.84848485,  4.94949495,\n",
              "        5.05050505,  5.15151515,  5.25252525,  5.35353535,  5.45454545,\n",
              "        5.55555556,  5.65656566,  5.75757576,  5.85858586,  5.95959596,\n",
              "        6.06060606,  6.16161616,  6.26262626,  6.36363636,  6.46464646,\n",
              "        6.56565657,  6.66666667,  6.76767677,  6.86868687,  6.96969697,\n",
              "        7.07070707,  7.17171717,  7.27272727,  7.37373737,  7.47474747,\n",
              "        7.57575758,  7.67676768,  7.77777778,  7.87878788,  7.97979798,\n",
              "        8.08080808,  8.18181818,  8.28282828,  8.38383838,  8.48484848,\n",
              "        8.58585859,  8.68686869,  8.78787879,  8.88888889,  8.98989899,\n",
              "        9.09090909,  9.19191919,  9.29292929,  9.39393939,  9.49494949,\n",
              "        9.5959596 ,  9.6969697 ,  9.7979798 ,  9.8989899 , 10.        ])"
            ]
          },
          "metadata": {},
          "execution_count": 24
        }
      ]
    },
    {
      "cell_type": "code",
      "source": [
        "k=z**2 #we changed the variables from x and y to k and z but we are taking the numbers from the array z and squaring them to get k"
      ],
      "metadata": {
        "id": "l-gy_oh3-Sat"
      },
      "execution_count": null,
      "outputs": []
    },
    {
      "cell_type": "code",
      "source": [
        "plt.plot(z,k, marker='o', linestyle= 'none', markerfacecolor= '#333399')\n",
        "#we are graphing the z,k values from above"
      ],
      "metadata": {
        "colab": {
          "base_uri": "https://localhost:8080/"
        },
        "id": "22HCGdPQ-Lmw",
        "outputId": "00f34162-d495-41e6-f962-1104f287e368"
      },
      "execution_count": null,
      "outputs": [
        {
          "output_type": "execute_result",
          "data": {
            "text/plain": [
              "[<matplotlib.lines.Line2D at 0x7f39bc58a610>]"
            ]
          },
          "metadata": {},
          "execution_count": 26
        },
        {
          "output_type": "display_data",
          "data": {
            "text/plain": [
              "<Figure size 432x288 with 1 Axes>"
            ],
            "image/png": "[encoded data removed]"
          },
          "metadata": {
            "needs_background": "light"
          }
        }
      ]
    },
    {
      "cell_type": "code",
      "source": [
        "x=np.linspace(0,5,10) #we are making a new array"
      ],
      "metadata": {
        "id": "VE_LzPUw9jdJ"
      },
      "execution_count": null,
      "outputs": []
    },
    {
      "cell_type": "code",
      "source": [
        "x\n",
        "#establishing that the array is equal to x "
      ],
      "metadata": {
        "colab": {
          "base_uri": "https://localhost:8080/"
        },
        "id": "VXlkqMmo9uUJ",
        "outputId": "844ac27b-91d1-4546-ab4c-9419b8cf08db"
      },
      "execution_count": null,
      "outputs": [
        {
          "output_type": "execute_result",
          "data": {
            "text/plain": [
              "array([0.        , 0.55555556, 1.11111111, 1.66666667, 2.22222222,\n",
              "       2.77777778, 3.33333333, 3.88888889, 4.44444444, 5.        ])"
            ]
          },
          "metadata": {},
          "execution_count": 28
        }
      ]
    },
    {
      "cell_type": "code",
      "source": [
        "y=x**2 #establishing that y is the values of x (array) squared "
      ],
      "metadata": {
        "id": "MMFUbXNr9u0Z"
      },
      "execution_count": null,
      "outputs": []
    },
    {
      "cell_type": "code",
      "source": [
        "y\n",
        "#reestablishing what y values are "
      ],
      "metadata": {
        "colab": {
          "base_uri": "https://localhost:8080/"
        },
        "id": "WCTTD3fe91OJ",
        "outputId": "4c44eaf2-b4c7-4eac-bd2a-8d76f6abd2d7"
      },
      "execution_count": null,
      "outputs": [
        {
          "output_type": "execute_result",
          "data": {
            "text/plain": [
              "array([ 0.        ,  0.30864198,  1.2345679 ,  2.77777778,  4.9382716 ,\n",
              "        7.71604938, 11.11111111, 15.12345679, 19.75308642, 25.        ])"
            ]
          },
          "metadata": {},
          "execution_count": 30
        }
      ]
    },
    {
      "cell_type": "code",
      "source": [
        "plt.plot(x,y, marker='o', linestyle= 'none', markerfacecolor= '#333399') #graphing the x and y values from above "
      ],
      "metadata": {
        "colab": {
          "base_uri": "https://localhost:8080/"
        },
        "id": "MJ99Nnim91kp",
        "outputId": "de52b8d5-63fd-4df7-e2ee-5348cf50e410"
      },
      "execution_count": null,
      "outputs": [
        {
          "output_type": "execute_result",
          "data": {
            "text/plain": [
              "[<matplotlib.lines.Line2D at 0x7f39bc574f90>]"
            ]
          },
          "metadata": {},
          "execution_count": 31
        },
        {
          "output_type": "display_data",
          "data": {
            "text/plain": [
              "<Figure size 432x288 with 1 Axes>"
            ],
            "image/png": "[encoded data removed]"
          },
          "metadata": {
            "needs_background": "light"
          }
        }
      ]
    },
    {
      "cell_type": "code",
      "source": [
        "plt.plot(x,y, marker='o', linestyle= 'none', markerfacecolor= '#ff80c0')\n",
        "plt.title(\"Maddy's First Graph\"); #this allows us to name our graph, the semi colon at the end hides the extra text "
      ],
      "metadata": {
        "colab": {
          "base_uri": "https://localhost:8080/"
        },
        "id": "AtUgxUUP98M6",
        "outputId": "aa9dab44-6bbb-472e-fb9f-90cf9498f52d"
      },
      "execution_count": null,
      "outputs": [
        {
          "output_type": "display_data",
          "data": {
            "text/plain": [
              "<Figure size 432x288 with 1 Axes>"
            ],
            "image/png": "[encoded data removed]"
          },
          "metadata": {
            "needs_background": "light"
          }
        }
      ]
    },
    {
      "cell_type": "code",
      "source": [
        "plt.plot(x,y, marker='o', linestyle= 'none', markerfacecolor= '#ff80c0')\n",
        "plt.title(\"Maddy's First Graph\");\n",
        "plt.xlabel(\"x label goes here\");\n",
        "plt.ylabel(\"y label goes here\"); # these allow us to label both the x an y axis when graphing "
      ],
      "metadata": {
        "colab": {
          "base_uri": "https://localhost:8080/"
        },
        "id": "XW8dlawY_B69",
        "outputId": "51382f34-a6cf-4581-975d-283d9418cd1d"
      },
      "execution_count": null,
      "outputs": [
        {
          "output_type": "display_data",
          "data": {
            "text/plain": [
              "<Figure size 432x288 with 1 Axes>"
            ],
            "image/png": "[encoded data removed]"
          },
          "metadata": {
            "needs_background": "light"
          }
        }
      ]
    },
    {
      "cell_type": "code",
      "source": [
        "plt.plot(x,y, marker='o', linestyle= 'none', markerfacecolor= '#ff80c0', label= 'food')\n",
        "plt.title(\"Maddy's First Graph\");\n",
        "plt.xlabel(\"pizza\");\n",
        "plt.ylabel(\"tacos\");\n",
        "plt.legend(); # make sure to add the parathenses to make sure that you can see the label of the line "
      ],
      "metadata": {
        "colab": {
          "base_uri": "https://localhost:8080/"
        },
        "id": "kO70h5elAK8d",
        "outputId": "650e6a35-c94c-4624-f9c0-c8fee28013b8"
      },
      "execution_count": null,
      "outputs": [
        {
          "output_type": "display_data",
          "data": {
            "text/plain": [
              "<Figure size 432x288 with 1 Axes>"
            ],
            "image/png": "[encoded data removed]"
          },
          "metadata": {
            "needs_background": "light"
          }
        }
      ]
    },
    {
      "cell_type": "code",
      "source": [
        "plt.plot(x,y, marker='o', linestyle= 'none', markerfacecolor= '#ff80c0', label= 'food', )\n",
        "plt.title(\"Maddy's First Graph\");\n",
        "plt.xlabel(\"pizza\");\n",
        "plt.ylabel(\"tacos\");\n",
        "plt.legend();\n",
        "#this is our first full graph \n"
      ],
      "metadata": {
        "colab": {
          "base_uri": "https://localhost:8080/"
        },
        "id": "x36ajN2fAVL9",
        "outputId": "99aa4e33-477a-490e-d43c-a241a65f5632"
      },
      "execution_count": null,
      "outputs": [
        {
          "output_type": "display_data",
          "data": {
            "text/plain": [
              "<Figure size 432x288 with 1 Axes>"
            ],
            "image/png": "[encoded data removed]"
          },
          "metadata": {
            "needs_background": "light"
          }
        }
      ]
    },
    {
      "cell_type": "markdown",
      "source": [
        "# Plotting part 2"
      ],
      "metadata": {
        "id": "TNE8QMnEB-mZ"
      }
    },
    {
      "cell_type": "code",
      "source": [
        "x=np.linspace(0,2,100)\n",
        "\n",
        "plt.title(\"Numbers\");\n",
        "plt.xlabel(\"0-8\");\n",
        "plt.ylabel(\"0-2\");\n",
        "plt.plot(x,x, label='linerar', marker='o',markerfacecolor= '#ff80c0');\n",
        "plt.plot(x,x**2, label='squared',marker='o',markerfacecolor= '#ff80c0' );\n",
        "plt.plot(x,x**3, label= 'cubed', marker='o',markerfacecolor= '#ff80c0');\n",
        "plt.legend();\n",
        "#here we are playing around with color, marker, and label choices "
      ],
      "metadata": {
        "colab": {
          "base_uri": "https://localhost:8080/",
          "height": 295
        },
        "id": "ZIPXjuyDBnmd",
        "outputId": "7f8ecf2f-96ab-4d14-bc64-3f290a8602a1"
      },
      "execution_count": null,
      "outputs": [
        {
          "output_type": "display_data",
          "data": {
            "text/plain": [
              "<Figure size 432x288 with 1 Axes>"
            ],
            "image/png": "[encoded data removed]"
          },
          "metadata": {
            "needs_background": "light"
          }
        }
      ]
    },
    {
      "cell_type": "code",
      "source": [
        "x=np.linspace(0,2,100)\n",
        "\n",
        "plt.title(\"Numbers\");\n",
        "plt.xlabel(\"0-8\");\n",
        "plt.ylabel(\"0-2\");\n",
        "plt.plot(x,x,'r--',label='linerar');\n",
        "plt.plot(x,x**2,'bs', label='squared' );\n",
        "plt.plot(x,x**3, 'g^',label= 'cubed');\n",
        "plt.legend();\n",
        "#here we are playing around with color, marker, and label choices "
      ],
      "metadata": {
        "colab": {
          "base_uri": "https://localhost:8080/",
          "height": 295
        },
        "id": "xFktqrlMCbmA",
        "outputId": "9cc6eb77-57dc-4df7-d8c7-c9fceb3262ff"
      },
      "execution_count": null,
      "outputs": [
        {
          "output_type": "display_data",
          "data": {
            "text/plain": [
              "<Figure size 432x288 with 1 Axes>"
            ],
            "image/png": "[encoded data removed]"
          },
          "metadata": {
            "needs_background": "light"
          }
        }
      ]
    },
    {
      "cell_type": "markdown",
      "source": [
        "#more plotting "
      ],
      "metadata": {
        "id": "wXhPyaJSEsND"
      }
    },
    {
      "cell_type": "code",
      "source": [
        "names=['cat','dog','bird'] #we are establishing the names for our graphs"
      ],
      "metadata": {
        "id": "V3U8HUt-DzHR"
      },
      "execution_count": null,
      "outputs": []
    },
    {
      "cell_type": "code",
      "source": [
        "names #reprinting the names"
      ],
      "metadata": {
        "colab": {
          "base_uri": "https://localhost:8080/"
        },
        "id": "gy3LXcJQE0aB",
        "outputId": "b238a2c9-c7eb-41e2-cd8c-a6e845bc52c1"
      },
      "execution_count": null,
      "outputs": [
        {
          "output_type": "execute_result",
          "data": {
            "text/plain": [
              "['cat', 'dog', 'bird']"
            ]
          },
          "metadata": {},
          "execution_count": 41
        }
      ]
    },
    {
      "cell_type": "code",
      "source": [
        "names[0] #assigning places to the names "
      ],
      "metadata": {
        "colab": {
          "base_uri": "https://localhost:8080/",
          "height": 35
        },
        "id": "4GRnYrh-E1ZR",
        "outputId": "9bf2181c-66d2-44ea-8a86-35bb8922677e"
      },
      "execution_count": null,
      "outputs": [
        {
          "output_type": "execute_result",
          "data": {
            "text/plain": [
              "'cat'"
            ],
            "application/vnd.google.colaboratory.intrinsic+json": {
              "type": "string"
            }
          },
          "metadata": {},
          "execution_count": 42
        }
      ]
    },
    {
      "cell_type": "code",
      "source": [
        "names[1] #assigning places to the names "
      ],
      "metadata": {
        "colab": {
          "base_uri": "https://localhost:8080/",
          "height": 35
        },
        "id": "pX9Ep7GvE4ER",
        "outputId": "8133958a-4057-49d3-cb82-3427efd40218"
      },
      "execution_count": null,
      "outputs": [
        {
          "output_type": "execute_result",
          "data": {
            "text/plain": [
              "'dog'"
            ],
            "application/vnd.google.colaboratory.intrinsic+json": {
              "type": "string"
            }
          },
          "metadata": {},
          "execution_count": 43
        }
      ]
    },
    {
      "cell_type": "code",
      "source": [
        "names[2]#assigning places to the names "
      ],
      "metadata": {
        "colab": {
          "base_uri": "https://localhost:8080/",
          "height": 35
        },
        "id": "PxZe1_iIE68R",
        "outputId": "028461c0-5bdd-4f94-fddc-340de6994265"
      },
      "execution_count": null,
      "outputs": [
        {
          "output_type": "execute_result",
          "data": {
            "text/plain": [
              "'bird'"
            ],
            "application/vnd.google.colaboratory.intrinsic+json": {
              "type": "string"
            }
          },
          "metadata": {},
          "execution_count": 44
        }
      ]
    },
    {
      "cell_type": "code",
      "source": [
        "values=[15,18,6]#assigning values to the names "
      ],
      "metadata": {
        "id": "aC-6sgaQE75B"
      },
      "execution_count": null,
      "outputs": []
    },
    {
      "cell_type": "code",
      "source": [
        "values #reprinting values to the names "
      ],
      "metadata": {
        "colab": {
          "base_uri": "https://localhost:8080/"
        },
        "id": "Xp7pULK-FAhR",
        "outputId": "a830a628-42d6-4c1a-e013-41656c00477e"
      },
      "execution_count": null,
      "outputs": [
        {
          "output_type": "execute_result",
          "data": {
            "text/plain": [
              "[15, 18, 6]"
            ]
          },
          "metadata": {},
          "execution_count": 46
        }
      ]
    },
    {
      "cell_type": "code",
      "source": [
        "values[0] #reprinting values to the names "
      ],
      "metadata": {
        "colab": {
          "base_uri": "https://localhost:8080/"
        },
        "id": "pSvSKnJCFBCh",
        "outputId": "4814ad20-5f37-4e81-c7fe-7d35be31106f"
      },
      "execution_count": null,
      "outputs": [
        {
          "output_type": "execute_result",
          "data": {
            "text/plain": [
              "15"
            ]
          },
          "metadata": {},
          "execution_count": 47
        }
      ]
    },
    {
      "cell_type": "code",
      "source": [
        "values[1] #reprinting values to the names "
      ],
      "metadata": {
        "colab": {
          "base_uri": "https://localhost:8080/"
        },
        "id": "_Kquih5SFCLR",
        "outputId": "c903edd5-446c-4de5-878c-356b14e387a5"
      },
      "execution_count": null,
      "outputs": [
        {
          "output_type": "execute_result",
          "data": {
            "text/plain": [
              "18"
            ]
          },
          "metadata": {},
          "execution_count": 48
        }
      ]
    },
    {
      "cell_type": "code",
      "source": [
        "values[2] #reprinting values to the names "
      ],
      "metadata": {
        "colab": {
          "base_uri": "https://localhost:8080/"
        },
        "id": "3TOBg5CQFDGx",
        "outputId": "9ed7ea21-d9a5-4ed2-b15d-3d4bbcc7627a"
      },
      "execution_count": null,
      "outputs": [
        {
          "output_type": "execute_result",
          "data": {
            "text/plain": [
              "6"
            ]
          },
          "metadata": {},
          "execution_count": 49
        }
      ]
    },
    {
      "cell_type": "code",
      "source": [
        "#graphing the names and values from above in different styles \n",
        "plt.figure(1,figsize=(10,10))\n",
        "\n",
        "plt.subplot(1,3,1) # 1 row 3 coloms, plot your trying to fill in \n",
        "plt.bar(names,values) #this allows us to show sizes and make a bar graph\n",
        "\n",
        "plt.subplot(1,3,2)\n",
        "plt.scatter(names,values) #scatter plot \n",
        "\n",
        "plt.subplot(1,3,3)\n",
        "plt.plot(names,values) #line plot"
      ],
      "metadata": {
        "colab": {
          "base_uri": "https://localhost:8080/",
          "height": 610
        },
        "id": "Md27GkZSFDrQ",
        "outputId": "3914c220-e979-4115-aa19-2c19cdf8dff0"
      },
      "execution_count": null,
      "outputs": [
        {
          "output_type": "execute_result",
          "data": {
            "text/plain": [
              "[<matplotlib.lines.Line2D at 0x7f39bc136710>]"
            ]
          },
          "metadata": {},
          "execution_count": 50
        },
        {
          "output_type": "display_data",
          "data": {
            "text/plain": [
              "<Figure size 720x720 with 3 Axes>"
            ],
            "image/png": "[encoded data removed]"
          },
          "metadata": {
            "needs_background": "light"
          }
        }
      ]
    },
    {
      "cell_type": "code",
      "source": [
        "#graphing the names and values from above in different styles \n",
        "plt.figure(1,figsize=(10,10))\n",
        "\n",
        "plt.subplot(2,2,1) # 1 row 3 coloms, plot your trying to fill in \n",
        "plt.bar(names,values) #this allows us to show sizes and make a bar graph\n",
        "\n",
        "plt.subplot(2,2,2)\n",
        "plt.scatter(names,values) #scatter plot \n",
        "\n",
        "plt.subplot(2,2,3)\n",
        "plt.plot(names,values) #line plot\n",
        "\n",
        "plt.subplot(2,2,4)\n",
        "plt.plot(names,values)"
      ],
      "metadata": {
        "id": "P7sVe4kQFWPC",
        "colab": {
          "base_uri": "https://localhost:8080/",
          "height": 610
        },
        "outputId": "2e103a05-2808-454f-aaf6-e1ddbdc988d4"
      },
      "execution_count": null,
      "outputs": [
        {
          "output_type": "execute_result",
          "data": {
            "text/plain": [
              "[<matplotlib.lines.Line2D at 0x7f39bc3fe990>]"
            ]
          },
          "metadata": {},
          "execution_count": 52
        },
        {
          "output_type": "display_data",
          "data": {
            "text/plain": [
              "<Figure size 720x720 with 4 Axes>"
            ],
            "image/png": "[encoded data removed]"
          },
          "metadata": {
            "needs_background": "light"
          }
        }
      ]
    },
    {
      "cell_type": "markdown",
      "source": [
        "# Exercises "
      ],
      "metadata": {
        "id": "iLof9jmPhMUJ"
      }
    },
    {
      "cell_type": "code",
      "source": [
        "import numpy as np\n",
        "import matplotlib.pyplot as plt\n"
      ],
      "metadata": {
        "id": "V2YlvZvtjEBS"
      },
      "execution_count": 3,
      "outputs": []
    },
    {
      "cell_type": "code",
      "source": [
        "np.linspace (-10,10,100)"
      ],
      "metadata": {
        "colab": {
          "base_uri": "https://localhost:8080/"
        },
        "id": "YHOITSn_jQLu",
        "outputId": "24d785af-bbd7-45c9-dd44-8882c83b98b8"
      },
      "execution_count": 4,
      "outputs": [
        {
          "output_type": "execute_result",
          "data": {
            "text/plain": [
              "array([-10.        ,  -9.7979798 ,  -9.5959596 ,  -9.39393939,\n",
              "        -9.19191919,  -8.98989899,  -8.78787879,  -8.58585859,\n",
              "        -8.38383838,  -8.18181818,  -7.97979798,  -7.77777778,\n",
              "        -7.57575758,  -7.37373737,  -7.17171717,  -6.96969697,\n",
              "        -6.76767677,  -6.56565657,  -6.36363636,  -6.16161616,\n",
              "        -5.95959596,  -5.75757576,  -5.55555556,  -5.35353535,\n",
              "        -5.15151515,  -4.94949495,  -4.74747475,  -4.54545455,\n",
              "        -4.34343434,  -4.14141414,  -3.93939394,  -3.73737374,\n",
              "        -3.53535354,  -3.33333333,  -3.13131313,  -2.92929293,\n",
              "        -2.72727273,  -2.52525253,  -2.32323232,  -2.12121212,\n",
              "        -1.91919192,  -1.71717172,  -1.51515152,  -1.31313131,\n",
              "        -1.11111111,  -0.90909091,  -0.70707071,  -0.50505051,\n",
              "        -0.3030303 ,  -0.1010101 ,   0.1010101 ,   0.3030303 ,\n",
              "         0.50505051,   0.70707071,   0.90909091,   1.11111111,\n",
              "         1.31313131,   1.51515152,   1.71717172,   1.91919192,\n",
              "         2.12121212,   2.32323232,   2.52525253,   2.72727273,\n",
              "         2.92929293,   3.13131313,   3.33333333,   3.53535354,\n",
              "         3.73737374,   3.93939394,   4.14141414,   4.34343434,\n",
              "         4.54545455,   4.74747475,   4.94949495,   5.15151515,\n",
              "         5.35353535,   5.55555556,   5.75757576,   5.95959596,\n",
              "         6.16161616,   6.36363636,   6.56565657,   6.76767677,\n",
              "         6.96969697,   7.17171717,   7.37373737,   7.57575758,\n",
              "         7.77777778,   7.97979798,   8.18181818,   8.38383838,\n",
              "         8.58585859,   8.78787879,   8.98989899,   9.19191919,\n",
              "         9.39393939,   9.5959596 ,   9.7979798 ,  10.        ])"
            ]
          },
          "metadata": {},
          "execution_count": 4
        }
      ]
    },
    {
      "cell_type": "code",
      "source": [
        "x= np.linspace(-10,10,100)"
      ],
      "metadata": {
        "id": "nnPtI5BjjQIz"
      },
      "execution_count": 7,
      "outputs": []
    },
    {
      "cell_type": "code",
      "source": [
        "\n",
        "x\n"
      ],
      "metadata": {
        "colab": {
          "base_uri": "https://localhost:8080/"
        },
        "id": "tqwpEMrxjP0O",
        "outputId": "2590839a-0b13-42e7-d30f-a9a062410373"
      },
      "execution_count": 8,
      "outputs": [
        {
          "output_type": "execute_result",
          "data": {
            "text/plain": [
              "array([-10.        ,  -9.7979798 ,  -9.5959596 ,  -9.39393939,\n",
              "        -9.19191919,  -8.98989899,  -8.78787879,  -8.58585859,\n",
              "        -8.38383838,  -8.18181818,  -7.97979798,  -7.77777778,\n",
              "        -7.57575758,  -7.37373737,  -7.17171717,  -6.96969697,\n",
              "        -6.76767677,  -6.56565657,  -6.36363636,  -6.16161616,\n",
              "        -5.95959596,  -5.75757576,  -5.55555556,  -5.35353535,\n",
              "        -5.15151515,  -4.94949495,  -4.74747475,  -4.54545455,\n",
              "        -4.34343434,  -4.14141414,  -3.93939394,  -3.73737374,\n",
              "        -3.53535354,  -3.33333333,  -3.13131313,  -2.92929293,\n",
              "        -2.72727273,  -2.52525253,  -2.32323232,  -2.12121212,\n",
              "        -1.91919192,  -1.71717172,  -1.51515152,  -1.31313131,\n",
              "        -1.11111111,  -0.90909091,  -0.70707071,  -0.50505051,\n",
              "        -0.3030303 ,  -0.1010101 ,   0.1010101 ,   0.3030303 ,\n",
              "         0.50505051,   0.70707071,   0.90909091,   1.11111111,\n",
              "         1.31313131,   1.51515152,   1.71717172,   1.91919192,\n",
              "         2.12121212,   2.32323232,   2.52525253,   2.72727273,\n",
              "         2.92929293,   3.13131313,   3.33333333,   3.53535354,\n",
              "         3.73737374,   3.93939394,   4.14141414,   4.34343434,\n",
              "         4.54545455,   4.74747475,   4.94949495,   5.15151515,\n",
              "         5.35353535,   5.55555556,   5.75757576,   5.95959596,\n",
              "         6.16161616,   6.36363636,   6.56565657,   6.76767677,\n",
              "         6.96969697,   7.17171717,   7.37373737,   7.57575758,\n",
              "         7.77777778,   7.97979798,   8.18181818,   8.38383838,\n",
              "         8.58585859,   8.78787879,   8.98989899,   9.19191919,\n",
              "         9.39393939,   9.5959596 ,   9.7979798 ,  10.        ])"
            ]
          },
          "metadata": {},
          "execution_count": 8
        }
      ]
    },
    {
      "cell_type": "code",
      "source": [
        "y=10*x+7"
      ],
      "metadata": {
        "id": "5RvgsP_LhOBK"
      },
      "execution_count": 9,
      "outputs": []
    },
    {
      "cell_type": "code",
      "source": [
        "y\n"
      ],
      "metadata": {
        "colab": {
          "base_uri": "https://localhost:8080/"
        },
        "id": "SlCZd4Obi37i",
        "outputId": "238ad918-f761-41c5-9503-3f69bfda6592"
      },
      "execution_count": 10,
      "outputs": [
        {
          "output_type": "execute_result",
          "data": {
            "text/plain": [
              "array([-9.30000000e+01, -9.09797980e+01, -8.89595960e+01, -8.69393939e+01,\n",
              "       -8.49191919e+01, -8.28989899e+01, -8.08787879e+01, -7.88585859e+01,\n",
              "       -7.68383838e+01, -7.48181818e+01, -7.27979798e+01, -7.07777778e+01,\n",
              "       -6.87575758e+01, -6.67373737e+01, -6.47171717e+01, -6.26969697e+01,\n",
              "       -6.06767677e+01, -5.86565657e+01, -5.66363636e+01, -5.46161616e+01,\n",
              "       -5.25959596e+01, -5.05757576e+01, -4.85555556e+01, -4.65353535e+01,\n",
              "       -4.45151515e+01, -4.24949495e+01, -4.04747475e+01, -3.84545455e+01,\n",
              "       -3.64343434e+01, -3.44141414e+01, -3.23939394e+01, -3.03737374e+01,\n",
              "       -2.83535354e+01, -2.63333333e+01, -2.43131313e+01, -2.22929293e+01,\n",
              "       -2.02727273e+01, -1.82525253e+01, -1.62323232e+01, -1.42121212e+01,\n",
              "       -1.21919192e+01, -1.01717172e+01, -8.15151515e+00, -6.13131313e+00,\n",
              "       -4.11111111e+00, -2.09090909e+00, -7.07070707e-02,  1.94949495e+00,\n",
              "        3.96969697e+00,  5.98989899e+00,  8.01010101e+00,  1.00303030e+01,\n",
              "        1.20505051e+01,  1.40707071e+01,  1.60909091e+01,  1.81111111e+01,\n",
              "        2.01313131e+01,  2.21515152e+01,  2.41717172e+01,  2.61919192e+01,\n",
              "        2.82121212e+01,  3.02323232e+01,  3.22525253e+01,  3.42727273e+01,\n",
              "        3.62929293e+01,  3.83131313e+01,  4.03333333e+01,  4.23535354e+01,\n",
              "        4.43737374e+01,  4.63939394e+01,  4.84141414e+01,  5.04343434e+01,\n",
              "        5.24545455e+01,  5.44747475e+01,  5.64949495e+01,  5.85151515e+01,\n",
              "        6.05353535e+01,  6.25555556e+01,  6.45757576e+01,  6.65959596e+01,\n",
              "        6.86161616e+01,  7.06363636e+01,  7.26565657e+01,  7.46767677e+01,\n",
              "        7.66969697e+01,  7.87171717e+01,  8.07373737e+01,  8.27575758e+01,\n",
              "        8.47777778e+01,  8.67979798e+01,  8.88181818e+01,  9.08383838e+01,\n",
              "        9.28585859e+01,  9.48787879e+01,  9.68989899e+01,  9.89191919e+01,\n",
              "        1.00939394e+02,  1.02959596e+02,  1.04979798e+02,  1.07000000e+02])"
            ]
          },
          "metadata": {},
          "execution_count": 10
        }
      ]
    },
    {
      "cell_type": "code",
      "source": [
        "plt.plot (x,y)\n",
        "plt.title(\"Graph of y=10x+7\");\n",
        "plt.xlabel(\"x\");\n",
        "plt.ylabel(\"y\");\n"
      ],
      "metadata": {
        "colab": {
          "base_uri": "https://localhost:8080/",
          "height": 295
        },
        "id": "YH3_C3NhkG-F",
        "outputId": "2fb483f3-d5bc-41de-c768-3347b55842b8"
      },
      "execution_count": 11,
      "outputs": [
        {
          "output_type": "display_data",
          "data": {
            "text/plain": [
              "<Figure size 432x288 with 1 Axes>"
            ],
            "image/png": "[encoded data removed]"
          },
          "metadata": {
            "needs_background": "light"
          }
        }
      ]
    },
    {
      "cell_type": "code",
      "source": [
        "y=-3*x-12"
      ],
      "metadata": {
        "id": "NsmRwkHLkr4c"
      },
      "execution_count": 12,
      "outputs": []
    },
    {
      "cell_type": "code",
      "source": [
        "y"
      ],
      "metadata": {
        "colab": {
          "base_uri": "https://localhost:8080/"
        },
        "id": "wa-207fglQVJ",
        "outputId": "8292a8bb-3ff8-4788-8aa1-899b4ae6d207"
      },
      "execution_count": 13,
      "outputs": [
        {
          "output_type": "execute_result",
          "data": {
            "text/plain": [
              "array([ 18.        ,  17.39393939,  16.78787879,  16.18181818,\n",
              "        15.57575758,  14.96969697,  14.36363636,  13.75757576,\n",
              "        13.15151515,  12.54545455,  11.93939394,  11.33333333,\n",
              "        10.72727273,  10.12121212,   9.51515152,   8.90909091,\n",
              "         8.3030303 ,   7.6969697 ,   7.09090909,   6.48484848,\n",
              "         5.87878788,   5.27272727,   4.66666667,   4.06060606,\n",
              "         3.45454545,   2.84848485,   2.24242424,   1.63636364,\n",
              "         1.03030303,   0.42424242,  -0.18181818,  -0.78787879,\n",
              "        -1.39393939,  -2.        ,  -2.60606061,  -3.21212121,\n",
              "        -3.81818182,  -4.42424242,  -5.03030303,  -5.63636364,\n",
              "        -6.24242424,  -6.84848485,  -7.45454545,  -8.06060606,\n",
              "        -8.66666667,  -9.27272727,  -9.87878788, -10.48484848,\n",
              "       -11.09090909, -11.6969697 , -12.3030303 , -12.90909091,\n",
              "       -13.51515152, -14.12121212, -14.72727273, -15.33333333,\n",
              "       -15.93939394, -16.54545455, -17.15151515, -17.75757576,\n",
              "       -18.36363636, -18.96969697, -19.57575758, -20.18181818,\n",
              "       -20.78787879, -21.39393939, -22.        , -22.60606061,\n",
              "       -23.21212121, -23.81818182, -24.42424242, -25.03030303,\n",
              "       -25.63636364, -26.24242424, -26.84848485, -27.45454545,\n",
              "       -28.06060606, -28.66666667, -29.27272727, -29.87878788,\n",
              "       -30.48484848, -31.09090909, -31.6969697 , -32.3030303 ,\n",
              "       -32.90909091, -33.51515152, -34.12121212, -34.72727273,\n",
              "       -35.33333333, -35.93939394, -36.54545455, -37.15151515,\n",
              "       -37.75757576, -38.36363636, -38.96969697, -39.57575758,\n",
              "       -40.18181818, -40.78787879, -41.39393939, -42.        ])"
            ]
          },
          "metadata": {},
          "execution_count": 13
        }
      ]
    },
    {
      "cell_type": "code",
      "source": [
        "plt.plot (x,y)\n",
        "plt.title(\"Graph of y=-3x-12\");\n",
        "plt.xlabel(\"x\");\n",
        "plt.ylabel(\"y\");"
      ],
      "metadata": {
        "colab": {
          "base_uri": "https://localhost:8080/",
          "height": 295
        },
        "id": "ZgfqpvVmlRGo",
        "outputId": "66035990-c398-42f5-889d-635e4bd27db6"
      },
      "execution_count": 14,
      "outputs": [
        {
          "output_type": "display_data",
          "data": {
            "text/plain": [
              "<Figure size 432x288 with 1 Axes>"
            ],
            "image/png": "[encoded data removed]"
          },
          "metadata": {
            "needs_background": "light"
          }
        }
      ]
    },
    {
      "cell_type": "code",
      "source": [
        "y= np.sin(x)"
      ],
      "metadata": {
        "id": "QBC29fu1lU_1"
      },
      "execution_count": 15,
      "outputs": []
    },
    {
      "cell_type": "code",
      "source": [
        "y"
      ],
      "metadata": {
        "colab": {
          "base_uri": "https://localhost:8080/"
        },
        "id": "C3h0PBNJnmer",
        "outputId": "0c24e61f-8ee0-4fc7-cfae-4dfac7b4f0cb"
      },
      "execution_count": 16,
      "outputs": [
        {
          "output_type": "execute_result",
          "data": {
            "text/plain": [
              "array([ 0.54402111,  0.36459873,  0.17034683, -0.03083368, -0.23076008,\n",
              "       -0.42130064, -0.59470541, -0.74392141, -0.86287948, -0.94674118,\n",
              "       -0.99209556, -0.99709789, -0.96154471, -0.8868821 , -0.77614685,\n",
              "       -0.63384295, -0.46575841, -0.27872982, -0.0803643 ,  0.12126992,\n",
              "        0.31797166,  0.50174037,  0.66510151,  0.80141062,  0.90512352,\n",
              "        0.97202182,  0.99938456,  0.98609877,  0.93270486,  0.84137452,\n",
              "        0.7158225 ,  0.56115544,  0.38366419,  0.19056796, -0.01027934,\n",
              "       -0.21070855, -0.40256749, -0.57805259, -0.73002623, -0.85230712,\n",
              "       -0.93992165, -0.98930624, -0.99845223, -0.96698762, -0.8961922 ,\n",
              "       -0.78894546, -0.64960951, -0.48385164, -0.2984138 , -0.10083842,\n",
              "        0.10083842,  0.2984138 ,  0.48385164,  0.64960951,  0.78894546,\n",
              "        0.8961922 ,  0.96698762,  0.99845223,  0.98930624,  0.93992165,\n",
              "        0.85230712,  0.73002623,  0.57805259,  0.40256749,  0.21070855,\n",
              "        0.01027934, -0.19056796, -0.38366419, -0.56115544, -0.7158225 ,\n",
              "       -0.84137452, -0.93270486, -0.98609877, -0.99938456, -0.97202182,\n",
              "       -0.90512352, -0.80141062, -0.66510151, -0.50174037, -0.31797166,\n",
              "       -0.12126992,  0.0803643 ,  0.27872982,  0.46575841,  0.63384295,\n",
              "        0.77614685,  0.8868821 ,  0.96154471,  0.99709789,  0.99209556,\n",
              "        0.94674118,  0.86287948,  0.74392141,  0.59470541,  0.42130064,\n",
              "        0.23076008,  0.03083368, -0.17034683, -0.36459873, -0.54402111])"
            ]
          },
          "metadata": {},
          "execution_count": 16
        }
      ]
    },
    {
      "cell_type": "code",
      "source": [
        "plt.plot (x,y)\n",
        "plt.title(\"Graph of y=sin(x)\");\n",
        "plt.xlabel(\"x\");\n",
        "plt.ylabel(\"y\");"
      ],
      "metadata": {
        "colab": {
          "base_uri": "https://localhost:8080/",
          "height": 295
        },
        "id": "vuK7-Ww2nngI",
        "outputId": "81d82e68-e8b0-422c-eb4d-05c23c6fde36"
      },
      "execution_count": 17,
      "outputs": [
        {
          "output_type": "display_data",
          "data": {
            "text/plain": [
              "<Figure size 432x288 with 1 Axes>"
            ],
            "image/png": "[encoded data removed]"
          },
          "metadata": {
            "needs_background": "light"
          }
        }
      ]
    },
    {
      "cell_type": "code",
      "source": [
        "y=np.exp(x)\n"
      ],
      "metadata": {
        "id": "GMYdEWA5nsjm"
      },
      "execution_count": 18,
      "outputs": []
    },
    {
      "cell_type": "code",
      "source": [
        "y"
      ],
      "metadata": {
        "colab": {
          "base_uri": "https://localhost:8080/"
        },
        "id": "Rs1q_7Rqn0nf",
        "outputId": "36d9a5f3-99bf-414c-b23e-9054cbbf8011"
      },
      "execution_count": 19,
      "outputs": [
        {
          "output_type": "execute_result",
          "data": {
            "text/plain": [
              "array([4.53999298e-05, 5.55637361e-05, 6.80029415e-05, 8.32269459e-05,\n",
              "       1.01859190e-04, 1.24662685e-04, 1.52571261e-04, 1.86727806e-04,\n",
              "       2.28531070e-04, 2.79692945e-04, 3.42308569e-04, 4.18942123e-04,\n",
              "       5.12731841e-04, 6.27518520e-04, 7.68002806e-04, 9.39937692e-04,\n",
              "       1.15036411e-03, 1.40789927e-03, 1.72308953e-03, 2.10884229e-03,\n",
              "       2.58095457e-03, 3.15875992e-03, 3.86592014e-03, 4.73139424e-03,\n",
              "       5.79062440e-03, 7.08698731e-03, 8.67357053e-03, 1.06153465e-02,\n",
              "       1.29918331e-02, 1.59003503e-02, 1.94600051e-02, 2.38165696e-02,\n",
              "       2.91484502e-02, 3.56739933e-02, 4.36604277e-02, 5.34348070e-02,\n",
              "       6.53974032e-02, 8.00380986e-02, 9.79564464e-02, 1.19886224e-01,\n",
              "       1.46725480e-01, 1.79573314e-01, 2.19774883e-01, 2.68976487e-01,\n",
              "       3.29192988e-01, 4.02890322e-01, 4.93086479e-01, 6.03475096e-01,\n",
              "       7.38576715e-01, 9.03923902e-01, 1.10628782e+00, 1.35395549e+00,\n",
              "       1.65706921e+00, 2.02804182e+00, 2.48206508e+00, 3.03773178e+00,\n",
              "       3.71779709e+00, 4.55011049e+00, 5.56875615e+00, 6.81544881e+00,\n",
              "       8.34124196e+00, 1.02086186e+01, 1.24940499e+01, 1.52911270e+01,\n",
              "       1.87143934e+01, 2.29040358e+01, 2.80316249e+01, 3.43071414e+01,\n",
              "       4.19875748e+01, 5.13874480e+01, 6.28916963e+01, 7.69714323e+01,\n",
              "       9.42032371e+01, 1.15292773e+02, 1.41103681e+02, 1.72692948e+02,\n",
              "       2.11354190e+02, 2.58670631e+02, 3.16579931e+02, 3.87453546e+02,\n",
              "       4.74193830e+02, 5.80352898e+02, 7.10278087e+02, 8.69289984e+02,\n",
              "       1.06390031e+03, 1.30207858e+03, 1.59357847e+03, 1.95033723e+03,\n",
              "       2.38696456e+03, 2.92134083e+03, 3.57534939e+03, 4.37577263e+03,\n",
              "       5.35538880e+03, 6.55431433e+03, 8.02164659e+03, 9.81747453e+03,\n",
              "       1.20153394e+04, 1.47052462e+04, 1.79973499e+04, 2.20264658e+04])"
            ]
          },
          "metadata": {},
          "execution_count": 19
        }
      ]
    },
    {
      "cell_type": "code",
      "source": [
        "plt.plot (x,y)\n",
        "plt.title(\"Graph of y=e^x\");\n",
        "plt.xlabel(\"x\");\n",
        "plt.ylabel(\"y\");"
      ],
      "metadata": {
        "colab": {
          "base_uri": "https://localhost:8080/",
          "height": 295
        },
        "id": "dwtZU2mhn3lN",
        "outputId": "fba9e4ac-6058-41db-8fd2-54d9e851dfc4"
      },
      "execution_count": 20,
      "outputs": [
        {
          "output_type": "display_data",
          "data": {
            "text/plain": [
              "<Figure size 432x288 with 1 Axes>"
            ],
            "image/png": "[encoded data removed]"
          },
          "metadata": {
            "needs_background": "light"
          }
        }
      ]
    },
    {
      "cell_type": "code",
      "source": [
        "y=np.exp(-x**2)"
      ],
      "metadata": {
        "id": "k4K3yRABoN9n"
      },
      "execution_count": 23,
      "outputs": []
    },
    {
      "cell_type": "code",
      "source": [
        "y\n"
      ],
      "metadata": {
        "colab": {
          "base_uri": "https://localhost:8080/"
        },
        "id": "DatCIpfkofuU",
        "outputId": "a347173d-9600-485f-df31-933fb48198c0"
      },
      "execution_count": 24,
      "outputs": [
        {
          "output_type": "execute_result",
          "data": {
            "text/plain": [
              "array([3.72007598e-44, 2.03026390e-42, 1.02118442e-40, 4.73376699e-39,\n",
              "       2.02236984e-37, 7.96279046e-36, 2.88948872e-34, 9.66335032e-33,\n",
              "       2.97841666e-31, 8.46046409e-30, 2.21489900e-28, 5.34397817e-27,\n",
              "       1.18830091e-25, 2.43522554e-24, 4.59941880e-23, 8.00603952e-22,\n",
              "       1.28435035e-20, 1.89889213e-19, 2.58742690e-18, 3.24927813e-17,\n",
              "       3.76059612e-16, 4.01122945e-15, 3.94320471e-14, 3.57249927e-13,\n",
              "       2.98295005e-12, 2.29546576e-11, 1.62797100e-10, 1.06407812e-09,\n",
              "       6.40990174e-09, 3.55860870e-08, 1.82079103e-07, 8.58600196e-07,\n",
              "       3.73140910e-06, 1.49453385e-05, 5.51683065e-05, 1.87682835e-04,\n",
              "       5.88451217e-04, 1.70038545e-03, 4.52830117e-03, 1.11140983e-02,\n",
              "       2.51399360e-02, 5.24089078e-02, 1.00692485e-01, 1.78295348e-01,\n",
              "       2.90960459e-01, 4.37601640e-01, 6.06561603e-01, 7.74857597e-01,\n",
              "       9.12262625e-01, 9.89848834e-01, 9.89848834e-01, 9.12262625e-01,\n",
              "       7.74857597e-01, 6.06561603e-01, 4.37601640e-01, 2.90960459e-01,\n",
              "       1.78295348e-01, 1.00692485e-01, 5.24089078e-02, 2.51399360e-02,\n",
              "       1.11140983e-02, 4.52830117e-03, 1.70038545e-03, 5.88451217e-04,\n",
              "       1.87682835e-04, 5.51683065e-05, 1.49453385e-05, 3.73140910e-06,\n",
              "       8.58600196e-07, 1.82079103e-07, 3.55860870e-08, 6.40990174e-09,\n",
              "       1.06407812e-09, 1.62797100e-10, 2.29546576e-11, 2.98295005e-12,\n",
              "       3.57249927e-13, 3.94320471e-14, 4.01122945e-15, 3.76059612e-16,\n",
              "       3.24927813e-17, 2.58742690e-18, 1.89889213e-19, 1.28435035e-20,\n",
              "       8.00603952e-22, 4.59941880e-23, 2.43522554e-24, 1.18830091e-25,\n",
              "       5.34397817e-27, 2.21489900e-28, 8.46046409e-30, 2.97841666e-31,\n",
              "       9.66335032e-33, 2.88948872e-34, 7.96279046e-36, 2.02236984e-37,\n",
              "       4.73376699e-39, 1.02118442e-40, 2.03026390e-42, 3.72007598e-44])"
            ]
          },
          "metadata": {},
          "execution_count": 24
        }
      ]
    },
    {
      "cell_type": "code",
      "source": [
        "plt.plot (x,y)\n",
        "plt.title(\"Graph of y=-x^2\");\n",
        "plt.xlabel(\"x\");\n",
        "plt.ylabel(\"y\");"
      ],
      "metadata": {
        "colab": {
          "base_uri": "https://localhost:8080/",
          "height": 295
        },
        "id": "_d98RhB2p9mg",
        "outputId": "f0d79da6-94e9-4c49-d69e-4f81f19793f6"
      },
      "execution_count": 25,
      "outputs": [
        {
          "output_type": "display_data",
          "data": {
            "text/plain": [
              "<Figure size 432x288 with 1 Axes>"
            ],
            "image/png": "[encoded data removed]"
          },
          "metadata": {
            "needs_background": "light"
          }
        }
      ]
    },
    {
      "cell_type": "code",
      "source": [],
      "metadata": {
        "id": "FnaffmMCqHhV"
      },
      "execution_count": null,
      "outputs": []
    }
  ]
}