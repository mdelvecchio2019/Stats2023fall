{
  "nbformat": 4,
  "nbformat_minor": 0,
  "metadata": {
    "colab": {
      "provenance": [],
      "authorship_tag": "ABX9TyPLo5+AVLOyNY8LL2tZFjbf",
      "include_colab_link": true
    },
    "kernelspec": {
      "name": "python3",
      "display_name": "Python 3"
    },
    "language_info": {
      "name": "python"
    }
  },
  "cells": [
    {
      "cell_type": "markdown",
      "metadata": {
        "id": "view-in-github",
        "colab_type": "text"
      },
      "source": [
        "<a href=\"https://colab.research.google.com/github/mdelvecchio2019/Stats2023fall/blob/main/Stats2023_Delvecchio%2C_Maddy_Assignment_1.ipynb\" target=\"_parent\"><img src=\"https://colab.research.google.com/assets/colab-badge.svg\" alt=\"Open In Colab\"/></a>"
      ]
    },
    {
      "cell_type": "markdown",
      "source": [
        "Lab #1 notebook "
      ],
      "metadata": {
        "id": "O3E1nryFwvYN"
      }
    },
    {
      "cell_type": "markdown",
      "source": [
        "#Basic Math"
      ],
      "metadata": {
        "id": "E-PAnRb625kG"
      }
    },
    {
      "cell_type": "code",
      "execution_count": null,
      "metadata": {
        "colab": {
          "base_uri": "https://localhost:8080/"
        },
        "id": "hSoX3L2-wMrP",
        "outputId": "cce0ee79-8608-4754-e729-506742fd0005"
      },
      "outputs": [
        {
          "output_type": "execute_result",
          "data": {
            "text/plain": [
              "4"
            ]
          },
          "metadata": {},
          "execution_count": 1
        }
      ],
      "source": [
        "2+2 #here we are establishing an equation 2+2 the outcome is 4 "
      ]
    },
    {
      "cell_type": "code",
      "source": [
        "2*24 #here we are establishing an equation 2*24 the outcome is 48"
      ],
      "metadata": {
        "colab": {
          "base_uri": "https://localhost:8080/"
        },
        "id": "bcnFUt93xX7U",
        "outputId": "f0d5fb9e-23de-49b5-9f45-e995ffb2f99b"
      },
      "execution_count": null,
      "outputs": [
        {
          "output_type": "execute_result",
          "data": {
            "text/plain": [
              "48"
            ]
          },
          "metadata": {},
          "execution_count": 2
        }
      ]
    },
    {
      "cell_type": "code",
      "source": [
        "2**8 #here we are establishing an equation 2^8 )2 to the 8th power) the outcome is 256"
      ],
      "metadata": {
        "colab": {
          "base_uri": "https://localhost:8080/"
        },
        "id": "vhcOy1vYxX-V",
        "outputId": "358b4b0e-b3f2-426f-aa91-baee7c548901"
      },
      "execution_count": null,
      "outputs": [
        {
          "output_type": "execute_result",
          "data": {
            "text/plain": [
              "256"
            ]
          },
          "metadata": {},
          "execution_count": 1
        }
      ]
    },
    {
      "cell_type": "code",
      "source": [
        "8/4 #here we are establishing an equation 8/4 the outcome is 2.0, the singular slash give us a decimal remainder\n"
      ],
      "metadata": {
        "colab": {
          "base_uri": "https://localhost:8080/"
        },
        "id": "9mvTHyjkxYB1",
        "outputId": "3d0e39e8-b9f5-4767-c3ea-3ef4a01e869a"
      },
      "execution_count": null,
      "outputs": [
        {
          "output_type": "execute_result",
          "data": {
            "text/plain": [
              "2.0"
            ]
          },
          "metadata": {},
          "execution_count": 5
        }
      ]
    },
    {
      "cell_type": "code",
      "source": [
        "8//4 #here we are establishing an equation 8/4 the outcome is 2.0, adding a double slash gives us the whole number and ignores the remainder of the number \n"
      ],
      "metadata": {
        "colab": {
          "base_uri": "https://localhost:8080/"
        },
        "id": "sbu0_EqpxYEm",
        "outputId": "a88ac9fb-a479-44e8-fef9-bc6344887f81"
      },
      "execution_count": null,
      "outputs": [
        {
          "output_type": "execute_result",
          "data": {
            "text/plain": [
              "2"
            ]
          },
          "metadata": {},
          "execution_count": 4
        }
      ]
    },
    {
      "cell_type": "code",
      "source": [
        "13%12  #here we are establishing the modual of 12, think of this as what is the remainfer when you divde 13 by 12, think similar to long division"
      ],
      "metadata": {
        "colab": {
          "base_uri": "https://localhost:8080/"
        },
        "id": "M7WFEIs-xYHO",
        "outputId": "d721bfe4-659a-49f3-ab33-0daedbd3375b"
      },
      "execution_count": null,
      "outputs": [
        {
          "output_type": "execute_result",
          "data": {
            "text/plain": [
              "1"
            ]
          },
          "metadata": {},
          "execution_count": 6
        }
      ]
    },
    {
      "cell_type": "code",
      "source": [
        "22%12 #another example for modual of 12\n"
      ],
      "metadata": {
        "colab": {
          "base_uri": "https://localhost:8080/"
        },
        "id": "IlYzS_ICxYJ9",
        "outputId": "062e6401-06a5-4f3b-9aa5-8ebb4c53470e"
      },
      "execution_count": null,
      "outputs": [
        {
          "output_type": "execute_result",
          "data": {
            "text/plain": [
              "10"
            ]
          },
          "metadata": {},
          "execution_count": 1
        }
      ]
    },
    {
      "cell_type": "markdown",
      "source": [
        "# This is a comment \n",
        "hashtag is important in python  if put in the code it will seperate as a comment "
      ],
      "metadata": {
        "id": "GhDAgRlGxy_E"
      }
    },
    {
      "cell_type": "markdown",
      "source": [
        "# Variables (fruit)"
      ],
      "metadata": {
        "id": "GHkSquUZyf73"
      }
    },
    {
      "cell_type": "code",
      "source": [
        "apples=5\n",
        "# here we are assigning the number 5 to the variable apples "
      ],
      "metadata": {
        "id": "gbRClzh9yixH"
      },
      "execution_count": null,
      "outputs": []
    },
    {
      "cell_type": "code",
      "source": [
        "apples\n",
        "# here we are establishing that apples is equal to 5"
      ],
      "metadata": {
        "colab": {
          "base_uri": "https://localhost:8080/"
        },
        "id": "HWdGBUwtyjP4",
        "outputId": "be54cc3a-e128-470f-e208-e5e3be17cbd3"
      },
      "execution_count": null,
      "outputs": [
        {
          "output_type": "execute_result",
          "data": {
            "text/plain": [
              "5"
            ]
          },
          "metadata": {},
          "execution_count": 2
        }
      ]
    },
    {
      "cell_type": "code",
      "source": [
        "oranges=8\n",
        "# here we are assigning the number 8 to the variable oranges"
      ],
      "metadata": {
        "id": "5K8UpvpHynEv"
      },
      "execution_count": null,
      "outputs": []
    },
    {
      "cell_type": "code",
      "source": [
        "oranges\n",
        "#here we are establishing that oranges is equal to 8"
      ],
      "metadata": {
        "colab": {
          "base_uri": "https://localhost:8080/"
        },
        "id": "Nj5duuD6ytTf",
        "outputId": "ff93db3c-857a-48ff-f41b-8499af6146ea"
      },
      "execution_count": null,
      "outputs": [
        {
          "output_type": "execute_result",
          "data": {
            "text/plain": [
              "8"
            ]
          },
          "metadata": {},
          "execution_count": 7
        }
      ]
    },
    {
      "cell_type": "code",
      "source": [
        "apples + oranges \n",
        "# here we are adding the variables apples and oranges to find out the total (5+8)"
      ],
      "metadata": {
        "colab": {
          "base_uri": "https://localhost:8080/"
        },
        "id": "8R3g4fe4yuFf",
        "outputId": "a1eb56cc-7156-4b6e-b2c2-51cfbcbc8e48"
      },
      "execution_count": null,
      "outputs": [
        {
          "output_type": "execute_result",
          "data": {
            "text/plain": [
              "13"
            ]
          },
          "metadata": {},
          "execution_count": 8
        }
      ]
    },
    {
      "cell_type": "code",
      "source": [
        "total = apples + oranges \n",
        "#here we are assigning the variable total to the number of apples and oranges (total= 5+8)"
      ],
      "metadata": {
        "id": "eRBWiEmnyxFA"
      },
      "execution_count": null,
      "outputs": []
    },
    {
      "cell_type": "code",
      "source": [
        "total\n",
        "# here we are establishing that total equals 13 "
      ],
      "metadata": {
        "colab": {
          "base_uri": "https://localhost:8080/"
        },
        "id": "ZCHTvrByy4UQ",
        "outputId": "db97ef0f-7def-4af1-f428-11589fe4b017"
      },
      "execution_count": null,
      "outputs": [
        {
          "output_type": "execute_result",
          "data": {
            "text/plain": [
              "13"
            ]
          },
          "metadata": {},
          "execution_count": 10
        }
      ]
    },
    {
      "cell_type": "markdown",
      "source": [
        "# Variables (fruit more)\n"
      ],
      "metadata": {
        "id": "Xax2w9ddzLlw"
      }
    },
    {
      "cell_type": "code",
      "source": [
        "apple = 5\n",
        "#here we are assigning the variable apple to the value 5"
      ],
      "metadata": {
        "id": "SM3H56VQzN-m"
      },
      "execution_count": null,
      "outputs": []
    },
    {
      "cell_type": "code",
      "source": [
        "apple \n",
        "#here we are establishing that apple is equal to 5"
      ],
      "metadata": {
        "colab": {
          "base_uri": "https://localhost:8080/"
        },
        "id": "gJp3RLe5zRC_",
        "outputId": "73eb2254-846b-431e-dbc9-336bf4749fca"
      },
      "execution_count": null,
      "outputs": [
        {
          "output_type": "execute_result",
          "data": {
            "text/plain": [
              "5"
            ]
          },
          "metadata": {},
          "execution_count": 16
        }
      ]
    },
    {
      "cell_type": "code",
      "source": [
        "print (apple)\n",
        "#here we are printing the number of apples to establish what the number of apples are (5)\n"
      ],
      "metadata": {
        "colab": {
          "base_uri": "https://localhost:8080/"
        },
        "id": "ncP4eSrzzSpv",
        "outputId": "344a01e0-86ab-4381-b368-9edaeaa884c8"
      },
      "execution_count": null,
      "outputs": [
        {
          "output_type": "stream",
          "name": "stdout",
          "text": [
            "5\n"
          ]
        }
      ]
    },
    {
      "cell_type": "code",
      "source": [
        "orange =8\n",
        "#here we are assigning the variable orange to the value 8"
      ],
      "metadata": {
        "id": "pVaNCBjVzTnA"
      },
      "execution_count": null,
      "outputs": []
    },
    {
      "cell_type": "code",
      "source": [
        "orange\n",
        "#here we are establishing that orange is equal to 8"
      ],
      "metadata": {
        "colab": {
          "base_uri": "https://localhost:8080/"
        },
        "id": "e-Bi6GUFzYXQ",
        "outputId": "9ec7e23b-99fd-4139-ca06-42a9a3112ee8"
      },
      "execution_count": null,
      "outputs": [
        {
          "output_type": "execute_result",
          "data": {
            "text/plain": [
              "8"
            ]
          },
          "metadata": {},
          "execution_count": 20
        }
      ]
    },
    {
      "cell_type": "code",
      "source": [
        "print (orange)\n",
        "#here we are printing the number of oranges to establish what the number of oranges are (8)"
      ],
      "metadata": {
        "colab": {
          "base_uri": "https://localhost:8080/"
        },
        "id": "PkoWAQB2zZew",
        "outputId": "f1558641-4f36-43d0-dfee-2033a07e0054"
      },
      "execution_count": null,
      "outputs": [
        {
          "output_type": "stream",
          "name": "stdout",
          "text": [
            "8\n"
          ]
        }
      ]
    },
    {
      "cell_type": "code",
      "source": [
        "apple + orange \n",
        "#here we are establishing that apple plus orange is equal to 13"
      ],
      "metadata": {
        "colab": {
          "base_uri": "https://localhost:8080/"
        },
        "id": "eRzlhXTtzbTQ",
        "outputId": "410c57f1-70bc-4c57-fb39-8d06078fb1f4"
      },
      "execution_count": null,
      "outputs": [
        {
          "output_type": "execute_result",
          "data": {
            "text/plain": [
              "13"
            ]
          },
          "metadata": {},
          "execution_count": 22
        }
      ]
    },
    {
      "cell_type": "code",
      "source": [
        "total = apple + orange\n",
        "#here we are assigning the variable total to the value of apple plus orange (8+5)"
      ],
      "metadata": {
        "id": "Bqve5Avxzdhf"
      },
      "execution_count": null,
      "outputs": []
    },
    {
      "cell_type": "code",
      "source": [
        "total \n",
        "#here we are establishing that total is equal to 13"
      ],
      "metadata": {
        "colab": {
          "base_uri": "https://localhost:8080/"
        },
        "id": "ajPNG0BCzhlw",
        "outputId": "de517193-2916-4643-f1ac-565e118111c6"
      },
      "execution_count": null,
      "outputs": [
        {
          "output_type": "execute_result",
          "data": {
            "text/plain": [
              "13"
            ]
          },
          "metadata": {},
          "execution_count": 21
        }
      ]
    },
    {
      "cell_type": "code",
      "source": [
        "print (total)\n",
        "#here we are printing the number of total to establish what the number of total fruit is (13)"
      ],
      "metadata": {
        "colab": {
          "base_uri": "https://localhost:8080/"
        },
        "id": "m-0x9byjzijQ",
        "outputId": "d5604f6f-1435-48d9-eee8-59a3a9905943"
      },
      "execution_count": null,
      "outputs": [
        {
          "output_type": "stream",
          "name": "stdout",
          "text": [
            "13\n"
          ]
        }
      ]
    },
    {
      "cell_type": "code",
      "source": [
        "apple **2\n",
        "#here we are squaring the number of apples (5) to get 25 apples"
      ],
      "metadata": {
        "colab": {
          "base_uri": "https://localhost:8080/"
        },
        "id": "TGQPB3-BzjpA",
        "outputId": "98885c58-2d39-4a39-b5bf-e584546e53d8"
      },
      "execution_count": null,
      "outputs": [
        {
          "output_type": "execute_result",
          "data": {
            "text/plain": [
              "25"
            ]
          },
          "metadata": {},
          "execution_count": 25
        }
      ]
    },
    {
      "cell_type": "code",
      "source": [
        "cost_per_apple = 0.25\n",
        "#here we are assigning the cost of apple to the value 0.25"
      ],
      "metadata": {
        "id": "1F83gawhzqgA"
      },
      "execution_count": null,
      "outputs": []
    },
    {
      "cell_type": "code",
      "source": [
        "total_apple_cost= cost_per_apple*apple\n",
        "#here we are assigning the total cost of apples to cost per apple times the amount of apples"
      ],
      "metadata": {
        "id": "d8MNDZgPztc_"
      },
      "execution_count": null,
      "outputs": []
    },
    {
      "cell_type": "code",
      "source": [
        "total_apple_cost\n",
        "#here we are assigning the total cost of apple to the value 1.25\n"
      ],
      "metadata": {
        "colab": {
          "base_uri": "https://localhost:8080/"
        },
        "id": "ZHOEOAjuzycf",
        "outputId": "caf294fb-8d37-4b1b-ea7a-40141e39561c"
      },
      "execution_count": null,
      "outputs": [
        {
          "output_type": "execute_result",
          "data": {
            "text/plain": [
              "1.25"
            ]
          },
          "metadata": {},
          "execution_count": 36
        }
      ]
    },
    {
      "cell_type": "code",
      "source": [
        "cost_per_orange=1.45\n",
        "#here we are assigning the cost of orange to the value 1.45"
      ],
      "metadata": {
        "id": "S9Gk6t9rz-5A"
      },
      "execution_count": null,
      "outputs": []
    },
    {
      "cell_type": "code",
      "source": [
        "total_orange_cost= cost_per_orange*orange\n",
        "#here we are assigning the total cost of oranges to cost per orange times the amount of oranges"
      ],
      "metadata": {
        "id": "iactv1AY0NAP"
      },
      "execution_count": null,
      "outputs": []
    },
    {
      "cell_type": "code",
      "source": [
        "total_orange_cost\n",
        "#here we are assigning the total cost of orange to the value 11.6"
      ],
      "metadata": {
        "colab": {
          "base_uri": "https://localhost:8080/"
        },
        "id": "PXldfoBH0Sm_",
        "outputId": "7d0f376a-f43e-4a88-d4d3-5a5ef8522b3f"
      },
      "execution_count": null,
      "outputs": [
        {
          "output_type": "execute_result",
          "data": {
            "text/plain": [
              "11.6"
            ]
          },
          "metadata": {},
          "execution_count": 29
        }
      ]
    },
    {
      "cell_type": "markdown",
      "source": [
        "# Clothing Store example "
      ],
      "metadata": {
        "id": "kCgH5bESwNfo"
      }
    },
    {
      "cell_type": "code",
      "source": [
        "shirt=12.99\n",
        "#we are establishing the cost of a shirt "
      ],
      "metadata": {
        "id": "TsOps5W50UpP"
      },
      "execution_count": null,
      "outputs": []
    },
    {
      "cell_type": "code",
      "source": [
        "pants=10.99\n",
        "#we are establishing the cost of a pants"
      ],
      "metadata": {
        "id": "9B2GEt5H0ZoP"
      },
      "execution_count": null,
      "outputs": []
    },
    {
      "cell_type": "code",
      "source": [
        "shoes=18.99\n",
        "#we are establishing the cost of a shoes"
      ],
      "metadata": {
        "id": "QgT7uM660ccv"
      },
      "execution_count": null,
      "outputs": []
    },
    {
      "cell_type": "code",
      "source": [
        "shirt_sold= 34\n",
        "#we are establishing the amount of shirts sold"
      ],
      "metadata": {
        "id": "7egOubCB0f-v"
      },
      "execution_count": null,
      "outputs": []
    },
    {
      "cell_type": "code",
      "source": [
        "shoes_sold= 12\n",
        "#we are establishing the amount of shoes sold"
      ],
      "metadata": {
        "id": "5w_Wo1ST0kuv"
      },
      "execution_count": null,
      "outputs": []
    },
    {
      "cell_type": "code",
      "source": [
        "pants_sold= 43\n",
        "#we are establishing the amount of pants sold"
      ],
      "metadata": {
        "id": "LqrhEXU50m5Q"
      },
      "execution_count": null,
      "outputs": []
    },
    {
      "cell_type": "code",
      "source": [
        "total_sales= (shirt*shirt_sold)+(pants*pants_sold)+(shoes*shoes_sold) \n",
        "#here is a large equation, each piece of clothing has its own small equation put into a larger one to find out the total sales, it can be broken down but to have a full total it all must be combined "
      ],
      "metadata": {
        "id": "WRLtkKH80okw"
      },
      "execution_count": null,
      "outputs": []
    },
    {
      "cell_type": "code",
      "source": [
        "total_sales\n",
        "#we are establishing the total amount of sales in dollars "
      ],
      "metadata": {
        "colab": {
          "base_uri": "https://localhost:8080/"
        },
        "id": "7e-tj6xv04Xu",
        "outputId": "81dc2d28-4cc4-4824-b11d-d8a59d4c32bb"
      },
      "execution_count": null,
      "outputs": [
        {
          "output_type": "execute_result",
          "data": {
            "text/plain": [
              "1142.1100000000001"
            ]
          },
          "metadata": {},
          "execution_count": 9
        }
      ]
    },
    {
      "cell_type": "code",
      "source": [
        "total_sales #note this is in dollars \n"
      ],
      "metadata": {
        "colab": {
          "base_uri": "https://localhost:8080/"
        },
        "id": "1yF21Tfm05sf",
        "outputId": "3b91cb20-df4e-4527-e850-405ad0105207"
      },
      "execution_count": null,
      "outputs": [
        {
          "output_type": "execute_result",
          "data": {
            "text/plain": [
              "1142.1100000000001"
            ]
          },
          "metadata": {},
          "execution_count": 81
        }
      ]
    },
    {
      "cell_type": "code",
      "source": [
        "total_shirt_sales=(shirt*shirt_sold) \n",
        "#this is a piece of the large equation above, it shows us the total shirt sales by taking shirts price and multiplying it by the amount of shirts sold "
      ],
      "metadata": {
        "id": "9VWEec9q09yP"
      },
      "execution_count": null,
      "outputs": []
    },
    {
      "cell_type": "code",
      "source": [
        "total_shirt_sales\n",
        "#establishing the total shirt sales in dollars "
      ],
      "metadata": {
        "colab": {
          "base_uri": "https://localhost:8080/"
        },
        "id": "KA-ZxP7A1_LB",
        "outputId": "ee1e0dae-c837-4dcb-b700-359fdc824193"
      },
      "execution_count": null,
      "outputs": [
        {
          "output_type": "execute_result",
          "data": {
            "text/plain": [
              "441.66"
            ]
          },
          "metadata": {},
          "execution_count": 14
        }
      ]
    },
    {
      "cell_type": "code",
      "source": [
        "total_pants_sales=pants*pants_sold\n",
        "#this is a piece of the large equation above, it shows us the total pants sales by taking pants price and multiplying it by the amount of pants sold "
      ],
      "metadata": {
        "id": "KVsDORoY2AnR"
      },
      "execution_count": null,
      "outputs": []
    },
    {
      "cell_type": "code",
      "source": [
        "total_pants_sales\n",
        "#establishing the total pant sales in dollars "
      ],
      "metadata": {
        "colab": {
          "base_uri": "https://localhost:8080/"
        },
        "id": "HV_vt3Pv2Fvx",
        "outputId": "f57c6006-eeeb-40fc-96d3-f0ef85188f8f"
      },
      "execution_count": null,
      "outputs": [
        {
          "output_type": "execute_result",
          "data": {
            "text/plain": [
              "472.57"
            ]
          },
          "metadata": {},
          "execution_count": 13
        }
      ]
    },
    {
      "cell_type": "code",
      "source": [
        "total_shoe_sales=shoes*shoes_sold\n",
        "#this is a piece of the large equation above, it shows us the total shoes sales by taking shoes price and multiplying it by the amount of shoes sold "
      ],
      "metadata": {
        "id": "4MrG21FG2HTB"
      },
      "execution_count": null,
      "outputs": []
    },
    {
      "cell_type": "code",
      "source": [
        "total_shoe_sales\n",
        "#establishing the total shoes sales in dollars "
      ],
      "metadata": {
        "colab": {
          "base_uri": "https://localhost:8080/"
        },
        "id": "ReZgMMNU2Kkh",
        "outputId": "cc55a028-0a02-47e0-c09b-82f8e0e0352d"
      },
      "execution_count": null,
      "outputs": [
        {
          "output_type": "execute_result",
          "data": {
            "text/plain": [
              "227.88"
            ]
          },
          "metadata": {},
          "execution_count": 18
        }
      ]
    },
    {
      "cell_type": "markdown",
      "source": [
        "#Vectors\n",
        "\n"
      ],
      "metadata": {
        "id": "9e1HWEI82ZwU"
      }
    },
    {
      "cell_type": "code",
      "source": [
        "import numpy as np\n",
        "# used for making vectors \n",
        "\n"
      ],
      "metadata": {
        "id": "OpAwtFZ-2cCC"
      },
      "execution_count": 4,
      "outputs": []
    },
    {
      "cell_type": "code",
      "source": [
        "import matplotlib.pyplot as plt\n",
        "# used for making plots "
      ],
      "metadata": {
        "id": "9OAD6gTE2_tf"
      },
      "execution_count": 5,
      "outputs": []
    },
    {
      "cell_type": "code",
      "source": [
        "np.arange(10)\n",
        "# used for making an array, a range of numbers from 0 to the number in put or a certain number to another number it goes up to the number but not include that number \n"
      ],
      "metadata": {
        "colab": {
          "base_uri": "https://localhost:8080/"
        },
        "id": "I6nwC6au2_wF",
        "outputId": "cac1a6c8-1486-44e3-c66a-821439e1547f"
      },
      "execution_count": 6,
      "outputs": [
        {
          "output_type": "execute_result",
          "data": {
            "text/plain": [
              "array([0, 1, 2, 3, 4, 5, 6, 7, 8, 9])"
            ]
          },
          "metadata": {},
          "execution_count": 6
        }
      ]
    },
    {
      "cell_type": "code",
      "source": [
        "x = np.arange(10)\n",
        "#we are establishing the fact that x is equal to the array of 10 from above"
      ],
      "metadata": {
        "id": "84snrZWm2_z1"
      },
      "execution_count": 7,
      "outputs": []
    },
    {
      "cell_type": "code",
      "source": [
        "x\n",
        "#we are reestablishing the fact that x is equal to the array of 10 from above"
      ],
      "metadata": {
        "colab": {
          "base_uri": "https://localhost:8080/"
        },
        "id": "g_5w0dEm2_2t",
        "outputId": "fbe80cab-46d4-4764-9780-575fa50acbf5"
      },
      "execution_count": 8,
      "outputs": [
        {
          "output_type": "execute_result",
          "data": {
            "text/plain": [
              "array([0, 1, 2, 3, 4, 5, 6, 7, 8, 9])"
            ]
          },
          "metadata": {},
          "execution_count": 8
        }
      ]
    },
    {
      "cell_type": "code",
      "source": [
        "x+1 #this will take the array and add the input number to each variable of the array "
      ],
      "metadata": {
        "colab": {
          "base_uri": "https://localhost:8080/"
        },
        "id": "vdgza25f4lUU",
        "outputId": "f983e5f0-daef-4b34-ec85-adaa4c91a445"
      },
      "execution_count": 9,
      "outputs": [
        {
          "output_type": "execute_result",
          "data": {
            "text/plain": [
              "array([ 1,  2,  3,  4,  5,  6,  7,  8,  9, 10])"
            ]
          },
          "metadata": {},
          "execution_count": 9
        }
      ]
    },
    {
      "cell_type": "code",
      "source": [
        "x*2 #this will take the array and multiply the input number to each variable of the array"
      ],
      "metadata": {
        "colab": {
          "base_uri": "https://localhost:8080/"
        },
        "id": "YEi8KP5I4m80",
        "outputId": "60353dd0-2f00-4c2d-cc62-7be4f430292b"
      },
      "execution_count": 10,
      "outputs": [
        {
          "output_type": "execute_result",
          "data": {
            "text/plain": [
              "array([ 0,  2,  4,  6,  8, 10, 12, 14, 16, 18])"
            ]
          },
          "metadata": {},
          "execution_count": 10
        }
      ]
    },
    {
      "cell_type": "code",
      "source": [
        "x**2 #this will take the array and square (exponent) the input number to each variable of the array"
      ],
      "metadata": {
        "colab": {
          "base_uri": "https://localhost:8080/"
        },
        "id": "AT5kWa9a4ycK",
        "outputId": "672ecfc7-737b-4cf4-91d1-c0ed8457c8e3"
      },
      "execution_count": 11,
      "outputs": [
        {
          "output_type": "execute_result",
          "data": {
            "text/plain": [
              "array([ 0,  1,  4,  9, 16, 25, 36, 49, 64, 81])"
            ]
          },
          "metadata": {},
          "execution_count": 11
        }
      ]
    },
    {
      "cell_type": "code",
      "source": [
        "y=3*x+5\n",
        "#this will take the array and put it in a mathematical equation giving us a y value from the equation with every x value"
      ],
      "metadata": {
        "id": "aA70-e2i4zdq"
      },
      "execution_count": 12,
      "outputs": []
    },
    {
      "cell_type": "code",
      "source": [
        "y\n",
        "#reestablishing what y is from the equation from above"
      ],
      "metadata": {
        "colab": {
          "base_uri": "https://localhost:8080/"
        },
        "id": "Ahn71cRY4205",
        "outputId": "6cc2e029-f52b-43a3-c952-db4b2337ea35"
      },
      "execution_count": 13,
      "outputs": [
        {
          "output_type": "execute_result",
          "data": {
            "text/plain": [
              "array([ 5,  8, 11, 14, 17, 20, 23, 26, 29, 32])"
            ]
          },
          "metadata": {},
          "execution_count": 13
        }
      ]
    },
    {
      "cell_type": "code",
      "source": [
        "x\n",
        "#reestablishing what the x values from the array are "
      ],
      "metadata": {
        "colab": {
          "base_uri": "https://localhost:8080/"
        },
        "id": "jrRRUZRB43r6",
        "outputId": "20c2ceeb-1933-4b2c-878f-d6322d1a8295"
      },
      "execution_count": 14,
      "outputs": [
        {
          "output_type": "execute_result",
          "data": {
            "text/plain": [
              "array([0, 1, 2, 3, 4, 5, 6, 7, 8, 9])"
            ]
          },
          "metadata": {},
          "execution_count": 14
        }
      ]
    },
    {
      "cell_type": "code",
      "source": [
        "y\n",
        "#reestablishing what y is from the equation from above"
      ],
      "metadata": {
        "colab": {
          "base_uri": "https://localhost:8080/"
        },
        "id": "VMZmHGQ54_zU",
        "outputId": "26ab83ec-2299-48ce-d70a-e205bff66db5"
      },
      "execution_count": 15,
      "outputs": [
        {
          "output_type": "execute_result",
          "data": {
            "text/plain": [
              "array([ 5,  8, 11, 14, 17, 20, 23, 26, 29, 32])"
            ]
          },
          "metadata": {},
          "execution_count": 15
        }
      ]
    },
    {
      "cell_type": "code",
      "source": [
        "plt.plot(x,y) # plt is the shortcut to plot your numbers on a graph, here we are plotting the x and y values from the array (x) and the y values from the equaiton above\n"
      ],
      "metadata": {
        "colab": {
          "base_uri": "https://localhost:8080/",
          "height": 0
        },
        "id": "sTX3A8U_5ALE",
        "outputId": "32e006a7-61b6-42bc-bb8d-cef9092e1519"
      },
      "execution_count": 16,
      "outputs": [
        {
          "output_type": "execute_result",
          "data": {
            "text/plain": [
              "[<matplotlib.lines.Line2D at 0x7f39c2b0f3d0>]"
            ]
          },
          "metadata": {},
          "execution_count": 16
        },
        {
          "output_type": "display_data",
          "data": {
            "text/plain": [
              "<Figure size 432x288 with 1 Axes>"
            ],
            "image/png": "[encoded data removed]"
          },
          "metadata": {
            "needs_background": "light"
          }
        }
      ]
    },
    {
      "cell_type": "code",
      "source": [
        "plt.plot(x,y,'.') # the '.' makes the graph a dotted line and allows us to see the plotted points instead of a solid line "
      ],
      "metadata": {
        "colab": {
          "base_uri": "https://localhost:8080/",
          "height": 0
        },
        "id": "Hs-wUhX45GYE",
        "outputId": "d7bc4563-8485-4159-fc90-ecced70bf3a3"
      },
      "execution_count": 17,
      "outputs": [
        {
          "output_type": "execute_result",
          "data": {
            "text/plain": [
              "[<matplotlib.lines.Line2D at 0x7f39bc805d50>]"
            ]
          },
          "metadata": {},
          "execution_count": 17
        },
        {
          "output_type": "display_data",
          "data": {
            "text/plain": [
              "<Figure size 432x288 with 1 Axes>"
            ],
            "image/png": "[encoded data removed]"
          },
          "metadata": {
            "needs_background": "light"
          }
        }
      ]
    },
    {
      "cell_type": "code",
      "source": [
        "plt.plot(x,y, 'r.') # adding the r changes the color of te graph to red "
      ],
      "metadata": {
        "colab": {
          "base_uri": "https://localhost:8080/",
          "height": 0
        },
        "id": "mwtDxp7b5doE",
        "outputId": "4dc8a44b-a0fa-4928-eb0b-180361575e97"
      },
      "execution_count": 18,
      "outputs": [
        {
          "output_type": "execute_result",
          "data": {
            "text/plain": [
              "[<matplotlib.lines.Line2D at 0x7f39bc77c710>]"
            ]
          },
          "metadata": {},
          "execution_count": 18
        },
        {
          "output_type": "display_data",
          "data": {
            "text/plain": [
              "<Figure size 432x288 with 1 Axes>"
            ],
            "image/png": "[encoded data removed]"
          },
          "metadata": {
            "needs_background": "light"
          }
        }
      ]
    },
    {
      "cell_type": "code",
      "source": [
        "plt.plot(x,y,'r--') # adding the r-- changes the color to red and makes the graph a lined graph"
      ],
      "metadata": {
        "colab": {
          "base_uri": "https://localhost:8080/",
          "height": 0
        },
        "id": "uq8AFypF6Nt3",
        "outputId": "aba5e205-1feb-4cf9-a1a1-ce0feb60ba3b"
      },
      "execution_count": 19,
      "outputs": [
        {
          "output_type": "execute_result",
          "data": {
            "text/plain": [
              "[<matplotlib.lines.Line2D at 0x7f39bc765ad0>]"
            ]
          },
          "metadata": {},
          "execution_count": 19
        },
        {
          "output_type": "display_data",
          "data": {
            "text/plain": [
              "<Figure size 432x288 with 1 Axes>"
            ],
            "image/png": "[encoded data removed]"
          },
          "metadata": {
            "needs_background": "light"
          }
        }
      ]
    },
    {
      "cell_type": "code",
      "source": [
        "plt.plot(x,y,'y*') # y changes the color to yellow "
      ],
      "metadata": {
        "colab": {
          "base_uri": "https://localhost:8080/",
          "height": 0
        },
        "id": "Y1E2eszh6YD4",
        "outputId": "fc177133-af2b-49ad-eb6b-dd981669b52c"
      },
      "execution_count": 20,
      "outputs": [
        {
          "output_type": "execute_result",
          "data": {
            "text/plain": [
              "[<matplotlib.lines.Line2D at 0x7f39bc6cbd10>]"
            ]
          },
          "metadata": {},
          "execution_count": 20
        },
        {
          "output_type": "display_data",
          "data": {
            "text/plain": [
              "<Figure size 432x288 with 1 Axes>"
            ],
            "image/png": "[encoded data removed]"
          },
          "metadata": {
            "needs_background": "light"
          }
        }
      ]
    },
    {
      "cell_type": "markdown",
      "source": [
        "matplotlib.org or just google matplotlib colors and they can show us the different colors we can change our graphs to"
      ],
      "metadata": {
        "id": "su7-cUMj7SKq"
      }
    },
    {
      "cell_type": "code",
      "source": [
        "plt.plot(x,y, marker='*', linestyle= 'none', markerfacecolor= '#333399') # this allows us to change the line style, marker color, and marker type"
      ],
      "metadata": {
        "colab": {
          "base_uri": "https://localhost:8080/",
          "height": 0
        },
        "id": "vuICaN4Q7LBa",
        "outputId": "d39029cc-2f36-4f74-db9e-77ebb3247820"
      },
      "execution_count": 21,
      "outputs": [
        {
          "output_type": "execute_result",
          "data": {
            "text/plain": [
              "[<matplotlib.lines.Line2D at 0x7f39bc641190>]"
            ]
          },
          "metadata": {},
          "execution_count": 21
        },
        {
          "output_type": "display_data",
          "data": {
            "text/plain": [
              "<Figure size 432x288 with 1 Axes>"
            ],
            "image/png": "[encoded data removed]"
          },
          "metadata": {
            "needs_background": "light"
          }
        }
      ]
    },
    {
      "cell_type": "code",
      "source": [
        "plt.plot(x,y, marker='o', linestyle= 'none', markerfacecolor= '#ff8ea1') #here we changed the color of the circle marker "
      ],
      "metadata": {
        "colab": {
          "base_uri": "https://localhost:8080/",
          "height": 0
        },
        "id": "bsq9Wa007_O5",
        "outputId": "8bca0920-fbf0-4b91-c846-0557f40d070c"
      },
      "execution_count": 22,
      "outputs": [
        {
          "output_type": "execute_result",
          "data": {
            "text/plain": [
              "[<matplotlib.lines.Line2D at 0x7f39bc7c6490>]"
            ]
          },
          "metadata": {},
          "execution_count": 22
        },
        {
          "output_type": "display_data",
          "data": {
            "text/plain": [
              "<Figure size 432x288 with 1 Axes>"
            ],
            "image/png": "[encoded data removed]"
          },
          "metadata": {
            "needs_background": "light"
          }
        }
      ]
    },
    {
      "cell_type": "code",
      "source": [
        "z=np.linspace(0,10,100) # you have the start value the stop value and then how many steps you want to get from start to stop "
      ],
      "metadata": {
        "id": "9X0swdsk8Xoo"
      },
      "execution_count": 23,
      "outputs": []
    },
    {
      "cell_type": "code",
      "source": [
        "z #we are establishing what z is (the array)"
      ],
      "metadata": {
        "colab": {
          "base_uri": "https://localhost:8080/"
        },
        "id": "OpuAUdN79h8o",
        "outputId": "7515d322-2389-4174-a9b5-67aee899182a"
      },
      "execution_count": 24,
      "outputs": [
        {
          "output_type": "execute_result",
          "data": {
            "text/plain": [
              "array([ 0.        ,  0.1010101 ,  0.2020202 ,  0.3030303 ,  0.4040404 ,\n",
              "        0.50505051,  0.60606061,  0.70707071,  0.80808081,  0.90909091,\n",
              "        1.01010101,  1.11111111,  1.21212121,  1.31313131,  1.41414141,\n",
              "        1.51515152,  1.61616162,  1.71717172,  1.81818182,  1.91919192,\n",
              "        2.02020202,  2.12121212,  2.22222222,  2.32323232,  2.42424242,\n",
              "        2.52525253,  2.62626263,  2.72727273,  2.82828283,  2.92929293,\n",
              "        3.03030303,  3.13131313,  3.23232323,  3.33333333,  3.43434343,\n",
              "        3.53535354,  3.63636364,  3.73737374,  3.83838384,  3.93939394,\n",
              "        4.04040404,  4.14141414,  4.24242424,  4.34343434,  4.44444444,\n",
              "        4.54545455,  4.64646465,  4.74747475,  4.84848485,  4.94949495,\n",
              "        5.05050505,  5.15151515,  5.25252525,  5.35353535,  5.45454545,\n",
              "        5.55555556,  5.65656566,  5.75757576,  5.85858586,  5.95959596,\n",
              "        6.06060606,  6.16161616,  6.26262626,  6.36363636,  6.46464646,\n",
              "        6.56565657,  6.66666667,  6.76767677,  6.86868687,  6.96969697,\n",
              "        7.07070707,  7.17171717,  7.27272727,  7.37373737,  7.47474747,\n",
              "        7.57575758,  7.67676768,  7.77777778,  7.87878788,  7.97979798,\n",
              "        8.08080808,  8.18181818,  8.28282828,  8.38383838,  8.48484848,\n",
              "        8.58585859,  8.68686869,  8.78787879,  8.88888889,  8.98989899,\n",
              "        9.09090909,  9.19191919,  9.29292929,  9.39393939,  9.49494949,\n",
              "        9.5959596 ,  9.6969697 ,  9.7979798 ,  9.8989899 , 10.        ])"
            ]
          },
          "metadata": {},
          "execution_count": 24
        }
      ]
    },
    {
      "cell_type": "code",
      "source": [
        "k=z**2 #we changed the variables from x and y to k and z but we are taking the numbers from the array z and squaring them to get k"
      ],
      "metadata": {
        "id": "l-gy_oh3-Sat"
      },
      "execution_count": 25,
      "outputs": []
    },
    {
      "cell_type": "code",
      "source": [
        "plt.plot(z,k, marker='o', linestyle= 'none', markerfacecolor= '#333399')\n",
        "#we are graphing the z,k values from above"
      ],
      "metadata": {
        "colab": {
          "base_uri": "https://localhost:8080/",
          "height": 0
        },
        "id": "22HCGdPQ-Lmw",
        "outputId": "00f34162-d495-41e6-f962-1104f287e368"
      },
      "execution_count": 26,
      "outputs": [
        {
          "output_type": "execute_result",
          "data": {
            "text/plain": [
              "[<matplotlib.lines.Line2D at 0x7f39bc58a610>]"
            ]
          },
          "metadata": {},
          "execution_count": 26
        },
        {
          "output_type": "display_data",
          "data": {
            "text/plain": [
              "<Figure size 432x288 with 1 Axes>"
            ],
            "image/png": "[encoded data removed]"
          },
          "metadata": {
            "needs_background": "light"
          }
        }
      ]
    },
    {
      "cell_type": "code",
      "source": [
        "x=np.linspace(0,5,10) #we are making a new array"
      ],
      "metadata": {
        "id": "VE_LzPUw9jdJ"
      },
      "execution_count": 27,
      "outputs": []
    },
    {
      "cell_type": "code",
      "source": [
        "x\n",
        "#establishing that the array is equal to x "
      ],
      "metadata": {
        "colab": {
          "base_uri": "https://localhost:8080/"
        },
        "id": "VXlkqMmo9uUJ",
        "outputId": "844ac27b-91d1-4546-ab4c-9419b8cf08db"
      },
      "execution_count": 28,
      "outputs": [
        {
          "output_type": "execute_result",
          "data": {
            "text/plain": [
              "array([0.        , 0.55555556, 1.11111111, 1.66666667, 2.22222222,\n",
              "       2.77777778, 3.33333333, 3.88888889, 4.44444444, 5.        ])"
            ]
          },
          "metadata": {},
          "execution_count": 28
        }
      ]
    },
    {
      "cell_type": "code",
      "source": [
        "y=x**2 #establishing that y is the values of x (array) squared "
      ],
      "metadata": {
        "id": "MMFUbXNr9u0Z"
      },
      "execution_count": 29,
      "outputs": []
    },
    {
      "cell_type": "code",
      "source": [
        "y\n",
        "#reestablishing what y values are "
      ],
      "metadata": {
        "colab": {
          "base_uri": "https://localhost:8080/"
        },
        "id": "WCTTD3fe91OJ",
        "outputId": "4c44eaf2-b4c7-4eac-bd2a-8d76f6abd2d7"
      },
      "execution_count": 30,
      "outputs": [
        {
          "output_type": "execute_result",
          "data": {
            "text/plain": [
              "array([ 0.        ,  0.30864198,  1.2345679 ,  2.77777778,  4.9382716 ,\n",
              "        7.71604938, 11.11111111, 15.12345679, 19.75308642, 25.        ])"
            ]
          },
          "metadata": {},
          "execution_count": 30
        }
      ]
    },
    {
      "cell_type": "code",
      "source": [
        "plt.plot(x,y, marker='o', linestyle= 'none', markerfacecolor= '#333399') #graphing the x and y values from above "
      ],
      "metadata": {
        "colab": {
          "base_uri": "https://localhost:8080/",
          "height": 0
        },
        "id": "MJ99Nnim91kp",
        "outputId": "de52b8d5-63fd-4df7-e2ee-5348cf50e410"
      },
      "execution_count": 31,
      "outputs": [
        {
          "output_type": "execute_result",
          "data": {
            "text/plain": [
              "[<matplotlib.lines.Line2D at 0x7f39bc574f90>]"
            ]
          },
          "metadata": {},
          "execution_count": 31
        },
        {
          "output_type": "display_data",
          "data": {
            "text/plain": [
              "<Figure size 432x288 with 1 Axes>"
            ],
            "image/png": "[encoded data removed]"
          },
          "metadata": {
            "needs_background": "light"
          }
        }
      ]
    },
    {
      "cell_type": "code",
      "source": [
        "plt.plot(x,y, marker='o', linestyle= 'none', markerfacecolor= '#ff80c0')\n",
        "plt.title(\"Maddy's First Graph\"); #this allows us to name our graph, the semi colon at the end hides the extra text "
      ],
      "metadata": {
        "colab": {
          "base_uri": "https://localhost:8080/",
          "height": 0
        },
        "id": "AtUgxUUP98M6",
        "outputId": "aa9dab44-6bbb-472e-fb9f-90cf9498f52d"
      },
      "execution_count": 32,
      "outputs": [
        {
          "output_type": "display_data",
          "data": {
            "text/plain": [
              "<Figure size 432x288 with 1 Axes>"
            ],
            "image/png": "[encoded data removed]"
          },
          "metadata": {
            "needs_background": "light"
          }
        }
      ]
    },
    {
      "cell_type": "code",
      "source": [
        "plt.plot(x,y, marker='o', linestyle= 'none', markerfacecolor= '#ff80c0')\n",
        "plt.title(\"Maddy's First Graph\");\n",
        "plt.xlabel(\"x label goes here\");\n",
        "plt.ylabel(\"y label goes here\"); # these allow us to label both the x an y axis when graphing "
      ],
      "metadata": {
        "colab": {
          "base_uri": "https://localhost:8080/",
          "height": 0
        },
        "id": "XW8dlawY_B69",
        "outputId": "51382f34-a6cf-4581-975d-283d9418cd1d"
      },
      "execution_count": 33,
      "outputs": [
        {
          "output_type": "display_data",
          "data": {
            "text/plain": [
              "<Figure size 432x288 with 1 Axes>"
            ],
            "image/png": "[encoded data removed]"
          },
          "metadata": {
            "needs_background": "light"
          }
        }
      ]
    },
    {
      "cell_type": "code",
      "source": [
        "plt.plot(x,y, marker='o', linestyle= 'none', markerfacecolor= '#ff80c0', label= 'food')\n",
        "plt.title(\"Maddy's First Graph\");\n",
        "plt.xlabel(\"pizza\");\n",
        "plt.ylabel(\"tacos\");\n",
        "plt.legend(); # make sure to add the parathenses to make sure that you can see the label of the line "
      ],
      "metadata": {
        "colab": {
          "base_uri": "https://localhost:8080/",
          "height": 0
        },
        "id": "kO70h5elAK8d",
        "outputId": "650e6a35-c94c-4624-f9c0-c8fee28013b8"
      },
      "execution_count": 34,
      "outputs": [
        {
          "output_type": "display_data",
          "data": {
            "text/plain": [
              "<Figure size 432x288 with 1 Axes>"
            ],
            "image/png": "[encoded data removed]"
          },
          "metadata": {
            "needs_background": "light"
          }
        }
      ]
    },
    {
      "cell_type": "code",
      "source": [
        "plt.plot(x,y, marker='o', linestyle= 'none', markerfacecolor= '#ff80c0', label= 'food', )\n",
        "plt.title(\"Maddy's First Graph\");\n",
        "plt.xlabel(\"pizza\");\n",
        "plt.ylabel(\"tacos\");\n",
        "plt.legend();\n",
        "#this is our first full graph \n"
      ],
      "metadata": {
        "colab": {
          "base_uri": "https://localhost:8080/",
          "height": 0
        },
        "id": "x36ajN2fAVL9",
        "outputId": "99aa4e33-477a-490e-d43c-a241a65f5632"
      },
      "execution_count": 35,
      "outputs": [
        {
          "output_type": "display_data",
          "data": {
            "text/plain": [
              "<Figure size 432x288 with 1 Axes>"
            ],
            "image/png": "[encoded data removed]"
          },
          "metadata": {
            "needs_background": "light"
          }
        }
      ]
    },
    {
      "cell_type": "markdown",
      "source": [
        "# Plotting part 2"
      ],
      "metadata": {
        "id": "TNE8QMnEB-mZ"
      }
    },
    {
      "cell_type": "code",
      "source": [
        "x=np.linspace(0,2,100)\n",
        "\n",
        "plt.title(\"Numbers\");\n",
        "plt.xlabel(\"0-8\");\n",
        "plt.ylabel(\"0-2\");\n",
        "plt.plot(x,x, label='linerar', marker='o',markerfacecolor= '#ff80c0');\n",
        "plt.plot(x,x**2, label='squared',marker='o',markerfacecolor= '#ff80c0' );\n",
        "plt.plot(x,x**3, label= 'cubed', marker='o',markerfacecolor= '#ff80c0');\n",
        "plt.legend();\n",
        "#here we are playing around with color, marker, and label choices "
      ],
      "metadata": {
        "colab": {
          "base_uri": "https://localhost:8080/",
          "height": 295
        },
        "id": "ZIPXjuyDBnmd",
        "outputId": "7f8ecf2f-96ab-4d14-bc64-3f290a8602a1"
      },
      "execution_count": 36,
      "outputs": [
        {
          "output_type": "display_data",
          "data": {
            "text/plain": [
              "<Figure size 432x288 with 1 Axes>"
            ],
            "image/png": "[encoded data removed]"
          },
          "metadata": {
            "needs_background": "light"
          }
        }
      ]
    },
    {
      "cell_type": "code",
      "source": [
        "x=np.linspace(0,2,100)\n",
        "\n",
        "plt.title(\"Numbers\");\n",
        "plt.xlabel(\"0-8\");\n",
        "plt.ylabel(\"0-2\");\n",
        "plt.plot(x,x,'r--',label='linerar');\n",
        "plt.plot(x,x**2,'bs', label='squared' );\n",
        "plt.plot(x,x**3, 'g^',label= 'cubed');\n",
        "plt.legend();\n",
        "#here we are playing around with color, marker, and label choices "
      ],
      "metadata": {
        "colab": {
          "base_uri": "https://localhost:8080/",
          "height": 295
        },
        "id": "xFktqrlMCbmA",
        "outputId": "9cc6eb77-57dc-4df7-d8c7-c9fceb3262ff"
      },
      "execution_count": 37,
      "outputs": [
        {
          "output_type": "display_data",
          "data": {
            "text/plain": [
              "<Figure size 432x288 with 1 Axes>"
            ],
            "image/png": "[encoded data removed]"
          },
          "metadata": {
            "needs_background": "light"
          }
        }
      ]
    },
    {
      "cell_type": "markdown",
      "source": [
        "#more plotting "
      ],
      "metadata": {
        "id": "wXhPyaJSEsND"
      }
    },
    {
      "cell_type": "code",
      "source": [
        "names=['cat','dog','bird'] #we are establishing the names for our graphs"
      ],
      "metadata": {
        "id": "V3U8HUt-DzHR"
      },
      "execution_count": 40,
      "outputs": []
    },
    {
      "cell_type": "code",
      "source": [
        "names #reprinting the names"
      ],
      "metadata": {
        "colab": {
          "base_uri": "https://localhost:8080/"
        },
        "id": "gy3LXcJQE0aB",
        "outputId": "b238a2c9-c7eb-41e2-cd8c-a6e845bc52c1"
      },
      "execution_count": 41,
      "outputs": [
        {
          "output_type": "execute_result",
          "data": {
            "text/plain": [
              "['cat', 'dog', 'bird']"
            ]
          },
          "metadata": {},
          "execution_count": 41
        }
      ]
    },
    {
      "cell_type": "code",
      "source": [
        "names[0] #assigning places to the names "
      ],
      "metadata": {
        "colab": {
          "base_uri": "https://localhost:8080/",
          "height": 35
        },
        "id": "4GRnYrh-E1ZR",
        "outputId": "9bf2181c-66d2-44ea-8a86-35bb8922677e"
      },
      "execution_count": 42,
      "outputs": [
        {
          "output_type": "execute_result",
          "data": {
            "text/plain": [
              "'cat'"
            ],
            "application/vnd.google.colaboratory.intrinsic+json": {
              "type": "string"
            }
          },
          "metadata": {},
          "execution_count": 42
        }
      ]
    },
    {
      "cell_type": "code",
      "source": [
        "names[1] #assigning places to the names "
      ],
      "metadata": {
        "colab": {
          "base_uri": "https://localhost:8080/",
          "height": 35
        },
        "id": "pX9Ep7GvE4ER",
        "outputId": "8133958a-4057-49d3-cb82-3427efd40218"
      },
      "execution_count": 43,
      "outputs": [
        {
          "output_type": "execute_result",
          "data": {
            "text/plain": [
              "'dog'"
            ],
            "application/vnd.google.colaboratory.intrinsic+json": {
              "type": "string"
            }
          },
          "metadata": {},
          "execution_count": 43
        }
      ]
    },
    {
      "cell_type": "code",
      "source": [
        "names[2]#assigning places to the names "
      ],
      "metadata": {
        "colab": {
          "base_uri": "https://localhost:8080/",
          "height": 35
        },
        "id": "PxZe1_iIE68R",
        "outputId": "028461c0-5bdd-4f94-fddc-340de6994265"
      },
      "execution_count": 44,
      "outputs": [
        {
          "output_type": "execute_result",
          "data": {
            "text/plain": [
              "'bird'"
            ],
            "application/vnd.google.colaboratory.intrinsic+json": {
              "type": "string"
            }
          },
          "metadata": {},
          "execution_count": 44
        }
      ]
    },
    {
      "cell_type": "code",
      "source": [
        "values=[15,18,6]#assigning values to the names "
      ],
      "metadata": {
        "id": "aC-6sgaQE75B"
      },
      "execution_count": 45,
      "outputs": []
    },
    {
      "cell_type": "code",
      "source": [
        "values #reprinting values to the names "
      ],
      "metadata": {
        "colab": {
          "base_uri": "https://localhost:8080/"
        },
        "id": "Xp7pULK-FAhR",
        "outputId": "a830a628-42d6-4c1a-e013-41656c00477e"
      },
      "execution_count": 46,
      "outputs": [
        {
          "output_type": "execute_result",
          "data": {
            "text/plain": [
              "[15, 18, 6]"
            ]
          },
          "metadata": {},
          "execution_count": 46
        }
      ]
    },
    {
      "cell_type": "code",
      "source": [
        "values[0] #reprinting values to the names "
      ],
      "metadata": {
        "colab": {
          "base_uri": "https://localhost:8080/"
        },
        "id": "pSvSKnJCFBCh",
        "outputId": "4814ad20-5f37-4e81-c7fe-7d35be31106f"
      },
      "execution_count": 47,
      "outputs": [
        {
          "output_type": "execute_result",
          "data": {
            "text/plain": [
              "15"
            ]
          },
          "metadata": {},
          "execution_count": 47
        }
      ]
    },
    {
      "cell_type": "code",
      "source": [
        "values[1] #reprinting values to the names "
      ],
      "metadata": {
        "colab": {
          "base_uri": "https://localhost:8080/"
        },
        "id": "_Kquih5SFCLR",
        "outputId": "c903edd5-446c-4de5-878c-356b14e387a5"
      },
      "execution_count": 48,
      "outputs": [
        {
          "output_type": "execute_result",
          "data": {
            "text/plain": [
              "18"
            ]
          },
          "metadata": {},
          "execution_count": 48
        }
      ]
    },
    {
      "cell_type": "code",
      "source": [
        "values[2] #reprinting values to the names "
      ],
      "metadata": {
        "colab": {
          "base_uri": "https://localhost:8080/"
        },
        "id": "3TOBg5CQFDGx",
        "outputId": "9ed7ea21-d9a5-4ed2-b15d-3d4bbcc7627a"
      },
      "execution_count": 49,
      "outputs": [
        {
          "output_type": "execute_result",
          "data": {
            "text/plain": [
              "6"
            ]
          },
          "metadata": {},
          "execution_count": 49
        }
      ]
    },
    {
      "cell_type": "code",
      "source": [
        "#graphing the names and values from above in different styles \n",
        "plt.figure(1,figsize=(10,10))\n",
        "\n",
        "plt.subplot(1,3,1) # 1 row 3 coloms, plot your trying to fill in \n",
        "plt.bar(names,values) #this allows us to show sizes and make a bar graph\n",
        "\n",
        "plt.subplot(1,3,2)\n",
        "plt.scatter(names,values) #scatter plot \n",
        "\n",
        "plt.subplot(1,3,3)\n",
        "plt.plot(names,values) #line plot"
      ],
      "metadata": {
        "colab": {
          "base_uri": "https://localhost:8080/",
          "height": 610
        },
        "id": "Md27GkZSFDrQ",
        "outputId": "3914c220-e979-4115-aa19-2c19cdf8dff0"
      },
      "execution_count": 50,
      "outputs": [
        {
          "output_type": "execute_result",
          "data": {
            "text/plain": [
              "[<matplotlib.lines.Line2D at 0x7f39bc136710>]"
            ]
          },
          "metadata": {},
          "execution_count": 50
        },
        {
          "output_type": "display_data",
          "data": {
            "text/plain": [
              "<Figure size 720x720 with 3 Axes>"
            ],
            "image/png": "[encoded data removed]"
          },
          "metadata": {
            "needs_background": "light"
          }
        }
      ]
    },
    {
      "cell_type": "code",
      "source": [
        "#graphing the names and values from above in different styles \n",
        "plt.figure(1,figsize=(10,10))\n",
        "\n",
        "plt.subplot(2,2,1) # 1 row 3 coloms, plot your trying to fill in \n",
        "plt.bar(names,values) #this allows us to show sizes and make a bar graph\n",
        "\n",
        "plt.subplot(2,2,2)\n",
        "plt.scatter(names,values) #scatter plot \n",
        "\n",
        "plt.subplot(2,2,3)\n",
        "plt.plot(names,values) #line plot\n",
        "\n",
        "plt.subplot(2,2,4)\n",
        "plt.plot(names,values)"
      ],
      "metadata": {
        "id": "P7sVe4kQFWPC",
        "colab": {
          "base_uri": "https://localhost:8080/",
          "height": 610
        },
        "outputId": "2e103a05-2808-454f-aaf6-e1ddbdc988d4"
      },
      "execution_count": 52,
      "outputs": [
        {
          "output_type": "execute_result",
          "data": {
            "text/plain": [
              "[<matplotlib.lines.Line2D at 0x7f39bc3fe990>]"
            ]
          },
          "metadata": {},
          "execution_count": 52
        },
        {
          "output_type": "display_data",
          "data": {
            "text/plain": [
              "<Figure size 720x720 with 4 Axes>"
            ],
            "image/png": "[encoded data removed]"
          },
          "metadata": {
            "needs_background": "light"
          }
        }
      ]
    },
    {
      "cell_type": "markdown",
      "source": [
        "# Exercises "
      ],
      "metadata": {
        "id": "iLof9jmPhMUJ"
      }
    },
    {
      "cell_type": "code",
      "source": [
        "import numpy as np\n",
        "import matplotlib.pyplot as plt\n"
      ],
      "metadata": {
        "id": "V2YlvZvtjEBS"
      },
      "execution_count": 54,
      "outputs": []
    },
    {
      "cell_type": "code",
      "source": [
        "np.arange (-10,10)"
      ],
      "metadata": {
        "colab": {
          "base_uri": "https://localhost:8080/"
        },
        "id": "YHOITSn_jQLu",
        "outputId": "23cef24b-ce25-43d5-85df-b3283cfde83d"
      },
      "execution_count": 55,
      "outputs": [
        {
          "output_type": "execute_result",
          "data": {
            "text/plain": [
              "array([-10,  -9,  -8,  -7,  -6,  -5,  -4,  -3,  -2,  -1,   0,   1,   2,\n",
              "         3,   4,   5,   6,   7,   8,   9])"
            ]
          },
          "metadata": {},
          "execution_count": 55
        }
      ]
    },
    {
      "cell_type": "code",
      "source": [
        "x= np.arange(-10,10)"
      ],
      "metadata": {
        "id": "nnPtI5BjjQIz"
      },
      "execution_count": 56,
      "outputs": []
    },
    {
      "cell_type": "code",
      "source": [
        "\n",
        "x\n"
      ],
      "metadata": {
        "colab": {
          "base_uri": "https://localhost:8080/"
        },
        "id": "tqwpEMrxjP0O",
        "outputId": "7b147ca1-5753-49ff-a22e-3302f164119a"
      },
      "execution_count": 57,
      "outputs": [
        {
          "output_type": "execute_result",
          "data": {
            "text/plain": [
              "array([-10,  -9,  -8,  -7,  -6,  -5,  -4,  -3,  -2,  -1,   0,   1,   2,\n",
              "         3,   4,   5,   6,   7,   8,   9])"
            ]
          },
          "metadata": {},
          "execution_count": 57
        }
      ]
    },
    {
      "cell_type": "code",
      "source": [
        "y=10*x+7"
      ],
      "metadata": {
        "id": "5RvgsP_LhOBK"
      },
      "execution_count": 58,
      "outputs": []
    },
    {
      "cell_type": "code",
      "source": [
        "y\n"
      ],
      "metadata": {
        "colab": {
          "base_uri": "https://localhost:8080/"
        },
        "id": "SlCZd4Obi37i",
        "outputId": "161f5f7d-e6f4-45e9-a9a2-1e0ffc25f515"
      },
      "execution_count": 59,
      "outputs": [
        {
          "output_type": "execute_result",
          "data": {
            "text/plain": [
              "array([-93, -83, -73, -63, -53, -43, -33, -23, -13,  -3,   7,  17,  27,\n",
              "        37,  47,  57,  67,  77,  87,  97])"
            ]
          },
          "metadata": {},
          "execution_count": 59
        }
      ]
    },
    {
      "cell_type": "code",
      "source": [
        "plt.plot (x,y)\n",
        "plt.title(\"Graph of y=10x+7\");\n",
        "plt.xlabel(\"x\");\n",
        "plt.ylabel(\"y\");\n"
      ],
      "metadata": {
        "colab": {
          "base_uri": "https://localhost:8080/",
          "height": 295
        },
        "id": "YH3_C3NhkG-F",
        "outputId": "91c1985e-b40a-4116-8e7c-e2e9adeb6ec7"
      },
      "execution_count": 60,
      "outputs": [
        {
          "output_type": "display_data",
          "data": {
            "text/plain": [
              "<Figure size 432x288 with 1 Axes>"
            ],
            "image/png": "[encoded data removed]"
          },
          "metadata": {
            "needs_background": "light"
          }
        }
      ]
    },
    {
      "cell_type": "code",
      "source": [
        "y=-3*x-12"
      ],
      "metadata": {
        "id": "NsmRwkHLkr4c"
      },
      "execution_count": 61,
      "outputs": []
    },
    {
      "cell_type": "code",
      "source": [
        "y"
      ],
      "metadata": {
        "colab": {
          "base_uri": "https://localhost:8080/"
        },
        "id": "wa-207fglQVJ",
        "outputId": "ca050412-c902-4cb0-8bf9-917004477035"
      },
      "execution_count": 62,
      "outputs": [
        {
          "output_type": "execute_result",
          "data": {
            "text/plain": [
              "array([ 18,  15,  12,   9,   6,   3,   0,  -3,  -6,  -9, -12, -15, -18,\n",
              "       -21, -24, -27, -30, -33, -36, -39])"
            ]
          },
          "metadata": {},
          "execution_count": 62
        }
      ]
    },
    {
      "cell_type": "code",
      "source": [
        "plt.plot (x,y)\n",
        "plt.title(\"Graph of y=-3x-12\");\n",
        "plt.xlabel(\"x\");\n",
        "plt.ylabel(\"y\");"
      ],
      "metadata": {
        "colab": {
          "base_uri": "https://localhost:8080/",
          "height": 295
        },
        "id": "ZgfqpvVmlRGo",
        "outputId": "2cd5cfc9-652b-414e-aca3-6702c1e02819"
      },
      "execution_count": 63,
      "outputs": [
        {
          "output_type": "display_data",
          "data": {
            "text/plain": [
              "<Figure size 432x288 with 1 Axes>"
            ],
            "image/png": "[encoded data removed]"
          },
          "metadata": {
            "needs_background": "light"
          }
        }
      ]
    },
    {
      "cell_type": "code",
      "source": [
        "y= np.sin(x)"
      ],
      "metadata": {
        "id": "QBC29fu1lU_1"
      },
      "execution_count": 64,
      "outputs": []
    },
    {
      "cell_type": "code",
      "source": [
        "y"
      ],
      "metadata": {
        "colab": {
          "base_uri": "https://localhost:8080/"
        },
        "id": "C3h0PBNJnmer",
        "outputId": "665c1d86-8e30-42c0-99be-f03eaf89abe8"
      },
      "execution_count": 65,
      "outputs": [
        {
          "output_type": "execute_result",
          "data": {
            "text/plain": [
              "array([ 0.54402111, -0.41211849, -0.98935825, -0.6569866 ,  0.2794155 ,\n",
              "        0.95892427,  0.7568025 , -0.14112001, -0.90929743, -0.84147098,\n",
              "        0.        ,  0.84147098,  0.90929743,  0.14112001, -0.7568025 ,\n",
              "       -0.95892427, -0.2794155 ,  0.6569866 ,  0.98935825,  0.41211849])"
            ]
          },
          "metadata": {},
          "execution_count": 65
        }
      ]
    },
    {
      "cell_type": "code",
      "source": [
        "plt.plot (x,y)\n",
        "plt.title(\"Graph of y=sin(x)\");\n",
        "plt.xlabel(\"x\");\n",
        "plt.ylabel(\"y\");"
      ],
      "metadata": {
        "colab": {
          "base_uri": "https://localhost:8080/",
          "height": 295
        },
        "id": "vuK7-Ww2nngI",
        "outputId": "364ca7bf-34cb-4640-f6b3-8a610d18b45f"
      },
      "execution_count": 66,
      "outputs": [
        {
          "output_type": "display_data",
          "data": {
            "text/plain": [
              "<Figure size 432x288 with 1 Axes>"
            ],
            "image/png": "[encoded data removed]"
          },
          "metadata": {
            "needs_background": "light"
          }
        }
      ]
    },
    {
      "cell_type": "code",
      "source": [
        "y=np.exp(x)\n"
      ],
      "metadata": {
        "id": "GMYdEWA5nsjm"
      },
      "execution_count": 67,
      "outputs": []
    },
    {
      "cell_type": "code",
      "source": [
        "y"
      ],
      "metadata": {
        "colab": {
          "base_uri": "https://localhost:8080/"
        },
        "id": "Rs1q_7Rqn0nf",
        "outputId": "9ae8ebde-ab83-4aa2-c74a-e82a2c52b439"
      },
      "execution_count": 68,
      "outputs": [
        {
          "output_type": "execute_result",
          "data": {
            "text/plain": [
              "array([4.53999298e-05, 1.23409804e-04, 3.35462628e-04, 9.11881966e-04,\n",
              "       2.47875218e-03, 6.73794700e-03, 1.83156389e-02, 4.97870684e-02,\n",
              "       1.35335283e-01, 3.67879441e-01, 1.00000000e+00, 2.71828183e+00,\n",
              "       7.38905610e+00, 2.00855369e+01, 5.45981500e+01, 1.48413159e+02,\n",
              "       4.03428793e+02, 1.09663316e+03, 2.98095799e+03, 8.10308393e+03])"
            ]
          },
          "metadata": {},
          "execution_count": 68
        }
      ]
    },
    {
      "cell_type": "code",
      "source": [
        "plt.plot (x,y)\n",
        "plt.title(\"Graph of y=e^x\");\n",
        "plt.xlabel(\"x\");\n",
        "plt.ylabel(\"y\");"
      ],
      "metadata": {
        "colab": {
          "base_uri": "https://localhost:8080/",
          "height": 295
        },
        "id": "dwtZU2mhn3lN",
        "outputId": "a4461634-3fed-4941-b4e3-254f90a180c4"
      },
      "execution_count": 69,
      "outputs": [
        {
          "output_type": "display_data",
          "data": {
            "text/plain": [
              "<Figure size 432x288 with 1 Axes>"
            ],
            "image/png": "[encoded data removed]"
          },
          "metadata": {
            "needs_background": "light"
          }
        }
      ]
    },
    {
      "cell_type": "code",
      "source": [
        "y=np.exp(-x^2)"
      ],
      "metadata": {
        "id": "k4K3yRABoN9n"
      },
      "execution_count": 70,
      "outputs": []
    },
    {
      "cell_type": "code",
      "source": [
        "y\n"
      ],
      "metadata": {
        "colab": {
          "base_uri": "https://localhost:8080/"
        },
        "id": "DatCIpfkofuU",
        "outputId": "990e4f4a-9a76-49b6-80b2-30be99c40ff4"
      },
      "execution_count": 71,
      "outputs": [
        {
          "output_type": "execute_result",
          "data": {
            "text/plain": [
              "array([2.98095799e+03, 5.98741417e+04, 2.20264658e+04, 1.48413159e+02,\n",
              "       5.45981500e+01, 1.09663316e+03, 4.03428793e+02, 2.71828183e+00,\n",
              "       1.00000000e+00, 2.00855369e+01, 7.38905610e+00, 4.97870684e-02,\n",
              "       1.83156389e-02, 3.67879441e-01, 1.35335283e-01, 9.11881966e-04,\n",
              "       3.35462628e-04, 6.73794700e-03, 2.47875218e-03, 1.67017008e-05])"
            ]
          },
          "metadata": {},
          "execution_count": 71
        }
      ]
    },
    {
      "cell_type": "code",
      "source": [
        "plt.plot (x,y)\n",
        "plt.title(\"Graph of y=-x^2\");\n",
        "plt.xlabel(\"x\");\n",
        "plt.ylabel(\"y\");"
      ],
      "metadata": {
        "colab": {
          "base_uri": "https://localhost:8080/",
          "height": 295
        },
        "id": "_d98RhB2p9mg",
        "outputId": "b32323d5-c883-4d62-990c-d1cfbbbb6003"
      },
      "execution_count": 72,
      "outputs": [
        {
          "output_type": "display_data",
          "data": {
            "text/plain": [
              "<Figure size 432x288 with 1 Axes>"
            ],
            "image/png": "[encoded data removed]"
          },
          "metadata": {
            "needs_background": "light"
          }
        }
      ]
    },
    {
      "cell_type": "code",
      "source": [],
      "metadata": {
        "id": "FnaffmMCqHhV"
      },
      "execution_count": 72,
      "outputs": []
    }
  ]
}