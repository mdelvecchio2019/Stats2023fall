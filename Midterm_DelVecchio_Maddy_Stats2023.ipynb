{
  "nbformat": 4,
  "nbformat_minor": 0,
  "metadata": {
    "colab": {
      "provenance": [],
      "collapsed_sections": [],
      "include_colab_link": true
    },
    "kernelspec": {
      "name": "python3",
      "display_name": "Python 3"
    },
    "language_info": {
      "name": "python"
    }
  },
  "cells": [
    {
      "cell_type": "markdown",
      "metadata": {
        "id": "view-in-github",
        "colab_type": "text"
      },
      "source": [
        "<a href=\"https://colab.research.google.com/github/mdelvecchio2019/Stats2023fall/blob/main/Midterm_DelVecchio_Maddy_Stats2023.ipynb\" target=\"_parent\"><img src=\"https://colab.research.google.com/assets/colab-badge.svg\" alt=\"Open In Colab\"/></a>"
      ]
    },
    {
      "cell_type": "markdown",
      "source": [
        "# STA 2023 Midterm Project\n",
        "\n",
        "Directions:\n",
        "\n",
        "*   Use any and all resources available to you\n",
        "*   Comment and explain the code\n",
        "*   Answer the questions to the best of your abilities\n",
        "*   There are no points for pain: ask for help\n",
        "\n",
        "Save this notebook to your GitHub and submit the link."
      ],
      "metadata": {
        "id": "WyqM99KnfwFM"
      }
    },
    {
      "cell_type": "code",
      "source": [
        "import numpy as np\n",
        "import matplotlib.pyplot as plt\n",
        "from statistics import mean"
      ],
      "metadata": {
        "id": "ZE7xzRUigBYy"
      },
      "execution_count": null,
      "outputs": []
    },
    {
      "cell_type": "markdown",
      "source": [
        "## Part 1: Getting your data\n",
        "\n",
        "Create a google form to input your data.\n",
        "Follow the same method as [Lab 5](https://colab.research.google.com/drive/1zYvyhrz2wVnJXlZqj_PpxOxplfS3LN9Y?usp=sharing)."
      ],
      "metadata": {
        "id": "tkn5UxLMg4GS"
      }
    },
    {
      "cell_type": "code",
      "source": [
        "import pandas as pd #importing open sourced data for us to use throughout the code \n",
        "def get_database(url): # This function loads the google spreadsheet\n",
        "    url_head = \"https://docs.google.com/spreadsheets/d/\" #splitting the url by head and foot and body\n",
        "    url_foot = \"/gviz/tq?tqx=out:csv&sheet=\" #splitting the url by head and foot and body\n",
        "    url_body = url.split('/')[5] #splitting the url by head and foot and body as well as estalishing the split point\n",
        "    sheet_name = \"1\" #establishing what sheet in the google sheet that has the data to pull the information from \n",
        "    url_csv = url_head + url_body + url_foot + sheet_name #giving one main name for all the variables that were split \n",
        "    df = pd.read_csv(url_csv, sep=',', skiprows=0) #establishing that we will read the data frame of the data included, not skip any rows, and wehre to sepedrate things \n",
        "    return df #were returning the result of the data read from the df function "
      ],
      "metadata": {
        "id": "B0XQVmQIgdrp"
      },
      "execution_count": null,
      "outputs": []
    },
    {
      "cell_type": "markdown",
      "source": [
        "Put your form url here:"
      ],
      "metadata": {
        "id": "e3G1Q_8rjlLI"
      }
    },
    {
      "cell_type": "code",
      "source": [
        "url = 'https://docs.google.com/spreadsheets/d/1FtHwNyYP1pt7dTfc2jbKZ0eyMCRZgXN40S4IhFuETGA/edit?resourcekey=undefined#gid=1535178349'\n"
      ],
      "metadata": {
        "id": "PfAztwghjql2"
      },
      "execution_count": null,
      "outputs": []
    },
    {
      "cell_type": "markdown",
      "source": [
        "This is the url linked to my google spreadsheet in which holds the data to the different circumferences and diameters of different circular objects "
      ],
      "metadata": {
        "id": "VKBtAi18p9bK"
      }
    },
    {
      "cell_type": "code",
      "source": [
        "data = get_database(url) #we are assigning the get database function to the variable data "
      ],
      "metadata": {
        "id": "_SA4UhnqjyhY"
      },
      "execution_count": null,
      "outputs": []
    },
    {
      "cell_type": "code",
      "source": [
        "data #we are printing the url and information within the spreadsheet "
      ],
      "metadata": {
        "colab": {
          "base_uri": "https://localhost:8080/",
          "height": 206
        },
        "id": "e4ZytgH4Tipr",
        "outputId": "ca9afb4e-24fe-4171-adb5-bc8950d668de"
      },
      "execution_count": null,
      "outputs": [
        {
          "output_type": "execute_result",
          "data": {
            "text/plain": [
              "             Timestamp What is the object   \\\n",
              "0  10/18/2022 13:52:34               plate   \n",
              "1  10/18/2022 13:54:28         bottle cap    \n",
              "2  10/18/2022 13:57:21             quarter   \n",
              "3  10/18/2022 14:06:59   peanut butter jar   \n",
              "4  10/18/2022 14:09:22              candle   \n",
              "\n",
              "   What is the diameter of the object?  \\\n",
              "0                               10.500   \n",
              "1                                1.260   \n",
              "2                                0.955   \n",
              "3                                3.600   \n",
              "4                                4.130   \n",
              "\n",
              "   What is the circumference of the object?  \n",
              "0                                     32.99  \n",
              "1                                      3.96  \n",
              "2                                      3.02  \n",
              "3                                     11.31  \n",
              "4                                     12.94  "
            ],
            "text/html": [
              "\n",
              "  <div id=\"df-a2640f8e-4a77-43bb-b968-210cc463ed9d\">\n",
              "    <div class=\"colab-df-container\">\n",
              "      <div>\n",
              "<style scoped>\n",
              "    .dataframe tbody tr th:only-of-type {\n",
              "        vertical-align: middle;\n",
              "    }\n",
              "\n",
              "    .dataframe tbody tr th {\n",
              "        vertical-align: top;\n",
              "    }\n",
              "\n",
              "    .dataframe thead th {\n",
              "        text-align: right;\n",
              "    }\n",
              "</style>\n",
              "<table border=\"1\" class=\"dataframe\">\n",
              "  <thead>\n",
              "    <tr style=\"text-align: right;\">\n",
              "      <th></th>\n",
              "      <th>Timestamp</th>\n",
              "      <th>What is the object</th>\n",
              "      <th>What is the diameter of the object?</th>\n",
              "      <th>What is the circumference of the object?</th>\n",
              "    </tr>\n",
              "  </thead>\n",
              "  <tbody>\n",
              "    <tr>\n",
              "      <th>0</th>\n",
              "      <td>10/18/2022 13:52:34</td>\n",
              "      <td>plate</td>\n",
              "      <td>10.500</td>\n",
              "      <td>32.99</td>\n",
              "    </tr>\n",
              "    <tr>\n",
              "      <th>1</th>\n",
              "      <td>10/18/2022 13:54:28</td>\n",
              "      <td>bottle cap</td>\n",
              "      <td>1.260</td>\n",
              "      <td>3.96</td>\n",
              "    </tr>\n",
              "    <tr>\n",
              "      <th>2</th>\n",
              "      <td>10/18/2022 13:57:21</td>\n",
              "      <td>quarter</td>\n",
              "      <td>0.955</td>\n",
              "      <td>3.02</td>\n",
              "    </tr>\n",
              "    <tr>\n",
              "      <th>3</th>\n",
              "      <td>10/18/2022 14:06:59</td>\n",
              "      <td>peanut butter jar</td>\n",
              "      <td>3.600</td>\n",
              "      <td>11.31</td>\n",
              "    </tr>\n",
              "    <tr>\n",
              "      <th>4</th>\n",
              "      <td>10/18/2022 14:09:22</td>\n",
              "      <td>candle</td>\n",
              "      <td>4.130</td>\n",
              "      <td>12.94</td>\n",
              "    </tr>\n",
              "  </tbody>\n",
              "</table>\n",
              "</div>\n",
              "      <button class=\"colab-df-convert\" onclick=\"convertToInteractive('df-a2640f8e-4a77-43bb-b968-210cc463ed9d')\"\n",
              "              title=\"Convert this dataframe to an interactive table.\"\n",
              "              style=\"display:none;\">\n",
              "        \n",
              "  <svg xmlns=\"http://www.w3.org/2000/svg\" height=\"24px\"viewBox=\"0 0 24 24\"\n",
              "       width=\"24px\">\n",
              "    <path d=\"M0 0h24v24H0V0z\" fill=\"none\"/>\n",
              "    <path d=\"M18.56 5.44l.94 2.06.94-2.06 2.06-.94-2.06-.94-.94-2.06-.94 2.06-2.06.94zm-11 1L8.5 8.5l.94-2.06 2.06-.94-2.06-.94L8.5 2.5l-.94 2.06-2.06.94zm10 10l.94 2.06.94-2.06 2.06-.94-2.06-.94-.94-2.06-.94 2.06-2.06.94z\"/><path d=\"M17.41 7.96l-1.37-1.37c-.4-.4-.92-.59-1.43-.59-.52 0-1.04.2-1.43.59L10.3 9.45l-7.72 7.72c-.78.78-.78 2.05 0 2.83L4 21.41c.39.39.9.59 1.41.59.51 0 1.02-.2 1.41-.59l7.78-7.78 2.81-2.81c.8-.78.8-2.07 0-2.86zM5.41 20L4 18.59l7.72-7.72 1.47 1.35L5.41 20z\"/>\n",
              "  </svg>\n",
              "      </button>\n",
              "      \n",
              "  <style>\n",
              "    .colab-df-container {\n",
              "      display:flex;\n",
              "      flex-wrap:wrap;\n",
              "      gap: 12px;\n",
              "    }\n",
              "\n",
              "    .colab-df-convert {\n",
              "      background-color: #E8F0FE;\n",
              "      border: none;\n",
              "      border-radius: 50%;\n",
              "      cursor: pointer;\n",
              "      display: none;\n",
              "      fill: #1967D2;\n",
              "      height: 32px;\n",
              "      padding: 0 0 0 0;\n",
              "      width: 32px;\n",
              "    }\n",
              "\n",
              "    .colab-df-convert:hover {\n",
              "      background-color: #E2EBFA;\n",
              "      box-shadow: 0px 1px 2px rgba(60, 64, 67, 0.3), 0px 1px 3px 1px rgba(60, 64, 67, 0.15);\n",
              "      fill: #174EA6;\n",
              "    }\n",
              "\n",
              "    [theme=dark] .colab-df-convert {\n",
              "      background-color: #3B4455;\n",
              "      fill: #D2E3FC;\n",
              "    }\n",
              "\n",
              "    [theme=dark] .colab-df-convert:hover {\n",
              "      background-color: #434B5C;\n",
              "      box-shadow: 0px 1px 3px 1px rgba(0, 0, 0, 0.15);\n",
              "      filter: drop-shadow(0px 1px 2px rgba(0, 0, 0, 0.3));\n",
              "      fill: #FFFFFF;\n",
              "    }\n",
              "  </style>\n",
              "\n",
              "      <script>\n",
              "        const buttonEl =\n",
              "          document.querySelector('#df-a2640f8e-4a77-43bb-b968-210cc463ed9d button.colab-df-convert');\n",
              "        buttonEl.style.display =\n",
              "          google.colab.kernel.accessAllowed ? 'block' : 'none';\n",
              "\n",
              "        async function convertToInteractive(key) {\n",
              "          const element = document.querySelector('#df-a2640f8e-4a77-43bb-b968-210cc463ed9d');\n",
              "          const dataTable =\n",
              "            await google.colab.kernel.invokeFunction('convertToInteractive',\n",
              "                                                     [key], {});\n",
              "          if (!dataTable) return;\n",
              "\n",
              "          const docLinkHtml = 'Like what you see? Visit the ' +\n",
              "            '<a target=\"_blank\" href=https://colab.research.google.com/notebooks/data_table.ipynb>data table notebook</a>'\n",
              "            + ' to learn more about interactive tables.';\n",
              "          element.innerHTML = '';\n",
              "          dataTable['output_type'] = 'display_data';\n",
              "          await google.colab.output.renderOutput(dataTable, element);\n",
              "          const docLink = document.createElement('div');\n",
              "          docLink.innerHTML = docLinkHtml;\n",
              "          element.appendChild(docLink);\n",
              "        }\n",
              "      </script>\n",
              "    </div>\n",
              "  </div>\n",
              "  "
            ]
          },
          "metadata": {},
          "execution_count": 6
        }
      ]
    },
    {
      "cell_type": "code",
      "source": [
        "C= np.array ([32.99, 3.96, 3.02, 11.31,12.94]) #circumference in an array \n",
        "D= np.array ([10.50, 1.26, 0.96, 3.60, 4.13]) #diameter in an array "
      ],
      "metadata": {
        "id": "HwjOm5sgj2JA"
      },
      "execution_count": null,
      "outputs": []
    },
    {
      "cell_type": "markdown",
      "source": [
        "Plot your data points"
      ],
      "metadata": {
        "id": "INpIcEh1mUKn"
      }
    },
    {
      "cell_type": "code",
      "source": [
        "a= 0.96 #i assigned each variable individually to make the graph easier for myself, this represents an x value"
      ],
      "metadata": {
        "id": "CX9dvmXqVEa2"
      },
      "execution_count": null,
      "outputs": []
    },
    {
      "cell_type": "code",
      "source": [
        "b= 3.02 #i assigned each variable individually to make the graph easier for myself, this represents an y value"
      ],
      "metadata": {
        "id": "ri7GCT3-VHqa"
      },
      "execution_count": null,
      "outputs": []
    },
    {
      "cell_type": "code",
      "source": [
        "c= 1.26 #i assigned each variable individually to make the graph easier for myself, this represents an x value"
      ],
      "metadata": {
        "id": "_O0Kk1Xwz3ku"
      },
      "execution_count": null,
      "outputs": []
    },
    {
      "cell_type": "code",
      "source": [
        "d= 3.96 #i assigned each variable individually to make the graph easier for myself, this represents an y value"
      ],
      "metadata": {
        "id": "cuyubONpz3Nx"
      },
      "execution_count": null,
      "outputs": []
    },
    {
      "cell_type": "code",
      "source": [
        "e= 3.60 #i assigned each variable individually to make the graph easier for myself, this represents an x value"
      ],
      "metadata": {
        "id": "hWXpSazKz3GA"
      },
      "execution_count": null,
      "outputs": []
    },
    {
      "cell_type": "code",
      "source": [
        "f= 11.31 #i assigned each variable individually to make the graph easier for myself, this represents an y value"
      ],
      "metadata": {
        "id": "W1WBuAZh2qrC"
      },
      "execution_count": null,
      "outputs": []
    },
    {
      "cell_type": "code",
      "source": [
        "g= 4.13 #i assigned each variable individually to make the graph easier for myself, this represents an x value"
      ],
      "metadata": {
        "id": "8qvtrQIC2qoK"
      },
      "execution_count": null,
      "outputs": []
    },
    {
      "cell_type": "code",
      "source": [
        "h= 12.94 #i assigned each variable individually to make the graph easier for myself, this represents an y value"
      ],
      "metadata": {
        "id": "Gs1vrO_n2qlC"
      },
      "execution_count": null,
      "outputs": []
    },
    {
      "cell_type": "code",
      "source": [
        "i= 10.50 #i assigned each variable individually to make the graph easier for myself, this represents an x value"
      ],
      "metadata": {
        "id": "GMNoo8Ix2qhb"
      },
      "execution_count": null,
      "outputs": []
    },
    {
      "cell_type": "code",
      "source": [
        "j= 32.99 #i assigned each variable individually to make the graph easier for myself, this represents an y value"
      ],
      "metadata": {
        "id": "RPxTUZRF2z6V"
      },
      "execution_count": null,
      "outputs": []
    },
    {
      "cell_type": "code",
      "source": [
        "plt.title(\"Circle Diameter vs Circumference\") #naming the graph\n",
        "\n",
        "plt.xlabel('diameter in inches') #labeling the x axis\n",
        "plt.ylabel('circumference in inches') #labeling the y axis\n",
        "\n",
        "plt.plot(a,b, label='quarter', marker='o'); #plotting our data collected, labeling it, changing the marker and coloring it\n",
        "plt.plot(c,d, label='bottle cap', marker='o'); #plotting our data collected, labeling it, changing the marker and coloring it\n",
        "plt.plot(e,f, label='candle', marker='o',); #plotting our data collected, labeling it, changing the marker and coloring it\n",
        "plt.plot(g,h, label='peanut butter jar', marker='o'); #plotting our data collected, labeling it, changing the marker and coloring it\n",
        "plt.plot(i,j, label='plate', marker='o'); #plotting our data collected, labeling it, changing the marker and coloring it\n",
        "\n",
        "plt.legend(); #this allows the labels to be shown on the graph\n"
      ],
      "metadata": {
        "id": "uoX4t7tIj8id",
        "colab": {
          "base_uri": "https://localhost:8080/",
          "height": 295
        },
        "outputId": "1520cd8b-b5fe-4e75-ae25-d682b4e16f81"
      },
      "execution_count": null,
      "outputs": [
        {
          "output_type": "display_data",
          "data": {
            "text/plain": [
              "<Figure size 432x288 with 1 Axes>"
            ],
            "image/png": "[encoded data removed]"
          },
          "metadata": {
            "needs_background": "light"
          }
        }
      ]
    },
    {
      "cell_type": "markdown",
      "source": [
        "this is my graph, i was able to label both axis' as well as make a title via the plt.title and plt.x/ylabel statments. I also used my individual data points that i assigned to each variable so that way i could label on the graph each point on the graph to match the object, i did that with the label= function when plotting the points, i also made the marker bigger so it was easier to see by the marker= function."
      ],
      "metadata": {
        "id": "-oCEBxfxq07e"
      }
    },
    {
      "cell_type": "markdown",
      "source": [
        "## Part 2: Linear Fit\n",
        "\n",
        "Follow the steps in the [Linear Fit notebook]() to run a linear fit on your data."
      ],
      "metadata": {
        "id": "IhT_tn8ym8N8"
      }
    },
    {
      "cell_type": "code",
      "source": [
        "x= D #assigning the diameters to the x variable "
      ],
      "metadata": {
        "id": "yB5TKlSPNeB9"
      },
      "execution_count": null,
      "outputs": []
    },
    {
      "cell_type": "code",
      "source": [
        "y= C #assigning the circumferences to the y variable "
      ],
      "metadata": {
        "id": "rC0TNldWNDtH"
      },
      "execution_count": null,
      "outputs": []
    },
    {
      "cell_type": "code",
      "source": [
        "best_loss = 100000000000 #we are establishing estimated values \n",
        "best_m = 0 #we are establishing estimated values \n",
        "best_b = 0 #we are establishing estimated values \n",
        "\n",
        "for m_guess in np.linspace(-100,100,100): #we are setting perimeters for for the m and b guesses in a linspace \n",
        "    for b_guess in np.linspace(-100,100,100): #we are setting perimeters for for the m and b guesses in a linspace \n",
        "        \n",
        "        y_guess = m_guess * x + b_guess #finding out what y_guess is by using the parameters of the x values, m & b guesses\n",
        "\n",
        "        loss = np.sum((y_guess - y)**2) #finding the loss from the sum of y_guess from the y values squared \n",
        "\n",
        "        if loss < best_loss: #establishing what happens if the loss is less than the best loss\n",
        "            \n",
        "            best_loss = loss #the best loss will equal the loss\n",
        "            best_m = m_guess #the best m will equal the guess of m\n",
        "            best_b = b_guess #the best b will equal the guess of b\n"
      ],
      "metadata": {
        "id": "KZn5uJ31nk4X"
      },
      "execution_count": null,
      "outputs": []
    },
    {
      "cell_type": "code",
      "source": [
        "y_guess = best_m * x + best_b #determining the y_guess by taking the best m and b from above as well x and calculating it "
      ],
      "metadata": {
        "id": "kIZq3DoMNQGm"
      },
      "execution_count": null,
      "outputs": []
    },
    {
      "cell_type": "code",
      "source": [
        "y_guess # we are priniting the results for the y_guesses"
      ],
      "metadata": {
        "colab": {
          "base_uri": "https://localhost:8080/"
        },
        "id": "Rvz1V_fK5mxn",
        "outputId": "646886e0-ff29-4e6f-a732-3c1b8caca74c"
      },
      "execution_count": null,
      "outputs": [
        {
          "output_type": "execute_result",
          "data": {
            "text/plain": [
              "array([32.82828283,  4.82828283,  3.91919192, 11.91919192, 13.52525253])"
            ]
          },
          "metadata": {},
          "execution_count": 26
        }
      ]
    },
    {
      "cell_type": "code",
      "source": [
        "mean(y_guess) #we are taking the mean of all the y_guesses "
      ],
      "metadata": {
        "colab": {
          "base_uri": "https://localhost:8080/"
        },
        "id": "n5rosVoB56yn",
        "outputId": "e07e6f4b-6678-419e-f574-f9f6c52ab422"
      },
      "execution_count": null,
      "outputs": [
        {
          "output_type": "execute_result",
          "data": {
            "text/plain": [
              "13.404040404040408"
            ]
          },
          "metadata": {},
          "execution_count": 27
        }
      ]
    },
    {
      "cell_type": "code",
      "source": [
        "y_estimate = mean(y_guess) #we are establishing that y_estimate is equal to the mean value of the y_guesses "
      ],
      "metadata": {
        "id": "iQxzVNo_6hXH"
      },
      "execution_count": null,
      "outputs": []
    },
    {
      "cell_type": "code",
      "source": [
        "y_estimate #we are printing the y_estimate value "
      ],
      "metadata": {
        "colab": {
          "base_uri": "https://localhost:8080/"
        },
        "id": "E7lmHqzJ6lxJ",
        "outputId": "e93d1308-11c7-4129-e20a-de8f87c1b695"
      },
      "execution_count": null,
      "outputs": [
        {
          "output_type": "execute_result",
          "data": {
            "text/plain": [
              "13.404040404040408"
            ]
          },
          "metadata": {},
          "execution_count": 29
        }
      ]
    },
    {
      "cell_type": "markdown",
      "source": [
        "Plot the line of best fit:\n",
        "\n",
        "Use blue dots for the collected data and a red line for the estimate."
      ],
      "metadata": {
        "id": "I0KofkS9p7hu"
      }
    },
    {
      "cell_type": "code",
      "source": [
        "plt.title('Linear Fit of Circles') #naming the graph\n",
        "\n",
        "plt.xlabel('Diameter in inches') #labeling the x axis\n",
        "plt.ylabel('Circumference in inches') #labeling the y axis \n",
        "\n",
        "\n",
        "plt.plot(a,b, label='quarter', marker='o', color='purple'); #plotting our data collected, labeling it, changing the marker and coloring it\n",
        "plt.plot(c,d, label='bottle cap', marker='o', color='blue');  #plotting our data collected, labeling it, changing the marker and coloring it\n",
        "plt.plot(e,f, label='candle', marker='o',color='green');  #plotting our data collected, labeling it, changing the marker and coloring it\n",
        "plt.plot(g,h, label='peanut butter jar', marker='o',color='red');  #plotting our data collected, labeling it, changing the marker and coloring it\n",
        "plt.plot(i,j, label='plate', marker='o',color='orange');  #plotting our data collected, labeling it, changing the marker and coloring it\n",
        "\n",
        "\n",
        "plt.plot(x,y_guess, label=f'Estimate: $y = m x + b$',color='black') #plotting the best fit line, labeling it, and changning its color \n",
        "\n",
        "print(best_loss, best_m, best_b) #we are printing the best loss, m, and b with the graph \n",
        "plt.legend(); #this allows the labels to be shown on the graph"
      ],
      "metadata": {
        "id": "xe8G9X7DqACm",
        "colab": {
          "base_uri": "https://localhost:8080/",
          "height": 313
        },
        "outputId": "a90a4bad-5333-4927-8aa2-01f674f6d9f9"
      },
      "execution_count": null,
      "outputs": [
        {
          "output_type": "stream",
          "name": "stdout",
          "text": [
            "2.3022489337822774 3.030303030303031 1.0101010101010104\n"
          ]
        },
        {
          "output_type": "display_data",
          "data": {
            "text/plain": [
              "<Figure size 432x288 with 1 Axes>"
            ],
            "image/png": "[encoded data removed]"
          },
          "metadata": {
            "needs_background": "light"
          }
        }
      ]
    },
    {
      "cell_type": "markdown",
      "source": [
        "The estimated relationship is:\n",
        "\n",
        "$C = ? D + ?$\n",
        "\n",
        "3.030303030303031 (best m) and  1.010101010101010 (best b)"
      ],
      "metadata": {
        "id": "4zCAPG3upXN9"
      }
    },
    {
      "cell_type": "markdown",
      "source": [
        "## Part 3: Interpretation\n",
        "\n",
        "Answer the questions in text cells"
      ],
      "metadata": {
        "id": "7FBlUtdwt_hd"
      }
    },
    {
      "cell_type": "markdown",
      "source": [
        "#### Question 1:\n",
        "\n",
        "What do $m$ and $b$ represent in these equations?"
      ],
      "metadata": {
        "id": "9xIvwJhOuGDh"
      }
    },
    {
      "cell_type": "markdown",
      "source": [
        "the m represents the difference in the y and x coordinates or the slope of the line and the b is the y intercept of the line, where the line intersects with the y axis. "
      ],
      "metadata": {
        "id": "OC_Ja53Yugfn"
      }
    },
    {
      "cell_type": "markdown",
      "source": [
        "#### Question 2:\n",
        "\n",
        "Guess what the correct values $m$ and $b$ should be."
      ],
      "metadata": {
        "id": "_7xl4z8kubLo"
      }
    },
    {
      "cell_type": "markdown",
      "source": [
        "Based of the math in the equation and my numbers I would say that the m value would be 3 and the b value would be 1, however looking at the graph i would say that the m should be 3 and the b value would be 12 or 13."
      ],
      "metadata": {
        "id": "Te_52DvOuhZ-"
      }
    },
    {
      "cell_type": "markdown",
      "source": [
        "#### Question 3:\n",
        "\n",
        "Does it make sense to include $b$ in the parameters?"
      ],
      "metadata": {
        "id": "2yrRt2wMubSC"
      }
    },
    {
      "cell_type": "markdown",
      "source": [
        "Yes it makes sense to have b, you need it for the best fit line since b is the y-intercept "
      ],
      "metadata": {
        "id": "F0gbHr8_uiWi"
      }
    },
    {
      "cell_type": "markdown",
      "source": [
        "## Bonus:\n",
        "\n",
        "These problems are extra credit. You may use any resources, but be sure to explain your code."
      ],
      "metadata": {
        "id": "_3LN79rPujMz"
      }
    },
    {
      "cell_type": "markdown",
      "source": [
        "#### Bonus 1: Plot the squared errors from your line of best fit"
      ],
      "metadata": {
        "id": "wk0Ox4nqvFcT"
      }
    },
    {
      "cell_type": "code",
      "source": [
        "plt.title(\"Fit Errors\")\n",
        "\n",
        "plt.xlabel(\"Diameter\")\n",
        "plt.ylabel(\"Squared Error\")\n",
        "\n",
        "squared_error = ...\n",
        "\n",
        "plt.plot(..., 'b.', label = \"Errors\")\n",
        "\n",
        "plt.legend();"
      ],
      "metadata": {
        "id": "O8IQn-B_vXAN"
      },
      "execution_count": null,
      "outputs": []
    },
    {
      "cell_type": "markdown",
      "source": [
        "#### Bonus 2: Plot the errors as a histogram"
      ],
      "metadata": {
        "id": "ojVobjtBwK9o"
      }
    },
    {
      "cell_type": "code",
      "source": [
        "plt.title(\"Errors\")\n",
        "\n",
        "..."
      ],
      "metadata": {
        "id": "WJkR3s9kwujU"
      },
      "execution_count": null,
      "outputs": []
    },
    {
      "cell_type": "markdown",
      "source": [
        "What distribution does this histogram look like?"
      ],
      "metadata": {
        "id": "k9nm1qADyFiA"
      }
    },
    {
      "cell_type": "markdown",
      "source": [],
      "metadata": {
        "id": "r2Vo3k0xyKiK"
      }
    },
    {
      "cell_type": "markdown",
      "source": [
        "#### Bonus 3: Find the circle with the largest error. \n",
        "Hint: use np.max"
      ],
      "metadata": {
        "id": "qfDuImTvrF5V"
      }
    },
    {
      "cell_type": "code",
      "source": [
        "largest_error = ..."
      ],
      "metadata": {
        "id": "k7ShpKK6vWrH"
      },
      "execution_count": null,
      "outputs": []
    },
    {
      "cell_type": "markdown",
      "source": [
        "#### Bonus 4: Remove the circles with the 2 largest errors and run the fit again.\n"
      ],
      "metadata": {
        "id": "oQCq4D4uwZ7I"
      }
    },
    {
      "cell_type": "code",
      "source": [
        "..."
      ],
      "metadata": {
        "id": "EjddA54wwKPY"
      },
      "execution_count": null,
      "outputs": []
    },
    {
      "cell_type": "markdown",
      "source": [
        "What is the difference in your error?"
      ],
      "metadata": {
        "id": "V2jyayR-yOvF"
      }
    },
    {
      "cell_type": "markdown",
      "source": [],
      "metadata": {
        "id": "F1ZCdkHyyY9x"
      }
    },
    {
      "cell_type": "markdown",
      "source": [
        "#### Bonus 5: Find and explain a better method of fitting this data"
      ],
      "metadata": {
        "id": "1y-okVy_w22o"
      }
    },
    {
      "cell_type": "code",
      "source": [],
      "metadata": {
        "id": "sfOiajQCxH_7"
      },
      "execution_count": null,
      "outputs": []
    }
  ]
}