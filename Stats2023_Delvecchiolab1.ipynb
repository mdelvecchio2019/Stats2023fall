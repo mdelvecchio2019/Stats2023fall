{
  "nbformat": 4,
  "nbformat_minor": 0,
  "metadata": {
    "colab": {
      "provenance": [],
      "authorship_tag": "ABX9TyOv2RpuweXmpRedA0BhRPTu",
      "include_colab_link": true
    },
    "kernelspec": {
      "name": "python3",
      "display_name": "Python 3"
    },
    "language_info": {
      "name": "python"
    }
  },
  "cells": [
    {
      "cell_type": "markdown",
      "metadata": {
        "id": "view-in-github",
        "colab_type": "text"
      },
      "source": [
        "<a href=\"https://colab.research.google.com/github/mdelvecchio2019/Stats2023fall/blob/main/Stats2023_Delvecchiolab1.ipynb\" target=\"_parent\"><img src=\"https://colab.research.google.com/assets/colab-badge.svg\" alt=\"Open In Colab\"/></a>"
      ]
    },
    {
      "cell_type": "markdown",
      "source": [
        "Lab #1 notebook "
      ],
      "metadata": {
        "id": "O3E1nryFwvYN"
      }
    },
    {
      "cell_type": "markdown",
      "source": [
        "#Basic Math"
      ],
      "metadata": {
        "id": "E-PAnRb625kG"
      }
    },
    {
      "cell_type": "code",
      "execution_count": null,
      "metadata": {
        "colab": {
          "base_uri": "https://localhost:8080/"
        },
        "id": "hSoX3L2-wMrP",
        "outputId": "cce0ee79-8608-4754-e729-506742fd0005"
      },
      "outputs": [
        {
          "output_type": "execute_result",
          "data": {
            "text/plain": [
              "4"
            ]
          },
          "metadata": {},
          "execution_count": 1
        }
      ],
      "source": [
        "2+2"
      ]
    },
    {
      "cell_type": "markdown",
      "source": [
        "2 plus 2 equals 4\n"
      ],
      "metadata": {
        "id": "9gvMEGJ2xOLF"
      }
    },
    {
      "cell_type": "code",
      "source": [
        "2*24"
      ],
      "metadata": {
        "colab": {
          "base_uri": "https://localhost:8080/"
        },
        "id": "bcnFUt93xX7U",
        "outputId": "f0d5fb9e-23de-49b5-9f45-e995ffb2f99b"
      },
      "execution_count": null,
      "outputs": [
        {
          "output_type": "execute_result",
          "data": {
            "text/plain": [
              "48"
            ]
          },
          "metadata": {},
          "execution_count": 2
        }
      ]
    },
    {
      "cell_type": "markdown",
      "source": [
        "2 **times** 24 equals 48"
      ],
      "metadata": {
        "id": "GeqQEa0_xidm"
      }
    },
    {
      "cell_type": "code",
      "source": [
        "2**8"
      ],
      "metadata": {
        "colab": {
          "base_uri": "https://localhost:8080/"
        },
        "id": "vhcOy1vYxX-V",
        "outputId": "14a045ee-26b5-4166-aebf-1c34e6a46613"
      },
      "execution_count": null,
      "outputs": [
        {
          "output_type": "execute_result",
          "data": {
            "text/plain": [
              "256"
            ]
          },
          "metadata": {},
          "execution_count": 5
        }
      ]
    },
    {
      "cell_type": "markdown",
      "source": [
        "2 **squared** 8 equals 48 "
      ],
      "metadata": {
        "id": "nC8vL34KyBLW"
      }
    },
    {
      "cell_type": "code",
      "source": [
        "8/4\n"
      ],
      "metadata": {
        "colab": {
          "base_uri": "https://localhost:8080/"
        },
        "id": "9mvTHyjkxYB1",
        "outputId": "6ec87d12-1e53-405d-c8bb-8e476927e147"
      },
      "execution_count": null,
      "outputs": [
        {
          "output_type": "execute_result",
          "data": {
            "text/plain": [
              "2.0"
            ]
          },
          "metadata": {},
          "execution_count": 6
        }
      ]
    },
    {
      "cell_type": "markdown",
      "source": [
        "singular slash gives us a decimal point "
      ],
      "metadata": {
        "id": "tN5u06JPyA2O"
      }
    },
    {
      "cell_type": "code",
      "source": [
        "8//4\n"
      ],
      "metadata": {
        "colab": {
          "base_uri": "https://localhost:8080/"
        },
        "id": "sbu0_EqpxYEm",
        "outputId": "d1561774-7681-4b29-ea21-e4885b09c4a3"
      },
      "execution_count": null,
      "outputs": [
        {
          "output_type": "execute_result",
          "data": {
            "text/plain": [
              "2"
            ]
          },
          "metadata": {},
          "execution_count": 7
        }
      ]
    },
    {
      "cell_type": "markdown",
      "source": [
        "double slash gives us the whole number and ignores the remainder of the number \n"
      ],
      "metadata": {
        "id": "jvIFLwxoyAaf"
      }
    },
    {
      "cell_type": "code",
      "source": [
        "13%12 "
      ],
      "metadata": {
        "colab": {
          "base_uri": "https://localhost:8080/"
        },
        "id": "M7WFEIs-xYHO",
        "outputId": "67014b87-beea-4732-93d2-d7db0c51513e"
      },
      "execution_count": null,
      "outputs": [
        {
          "output_type": "execute_result",
          "data": {
            "text/plain": [
              "1"
            ]
          },
          "metadata": {},
          "execution_count": 2
        }
      ]
    },
    {
      "cell_type": "markdown",
      "source": [
        "modual of 12, think of this as what is the remainder when you divide 13 by 12, similar to long division \n"
      ],
      "metadata": {
        "id": "vbfjW3bNpa3u"
      }
    },
    {
      "cell_type": "code",
      "source": [
        "22%12 #another example for modual of 12\n"
      ],
      "metadata": {
        "colab": {
          "base_uri": "https://localhost:8080/"
        },
        "id": "IlYzS_ICxYJ9",
        "outputId": "062e6401-06a5-4f3b-9aa5-8ebb4c53470e"
      },
      "execution_count": null,
      "outputs": [
        {
          "output_type": "execute_result",
          "data": {
            "text/plain": [
              "10"
            ]
          },
          "metadata": {},
          "execution_count": 1
        }
      ]
    },
    {
      "cell_type": "markdown",
      "source": [
        "# This is a comment \n",
        "hashtag is important in python  if put in the code it will seperate as a comment "
      ],
      "metadata": {
        "id": "GhDAgRlGxy_E"
      }
    },
    {
      "cell_type": "markdown",
      "source": [
        "# Variables (fruit)"
      ],
      "metadata": {
        "id": "GHkSquUZyf73"
      }
    },
    {
      "cell_type": "code",
      "source": [
        "apples=5\n",
        "# here we are assigning the number 5 to the variable apples "
      ],
      "metadata": {
        "id": "gbRClzh9yixH"
      },
      "execution_count": null,
      "outputs": []
    },
    {
      "cell_type": "code",
      "source": [
        "apples\n",
        "# here we are establishing that apples is equal to 5"
      ],
      "metadata": {
        "colab": {
          "base_uri": "https://localhost:8080/"
        },
        "id": "HWdGBUwtyjP4",
        "outputId": "be54cc3a-e128-470f-e208-e5e3be17cbd3"
      },
      "execution_count": null,
      "outputs": [
        {
          "output_type": "execute_result",
          "data": {
            "text/plain": [
              "5"
            ]
          },
          "metadata": {},
          "execution_count": 2
        }
      ]
    },
    {
      "cell_type": "code",
      "source": [
        "oranges=8\n",
        "# here we are assigning the number 8 to the variable oranges"
      ],
      "metadata": {
        "id": "5K8UpvpHynEv"
      },
      "execution_count": null,
      "outputs": []
    },
    {
      "cell_type": "code",
      "source": [
        "oranges\n",
        "#here we are establishing that oranges is equal to 8"
      ],
      "metadata": {
        "colab": {
          "base_uri": "https://localhost:8080/"
        },
        "id": "Nj5duuD6ytTf",
        "outputId": "ff93db3c-857a-48ff-f41b-8499af6146ea"
      },
      "execution_count": null,
      "outputs": [
        {
          "output_type": "execute_result",
          "data": {
            "text/plain": [
              "8"
            ]
          },
          "metadata": {},
          "execution_count": 7
        }
      ]
    },
    {
      "cell_type": "code",
      "source": [
        "apples + oranges \n",
        "# here we are adding the variables apples and oranges to find out the total (5+8)"
      ],
      "metadata": {
        "colab": {
          "base_uri": "https://localhost:8080/"
        },
        "id": "8R3g4fe4yuFf",
        "outputId": "a1eb56cc-7156-4b6e-b2c2-51cfbcbc8e48"
      },
      "execution_count": null,
      "outputs": [
        {
          "output_type": "execute_result",
          "data": {
            "text/plain": [
              "13"
            ]
          },
          "metadata": {},
          "execution_count": 8
        }
      ]
    },
    {
      "cell_type": "code",
      "source": [
        "total = apples + oranges \n",
        "#here we are assigning the variable total to the number of apples and oranges (total= 5+8)"
      ],
      "metadata": {
        "id": "eRBWiEmnyxFA"
      },
      "execution_count": null,
      "outputs": []
    },
    {
      "cell_type": "code",
      "source": [
        "total\n",
        "# here we are establishing that total equals 13 "
      ],
      "metadata": {
        "colab": {
          "base_uri": "https://localhost:8080/"
        },
        "id": "ZCHTvrByy4UQ",
        "outputId": "db97ef0f-7def-4af1-f428-11589fe4b017"
      },
      "execution_count": null,
      "outputs": [
        {
          "output_type": "execute_result",
          "data": {
            "text/plain": [
              "13"
            ]
          },
          "metadata": {},
          "execution_count": 10
        }
      ]
    },
    {
      "cell_type": "markdown",
      "source": [
        "# Variables (fruit more)\n"
      ],
      "metadata": {
        "id": "Xax2w9ddzLlw"
      }
    },
    {
      "cell_type": "code",
      "source": [
        "apple = 5\n",
        "#here we are assigning the variable apple to the value 5"
      ],
      "metadata": {
        "id": "SM3H56VQzN-m"
      },
      "execution_count": null,
      "outputs": []
    },
    {
      "cell_type": "code",
      "source": [
        "apple \n",
        "#here we are establishing that apple is equal to 5"
      ],
      "metadata": {
        "colab": {
          "base_uri": "https://localhost:8080/"
        },
        "id": "gJp3RLe5zRC_",
        "outputId": "73eb2254-846b-431e-dbc9-336bf4749fca"
      },
      "execution_count": null,
      "outputs": [
        {
          "output_type": "execute_result",
          "data": {
            "text/plain": [
              "5"
            ]
          },
          "metadata": {},
          "execution_count": 16
        }
      ]
    },
    {
      "cell_type": "code",
      "source": [
        "print (apple)\n",
        "#here we are printing the number of apples to establish what the number of apples are (5)\n"
      ],
      "metadata": {
        "colab": {
          "base_uri": "https://localhost:8080/"
        },
        "id": "ncP4eSrzzSpv",
        "outputId": "344a01e0-86ab-4381-b368-9edaeaa884c8"
      },
      "execution_count": null,
      "outputs": [
        {
          "output_type": "stream",
          "name": "stdout",
          "text": [
            "5\n"
          ]
        }
      ]
    },
    {
      "cell_type": "code",
      "source": [
        "orange =8\n",
        "#here we are assigning the variable orange to the value 8"
      ],
      "metadata": {
        "id": "pVaNCBjVzTnA"
      },
      "execution_count": null,
      "outputs": []
    },
    {
      "cell_type": "code",
      "source": [
        "orange\n",
        "#here we are establishing that orange is equal to 8"
      ],
      "metadata": {
        "colab": {
          "base_uri": "https://localhost:8080/"
        },
        "id": "e-Bi6GUFzYXQ",
        "outputId": "9ec7e23b-99fd-4139-ca06-42a9a3112ee8"
      },
      "execution_count": null,
      "outputs": [
        {
          "output_type": "execute_result",
          "data": {
            "text/plain": [
              "8"
            ]
          },
          "metadata": {},
          "execution_count": 20
        }
      ]
    },
    {
      "cell_type": "code",
      "source": [
        "print (orange)\n",
        "#here we are printing the number of oranges to establish what the number of oranges are (8)"
      ],
      "metadata": {
        "colab": {
          "base_uri": "https://localhost:8080/"
        },
        "id": "PkoWAQB2zZew",
        "outputId": "f1558641-4f36-43d0-dfee-2033a07e0054"
      },
      "execution_count": null,
      "outputs": [
        {
          "output_type": "stream",
          "name": "stdout",
          "text": [
            "8\n"
          ]
        }
      ]
    },
    {
      "cell_type": "code",
      "source": [
        "apple + orange \n",
        "#here we are establishing that apple plus orange is equal to 13"
      ],
      "metadata": {
        "colab": {
          "base_uri": "https://localhost:8080/"
        },
        "id": "eRzlhXTtzbTQ",
        "outputId": "410c57f1-70bc-4c57-fb39-8d06078fb1f4"
      },
      "execution_count": null,
      "outputs": [
        {
          "output_type": "execute_result",
          "data": {
            "text/plain": [
              "13"
            ]
          },
          "metadata": {},
          "execution_count": 22
        }
      ]
    },
    {
      "cell_type": "code",
      "source": [
        "total = apple + orange\n",
        "#here we are assigning the variable total to the value of apple plus orange (8+5)"
      ],
      "metadata": {
        "id": "Bqve5Avxzdhf"
      },
      "execution_count": null,
      "outputs": []
    },
    {
      "cell_type": "code",
      "source": [
        "total \n",
        "#here we are establishing that total is equal to 13"
      ],
      "metadata": {
        "colab": {
          "base_uri": "https://localhost:8080/"
        },
        "id": "ajPNG0BCzhlw",
        "outputId": "de517193-2916-4643-f1ac-565e118111c6"
      },
      "execution_count": null,
      "outputs": [
        {
          "output_type": "execute_result",
          "data": {
            "text/plain": [
              "13"
            ]
          },
          "metadata": {},
          "execution_count": 21
        }
      ]
    },
    {
      "cell_type": "code",
      "source": [
        "print (total)\n",
        "#here we are printing the number of total to establish what the number of total fruit is (13)"
      ],
      "metadata": {
        "colab": {
          "base_uri": "https://localhost:8080/"
        },
        "id": "m-0x9byjzijQ",
        "outputId": "d5604f6f-1435-48d9-eee8-59a3a9905943"
      },
      "execution_count": null,
      "outputs": [
        {
          "output_type": "stream",
          "name": "stdout",
          "text": [
            "13\n"
          ]
        }
      ]
    },
    {
      "cell_type": "code",
      "source": [
        "apple **2\n",
        "#here we are squaring the number of apples (5) to get 25 apples"
      ],
      "metadata": {
        "colab": {
          "base_uri": "https://localhost:8080/"
        },
        "id": "TGQPB3-BzjpA",
        "outputId": "98885c58-2d39-4a39-b5bf-e584546e53d8"
      },
      "execution_count": null,
      "outputs": [
        {
          "output_type": "execute_result",
          "data": {
            "text/plain": [
              "25"
            ]
          },
          "metadata": {},
          "execution_count": 25
        }
      ]
    },
    {
      "cell_type": "code",
      "source": [
        "cost_per_apple = 0.25\n",
        "#here we are assigning the cost of apple to the value 0.25"
      ],
      "metadata": {
        "id": "1F83gawhzqgA"
      },
      "execution_count": null,
      "outputs": []
    },
    {
      "cell_type": "code",
      "source": [
        "total_apple_cost= cost_per_apple*apple\n",
        "#here we are assigning the total cost of apples to cost per apple times the amount of apples"
      ],
      "metadata": {
        "id": "d8MNDZgPztc_"
      },
      "execution_count": null,
      "outputs": []
    },
    {
      "cell_type": "code",
      "source": [
        "total_apple_cost\n",
        "#here we are assigning the total cost of apple to the value 1.25\n"
      ],
      "metadata": {
        "colab": {
          "base_uri": "https://localhost:8080/"
        },
        "id": "ZHOEOAjuzycf",
        "outputId": "caf294fb-8d37-4b1b-ea7a-40141e39561c"
      },
      "execution_count": null,
      "outputs": [
        {
          "output_type": "execute_result",
          "data": {
            "text/plain": [
              "1.25"
            ]
          },
          "metadata": {},
          "execution_count": 36
        }
      ]
    },
    {
      "cell_type": "code",
      "source": [
        "cost_per_orange=1.45\n",
        "#here we are assigning the cost of orange to the value 1.45"
      ],
      "metadata": {
        "id": "S9Gk6t9rz-5A"
      },
      "execution_count": null,
      "outputs": []
    },
    {
      "cell_type": "code",
      "source": [
        "total_orange_cost= cost_per_orange*orange\n",
        "#here we are assigning the total cost of oranges to cost per orange times the amount of oranges"
      ],
      "metadata": {
        "id": "iactv1AY0NAP"
      },
      "execution_count": null,
      "outputs": []
    },
    {
      "cell_type": "code",
      "source": [
        "total_orange_cost\n",
        "#here we are assigning the total cost of orange to the value 11.6"
      ],
      "metadata": {
        "colab": {
          "base_uri": "https://localhost:8080/"
        },
        "id": "PXldfoBH0Sm_",
        "outputId": "7d0f376a-f43e-4a88-d4d3-5a5ef8522b3f"
      },
      "execution_count": null,
      "outputs": [
        {
          "output_type": "execute_result",
          "data": {
            "text/plain": [
              "11.6"
            ]
          },
          "metadata": {},
          "execution_count": 29
        }
      ]
    },
    {
      "cell_type": "markdown",
      "source": [
        "# Clothing Store example "
      ],
      "metadata": {
        "id": "kCgH5bESwNfo"
      }
    },
    {
      "cell_type": "code",
      "source": [
        "shirt=12.99\n"
      ],
      "metadata": {
        "id": "TsOps5W50UpP"
      },
      "execution_count": null,
      "outputs": []
    },
    {
      "cell_type": "code",
      "source": [
        "pants=10.99"
      ],
      "metadata": {
        "id": "9B2GEt5H0ZoP"
      },
      "execution_count": null,
      "outputs": []
    },
    {
      "cell_type": "code",
      "source": [
        "shoes=18.99\n"
      ],
      "metadata": {
        "id": "QgT7uM660ccv"
      },
      "execution_count": null,
      "outputs": []
    },
    {
      "cell_type": "code",
      "source": [
        "shirt_sold= 34"
      ],
      "metadata": {
        "id": "7egOubCB0f-v"
      },
      "execution_count": null,
      "outputs": []
    },
    {
      "cell_type": "code",
      "source": [
        "shoes_sold= 12"
      ],
      "metadata": {
        "id": "5w_Wo1ST0kuv"
      },
      "execution_count": null,
      "outputs": []
    },
    {
      "cell_type": "code",
      "source": [
        "pants_sold= 43"
      ],
      "metadata": {
        "id": "LqrhEXU50m5Q"
      },
      "execution_count": null,
      "outputs": []
    },
    {
      "cell_type": "code",
      "source": [
        "total_sales= (shirt*shirt_sold)+(pants*pants_sold)+(shoes*shoes_sold) \n",
        "#here is a large equation, each piece of clothing has its own small equation put into a larger one to find out the total sales, it can be broken down but to have a full total it all must be combined "
      ],
      "metadata": {
        "id": "WRLtkKH80okw"
      },
      "execution_count": null,
      "outputs": []
    },
    {
      "cell_type": "code",
      "source": [
        "total_sales\n"
      ],
      "metadata": {
        "colab": {
          "base_uri": "https://localhost:8080/"
        },
        "id": "7e-tj6xv04Xu",
        "outputId": "a64197b5-3576-4583-b27b-2f7ad473860e"
      },
      "execution_count": null,
      "outputs": [
        {
          "output_type": "execute_result",
          "data": {
            "text/plain": [
              "1142.1100000000001"
            ]
          },
          "metadata": {},
          "execution_count": 80
        }
      ]
    },
    {
      "cell_type": "code",
      "source": [
        "total_sales #note this is in dollars \n"
      ],
      "metadata": {
        "colab": {
          "base_uri": "https://localhost:8080/"
        },
        "id": "1yF21Tfm05sf",
        "outputId": "3b91cb20-df4e-4527-e850-405ad0105207"
      },
      "execution_count": null,
      "outputs": [
        {
          "output_type": "execute_result",
          "data": {
            "text/plain": [
              "1142.1100000000001"
            ]
          },
          "metadata": {},
          "execution_count": 81
        }
      ]
    },
    {
      "cell_type": "code",
      "source": [
        "total_shirt_sales=(shirt*shirt_sold)"
      ],
      "metadata": {
        "id": "9VWEec9q09yP"
      },
      "execution_count": null,
      "outputs": []
    },
    {
      "cell_type": "code",
      "source": [
        "total_shirt_sales"
      ],
      "metadata": {
        "colab": {
          "base_uri": "https://localhost:8080/"
        },
        "id": "KA-ZxP7A1_LB",
        "outputId": "33688653-b5fd-4edd-de5f-6a2d2be2e541"
      },
      "execution_count": null,
      "outputs": [
        {
          "output_type": "execute_result",
          "data": {
            "text/plain": [
              "441.66"
            ]
          },
          "metadata": {},
          "execution_count": 83
        }
      ]
    },
    {
      "cell_type": "code",
      "source": [
        "total_pants_sales=pants*pants_sold\n"
      ],
      "metadata": {
        "id": "KVsDORoY2AnR"
      },
      "execution_count": null,
      "outputs": []
    },
    {
      "cell_type": "code",
      "source": [
        "total_pants_sales\n"
      ],
      "metadata": {
        "colab": {
          "base_uri": "https://localhost:8080/"
        },
        "id": "HV_vt3Pv2Fvx",
        "outputId": "1c7bab15-0154-457c-e226-eea731aac87d"
      },
      "execution_count": null,
      "outputs": [
        {
          "output_type": "execute_result",
          "data": {
            "text/plain": [
              "472.57"
            ]
          },
          "metadata": {},
          "execution_count": 85
        }
      ]
    },
    {
      "cell_type": "code",
      "source": [
        "total_shoe_sales=shoes*shoes_sold"
      ],
      "metadata": {
        "id": "4MrG21FG2HTB"
      },
      "execution_count": null,
      "outputs": []
    },
    {
      "cell_type": "code",
      "source": [
        "total_shoe_sales"
      ],
      "metadata": {
        "colab": {
          "base_uri": "https://localhost:8080/"
        },
        "id": "ReZgMMNU2Kkh",
        "outputId": "083b043d-5c24-43d4-c9b2-659ab059eb2e"
      },
      "execution_count": null,
      "outputs": [
        {
          "output_type": "execute_result",
          "data": {
            "text/plain": [
              "227.88"
            ]
          },
          "metadata": {},
          "execution_count": 87
        }
      ]
    },
    {
      "cell_type": "markdown",
      "source": [
        "#Vectors\n",
        "\n"
      ],
      "metadata": {
        "id": "9e1HWEI82ZwU"
      }
    },
    {
      "cell_type": "code",
      "source": [
        "import numpy as np\n",
        "# used for making vectors \n",
        "\n"
      ],
      "metadata": {
        "id": "OpAwtFZ-2cCC"
      },
      "execution_count": null,
      "outputs": []
    },
    {
      "cell_type": "code",
      "source": [
        "import matplotlib.pyplot as plt\n",
        "# used for making plots "
      ],
      "metadata": {
        "id": "9OAD6gTE2_tf"
      },
      "execution_count": null,
      "outputs": []
    },
    {
      "cell_type": "code",
      "source": [
        "np.arange(10)\n",
        "# used for making an array, a range of numbers from 0 to the number in put or a certain number to another number it goes up to the number but not include that number \n"
      ],
      "metadata": {
        "colab": {
          "base_uri": "https://localhost:8080/"
        },
        "id": "I6nwC6au2_wF",
        "outputId": "44d96ec6-0574-4d03-bfe8-6b730d6808ad"
      },
      "execution_count": null,
      "outputs": [
        {
          "output_type": "execute_result",
          "data": {
            "text/plain": [
              "array([0, 1, 2, 3, 4, 5, 6, 7, 8, 9])"
            ]
          },
          "metadata": {},
          "execution_count": 95
        }
      ]
    },
    {
      "cell_type": "code",
      "source": [
        "x = np.arange(10)"
      ],
      "metadata": {
        "id": "84snrZWm2_z1"
      },
      "execution_count": null,
      "outputs": []
    },
    {
      "cell_type": "code",
      "source": [
        "x"
      ],
      "metadata": {
        "colab": {
          "base_uri": "https://localhost:8080/"
        },
        "id": "g_5w0dEm2_2t",
        "outputId": "9a290593-a372-4b31-b61a-ffabe204b131"
      },
      "execution_count": null,
      "outputs": [
        {
          "output_type": "execute_result",
          "data": {
            "text/plain": [
              "array([0, 1, 2, 3, 4, 5, 6, 7, 8, 9])"
            ]
          },
          "metadata": {},
          "execution_count": 101
        }
      ]
    },
    {
      "cell_type": "code",
      "source": [
        "x+1 #this will take the array and add the input number to each variable of the array "
      ],
      "metadata": {
        "colab": {
          "base_uri": "https://localhost:8080/"
        },
        "id": "vdgza25f4lUU",
        "outputId": "dbed6136-b0cf-429f-e64f-1de5c175f16b"
      },
      "execution_count": null,
      "outputs": [
        {
          "output_type": "execute_result",
          "data": {
            "text/plain": [
              "array([ 1,  2,  3,  4,  5,  6,  7,  8,  9, 10])"
            ]
          },
          "metadata": {},
          "execution_count": 103
        }
      ]
    },
    {
      "cell_type": "code",
      "source": [
        "x*2"
      ],
      "metadata": {
        "colab": {
          "base_uri": "https://localhost:8080/"
        },
        "id": "YEi8KP5I4m80",
        "outputId": "412891a0-ffd0-4b27-95d6-f0428f5d86bf"
      },
      "execution_count": null,
      "outputs": [
        {
          "output_type": "execute_result",
          "data": {
            "text/plain": [
              "array([ 0,  2,  4,  6,  8, 10, 12, 14, 16, 18])"
            ]
          },
          "metadata": {},
          "execution_count": 104
        }
      ]
    },
    {
      "cell_type": "code",
      "source": [
        "x**2"
      ],
      "metadata": {
        "colab": {
          "base_uri": "https://localhost:8080/"
        },
        "id": "AT5kWa9a4ycK",
        "outputId": "b45352a4-8583-473f-88ca-40319c5e8ede"
      },
      "execution_count": null,
      "outputs": [
        {
          "output_type": "execute_result",
          "data": {
            "text/plain": [
              "array([ 0,  1,  4,  9, 16, 25, 36, 49, 64, 81])"
            ]
          },
          "metadata": {},
          "execution_count": 105
        }
      ]
    },
    {
      "cell_type": "code",
      "source": [
        "y=3*x+5"
      ],
      "metadata": {
        "id": "aA70-e2i4zdq"
      },
      "execution_count": null,
      "outputs": []
    },
    {
      "cell_type": "code",
      "source": [
        "y"
      ],
      "metadata": {
        "colab": {
          "base_uri": "https://localhost:8080/"
        },
        "id": "Ahn71cRY4205",
        "outputId": "ba93d740-364d-4505-e787-212aa2e11480"
      },
      "execution_count": null,
      "outputs": [
        {
          "output_type": "execute_result",
          "data": {
            "text/plain": [
              "array([ 5,  8, 11, 14, 17, 20, 23, 26, 29, 32])"
            ]
          },
          "metadata": {},
          "execution_count": 109
        }
      ]
    },
    {
      "cell_type": "code",
      "source": [
        "x"
      ],
      "metadata": {
        "colab": {
          "base_uri": "https://localhost:8080/"
        },
        "id": "jrRRUZRB43r6",
        "outputId": "c36a09bc-1370-40a6-a319-27a3dac00114"
      },
      "execution_count": null,
      "outputs": [
        {
          "output_type": "execute_result",
          "data": {
            "text/plain": [
              "array([0, 1, 2, 3, 4, 5, 6, 7, 8, 9])"
            ]
          },
          "metadata": {},
          "execution_count": 110
        }
      ]
    },
    {
      "cell_type": "code",
      "source": [
        "y"
      ],
      "metadata": {
        "colab": {
          "base_uri": "https://localhost:8080/"
        },
        "id": "VMZmHGQ54_zU",
        "outputId": "4c2f3602-8a27-468f-d8dc-ada22fe4b988"
      },
      "execution_count": null,
      "outputs": [
        {
          "output_type": "execute_result",
          "data": {
            "text/plain": [
              "array([ 5,  8, 11, 14, 17, 20, 23, 26, 29, 32])"
            ]
          },
          "metadata": {},
          "execution_count": 111
        }
      ]
    },
    {
      "cell_type": "code",
      "source": [
        "plt.plot(x,y) # plt is the shortcut to plot your numbers on a graph \n"
      ],
      "metadata": {
        "colab": {
          "base_uri": "https://localhost:8080/",
          "height": 283
        },
        "id": "sTX3A8U_5ALE",
        "outputId": "ee1c5039-445d-4cac-dbca-e31fc044548e"
      },
      "execution_count": null,
      "outputs": [
        {
          "output_type": "execute_result",
          "data": {
            "text/plain": [
              "[<matplotlib.lines.Line2D at 0x7f2ae53d2d90>]"
            ]
          },
          "metadata": {},
          "execution_count": 114
        },
        {
          "output_type": "display_data",
          "data": {
            "text/plain": [
              "<Figure size 432x288 with 1 Axes>"
            ],
            "image/png": "[encoded data removed]"
          },
          "metadata": {
            "needs_background": "light"
          }
        }
      ]
    },
    {
      "cell_type": "code",
      "source": [
        "plt.plot(x,y,'.') # the '.' makes the graph a dotted line and allows us to see the plotted points instead of a solid line "
      ],
      "metadata": {
        "colab": {
          "base_uri": "https://localhost:8080/",
          "height": 283
        },
        "id": "Hs-wUhX45GYE",
        "outputId": "f0833ab9-6632-4c0e-a10c-3e04cf133b8d"
      },
      "execution_count": null,
      "outputs": [
        {
          "output_type": "execute_result",
          "data": {
            "text/plain": [
              "[<matplotlib.lines.Line2D at 0x7f2ae52431d0>]"
            ]
          },
          "metadata": {},
          "execution_count": 117
        },
        {
          "output_type": "display_data",
          "data": {
            "text/plain": [
              "<Figure size 432x288 with 1 Axes>"
            ],
            "image/png": "[encoded data removed]"
          },
          "metadata": {
            "needs_background": "light"
          }
        }
      ]
    },
    {
      "cell_type": "code",
      "source": [
        "plt.plot(x,y, 'r.') # adding the r changes the color of te graph to red "
      ],
      "metadata": {
        "colab": {
          "base_uri": "https://localhost:8080/",
          "height": 283
        },
        "id": "mwtDxp7b5doE",
        "outputId": "4bcf3f5e-6c4b-4df5-af9a-0d3a890031a1"
      },
      "execution_count": null,
      "outputs": [
        {
          "output_type": "execute_result",
          "data": {
            "text/plain": [
              "[<matplotlib.lines.Line2D at 0x7f2ae518bbd0>]"
            ]
          },
          "metadata": {},
          "execution_count": 120
        },
        {
          "output_type": "display_data",
          "data": {
            "text/plain": [
              "<Figure size 432x288 with 1 Axes>"
            ],
            "image/png": "[encoded data removed]"
          },
          "metadata": {
            "needs_background": "light"
          }
        }
      ]
    },
    {
      "cell_type": "code",
      "source": [
        "plt.plot(x,y,'r--') # adding the r-- changes the color to red and makes the graph a lined graph"
      ],
      "metadata": {
        "colab": {
          "base_uri": "https://localhost:8080/",
          "height": 283
        },
        "id": "uq8AFypF6Nt3",
        "outputId": "2d91e229-180c-42ed-f27b-31213ba159d0"
      },
      "execution_count": null,
      "outputs": [
        {
          "output_type": "execute_result",
          "data": {
            "text/plain": [
              "[<matplotlib.lines.Line2D at 0x7f2ae50618d0>]"
            ]
          },
          "metadata": {},
          "execution_count": 122
        },
        {
          "output_type": "display_data",
          "data": {
            "text/plain": [
              "<Figure size 432x288 with 1 Axes>"
            ],
            "image/png": "[encoded data removed]"
          },
          "metadata": {
            "needs_background": "light"
          }
        }
      ]
    },
    {
      "cell_type": "code",
      "source": [
        "plt.plot(x,y,'y*') # y changes the color to yellow "
      ],
      "metadata": {
        "colab": {
          "base_uri": "https://localhost:8080/",
          "height": 283
        },
        "id": "Y1E2eszh6YD4",
        "outputId": "45b9e3a6-6f4a-4b45-df50-e202505c9b4e"
      },
      "execution_count": null,
      "outputs": [
        {
          "output_type": "execute_result",
          "data": {
            "text/plain": [
              "[<matplotlib.lines.Line2D at 0x7f2ae4fb01d0>]"
            ]
          },
          "metadata": {},
          "execution_count": 124
        },
        {
          "output_type": "display_data",
          "data": {
            "text/plain": [
              "<Figure size 432x288 with 1 Axes>"
            ],
            "image/png": "[encoded data removed]"
          },
          "metadata": {
            "needs_background": "light"
          }
        }
      ]
    },
    {
      "cell_type": "markdown",
      "source": [
        "matplotlib.org or just google matplotlib colors and they can show us the different colors we can change our graphs to"
      ],
      "metadata": {
        "id": "su7-cUMj7SKq"
      }
    },
    {
      "cell_type": "code",
      "source": [
        "plt.plot(x,y, marker='*', linestyle= 'none', markerfacecolor= '#333399') # this allows us to change the line style, marker color, and marker type"
      ],
      "metadata": {
        "colab": {
          "base_uri": "https://localhost:8080/",
          "height": 283
        },
        "id": "vuICaN4Q7LBa",
        "outputId": "57b34da6-248f-4b73-cf57-ee4c51c1a4da"
      },
      "execution_count": null,
      "outputs": [
        {
          "output_type": "execute_result",
          "data": {
            "text/plain": [
              "[<matplotlib.lines.Line2D at 0x7f2ae4e732d0>]"
            ]
          },
          "metadata": {},
          "execution_count": 127
        },
        {
          "output_type": "display_data",
          "data": {
            "text/plain": [
              "<Figure size 432x288 with 1 Axes>"
            ],
            "image/png": "[encoded data removed]"
          },
          "metadata": {
            "needs_background": "light"
          }
        }
      ]
    },
    {
      "cell_type": "code",
      "source": [
        "plt.plot(x,y, marker='o', linestyle= 'none', markerfacecolor= '#ff8ea1')"
      ],
      "metadata": {
        "colab": {
          "base_uri": "https://localhost:8080/",
          "height": 283
        },
        "id": "bsq9Wa007_O5",
        "outputId": "43d83209-51bf-4830-ced7-bf197a6d4f47"
      },
      "execution_count": null,
      "outputs": [
        {
          "output_type": "execute_result",
          "data": {
            "text/plain": [
              "[<matplotlib.lines.Line2D at 0x7f2ae5349350>]"
            ]
          },
          "metadata": {},
          "execution_count": 135
        },
        {
          "output_type": "display_data",
          "data": {
            "text/plain": [
              "<Figure size 432x288 with 1 Axes>"
            ],
            "image/png": "[encoded data removed]"
          },
          "metadata": {
            "needs_background": "light"
          }
        }
      ]
    },
    {
      "cell_type": "code",
      "source": [
        "z=np.linspace(0,10,100) # you have the start value the stop value and then how many steps you want to get from start to stop "
      ],
      "metadata": {
        "id": "9X0swdsk8Xoo"
      },
      "execution_count": null,
      "outputs": []
    },
    {
      "cell_type": "code",
      "source": [
        "z"
      ],
      "metadata": {
        "colab": {
          "base_uri": "https://localhost:8080/"
        },
        "id": "OpuAUdN79h8o",
        "outputId": "711aa9ea-8426-4c0b-b9d6-be226f26a27b"
      },
      "execution_count": null,
      "outputs": [
        {
          "output_type": "execute_result",
          "data": {
            "text/plain": [
              "array([ 0.        ,  0.1010101 ,  0.2020202 ,  0.3030303 ,  0.4040404 ,\n",
              "        0.50505051,  0.60606061,  0.70707071,  0.80808081,  0.90909091,\n",
              "        1.01010101,  1.11111111,  1.21212121,  1.31313131,  1.41414141,\n",
              "        1.51515152,  1.61616162,  1.71717172,  1.81818182,  1.91919192,\n",
              "        2.02020202,  2.12121212,  2.22222222,  2.32323232,  2.42424242,\n",
              "        2.52525253,  2.62626263,  2.72727273,  2.82828283,  2.92929293,\n",
              "        3.03030303,  3.13131313,  3.23232323,  3.33333333,  3.43434343,\n",
              "        3.53535354,  3.63636364,  3.73737374,  3.83838384,  3.93939394,\n",
              "        4.04040404,  4.14141414,  4.24242424,  4.34343434,  4.44444444,\n",
              "        4.54545455,  4.64646465,  4.74747475,  4.84848485,  4.94949495,\n",
              "        5.05050505,  5.15151515,  5.25252525,  5.35353535,  5.45454545,\n",
              "        5.55555556,  5.65656566,  5.75757576,  5.85858586,  5.95959596,\n",
              "        6.06060606,  6.16161616,  6.26262626,  6.36363636,  6.46464646,\n",
              "        6.56565657,  6.66666667,  6.76767677,  6.86868687,  6.96969697,\n",
              "        7.07070707,  7.17171717,  7.27272727,  7.37373737,  7.47474747,\n",
              "        7.57575758,  7.67676768,  7.77777778,  7.87878788,  7.97979798,\n",
              "        8.08080808,  8.18181818,  8.28282828,  8.38383838,  8.48484848,\n",
              "        8.58585859,  8.68686869,  8.78787879,  8.88888889,  8.98989899,\n",
              "        9.09090909,  9.19191919,  9.29292929,  9.39393939,  9.49494949,\n",
              "        9.5959596 ,  9.6969697 ,  9.7979798 ,  9.8989899 , 10.        ])"
            ]
          },
          "metadata": {},
          "execution_count": 152
        }
      ]
    },
    {
      "cell_type": "code",
      "source": [
        "k=z**2"
      ],
      "metadata": {
        "id": "l-gy_oh3-Sat"
      },
      "execution_count": null,
      "outputs": []
    },
    {
      "cell_type": "code",
      "source": [
        "plt.plot(z,k, marker='o', linestyle= 'none', markerfacecolor= '#333399')"
      ],
      "metadata": {
        "colab": {
          "base_uri": "https://localhost:8080/",
          "height": 283
        },
        "id": "22HCGdPQ-Lmw",
        "outputId": "fc2acaee-ed41-448d-8481-0324761ffac2"
      },
      "execution_count": null,
      "outputs": [
        {
          "output_type": "execute_result",
          "data": {
            "text/plain": [
              "[<matplotlib.lines.Line2D at 0x7f2ae4bd2a10>]"
            ]
          },
          "metadata": {},
          "execution_count": 155
        },
        {
          "output_type": "display_data",
          "data": {
            "text/plain": [
              "<Figure size 432x288 with 1 Axes>"
            ],
            "image/png": "[encoded data removed]"
          },
          "metadata": {
            "needs_background": "light"
          }
        }
      ]
    },
    {
      "cell_type": "code",
      "source": [
        "x=np.linspace(0,5,10)"
      ],
      "metadata": {
        "id": "VE_LzPUw9jdJ"
      },
      "execution_count": null,
      "outputs": []
    },
    {
      "cell_type": "code",
      "source": [
        "x"
      ],
      "metadata": {
        "colab": {
          "base_uri": "https://localhost:8080/"
        },
        "id": "VXlkqMmo9uUJ",
        "outputId": "46a0118e-70f8-467d-df78-907daf2dc705"
      },
      "execution_count": null,
      "outputs": [
        {
          "output_type": "execute_result",
          "data": {
            "text/plain": [
              "array([0.        , 0.55555556, 1.11111111, 1.66666667, 2.22222222,\n",
              "       2.77777778, 3.33333333, 3.88888889, 4.44444444, 5.        ])"
            ]
          },
          "metadata": {},
          "execution_count": 142
        }
      ]
    },
    {
      "cell_type": "code",
      "source": [
        "y=x**2"
      ],
      "metadata": {
        "id": "MMFUbXNr9u0Z"
      },
      "execution_count": null,
      "outputs": []
    },
    {
      "cell_type": "code",
      "source": [
        "y"
      ],
      "metadata": {
        "colab": {
          "base_uri": "https://localhost:8080/"
        },
        "id": "WCTTD3fe91OJ",
        "outputId": "dbcad602-0e13-41d4-ec28-0198111f13f9"
      },
      "execution_count": null,
      "outputs": [
        {
          "output_type": "execute_result",
          "data": {
            "text/plain": [
              "array([ 0.        ,  0.30864198,  1.2345679 ,  2.77777778,  4.9382716 ,\n",
              "        7.71604938, 11.11111111, 15.12345679, 19.75308642, 25.        ])"
            ]
          },
          "metadata": {},
          "execution_count": 144
        }
      ]
    },
    {
      "cell_type": "code",
      "source": [
        "plt.plot(x,y, marker='o', linestyle= 'none', markerfacecolor= '#333399')"
      ],
      "metadata": {
        "colab": {
          "base_uri": "https://localhost:8080/",
          "height": 283
        },
        "id": "MJ99Nnim91kp",
        "outputId": "a5a954d6-c97c-4da7-9775-ebf089933fa0"
      },
      "execution_count": null,
      "outputs": [
        {
          "output_type": "execute_result",
          "data": {
            "text/plain": [
              "[<matplotlib.lines.Line2D at 0x7f2ae4c75dd0>]"
            ]
          },
          "metadata": {},
          "execution_count": 146
        },
        {
          "output_type": "display_data",
          "data": {
            "text/plain": [
              "<Figure size 432x288 with 1 Axes>"
            ],
            "image/png": "[encoded data removed]"
          },
          "metadata": {
            "needs_background": "light"
          }
        }
      ]
    },
    {
      "cell_type": "code",
      "source": [
        "plt.plot(x,y, marker='o', linestyle= 'none', markerfacecolor= '#ff80c0')\n",
        "plt.title(\"Maddy's First Graph\"); #this allows us to name our graph, the semi colon at the end hides the extra text "
      ],
      "metadata": {
        "colab": {
          "base_uri": "https://localhost:8080/",
          "height": 281
        },
        "id": "AtUgxUUP98M6",
        "outputId": "f19819fb-1334-4143-b453-e79d08b0e96d"
      },
      "execution_count": null,
      "outputs": [
        {
          "output_type": "display_data",
          "data": {
            "text/plain": [
              "<Figure size 432x288 with 1 Axes>"
            ],
            "image/png": "[encoded data removed]"
          },
          "metadata": {
            "needs_background": "light"
          }
        }
      ]
    },
    {
      "cell_type": "code",
      "source": [
        "plt.plot(x,y, marker='o', linestyle= 'none', markerfacecolor= '#ff80c0')\n",
        "plt.title(\"Maddy's First Graph\");\n",
        "plt.xlabel(\"x label goes here\");\n",
        "plt.ylabel(\"y label goes here\"); # these allow us to label both the x an y axis when graphing "
      ],
      "metadata": {
        "colab": {
          "base_uri": "https://localhost:8080/",
          "height": 295
        },
        "id": "XW8dlawY_B69",
        "outputId": "f24f5120-47fc-4eb6-840a-01cc8a80089f"
      },
      "execution_count": null,
      "outputs": [
        {
          "output_type": "display_data",
          "data": {
            "text/plain": [
              "<Figure size 432x288 with 1 Axes>"
            ],
            "image/png": "[encoded data removed]"
          },
          "metadata": {
            "needs_background": "light"
          }
        }
      ]
    },
    {
      "cell_type": "code",
      "source": [
        "plt.plot(x,y, marker='o', linestyle= 'none', markerfacecolor= '#ff80c0', label= 'body count')\n",
        "plt.title(\"Maddy's First Graph\");\n",
        "plt.xlabel(\"bitches\");\n",
        "plt.ylabel(\"hoes\");\n",
        "plt.legend(); # make sure to add the parathenses to make sure that you can see the label of the line "
      ],
      "metadata": {
        "colab": {
          "base_uri": "https://localhost:8080/",
          "height": 295
        },
        "id": "kO70h5elAK8d",
        "outputId": "0d774ac9-7c7c-49bd-d4c1-612391f179b3"
      },
      "execution_count": null,
      "outputs": [
        {
          "output_type": "display_data",
          "data": {
            "text/plain": [
              "<Figure size 432x288 with 1 Axes>"
            ],
            "image/png": "[encoded data removed]"
          },
          "metadata": {
            "needs_background": "light"
          }
        }
      ]
    },
    {
      "cell_type": "code",
      "source": [
        "plt.plot(x,y, marker='o', linestyle= 'none', markerfacecolor= '#ff80c0', label= 'body count', )\n",
        "plt.title(\"Maddy's First Graph\");\n",
        "plt.xlabel(\"bitches\");\n",
        "plt.ylabel(\"hoes\");\n",
        "plt.legend();\n"
      ],
      "metadata": {
        "colab": {
          "base_uri": "https://localhost:8080/",
          "height": 295
        },
        "id": "x36ajN2fAVL9",
        "outputId": "11febfd2-834c-4f12-c58d-3b837a40acce"
      },
      "execution_count": null,
      "outputs": [
        {
          "output_type": "display_data",
          "data": {
            "text/plain": [
              "<Figure size 432x288 with 1 Axes>"
            ],
            "image/png": "[encoded data removed]"
          },
          "metadata": {
            "needs_background": "light"
          }
        }
      ]
    },
    {
      "cell_type": "markdown",
      "source": [
        "# Plotting part 2"
      ],
      "metadata": {
        "id": "TNE8QMnEB-mZ"
      }
    },
    {
      "cell_type": "code",
      "source": [
        "x=np.linspace(0,2,100)\n",
        "\n",
        "plt.title(\"Numbers\");\n",
        "plt.xlabel(\"0-8\");\n",
        "plt.ylabel(\"0-2\");\n",
        "plt.plot(x,x, label='linerar', marker='o',markerfacecolor= '#ff80c0');\n",
        "plt.plot(x,x**2, label='squared',marker='o',markerfacecolor= '#ff80c0' );\n",
        "plt.plot(x,x**3, label= 'cubed', marker='o',markerfacecolor= '#ff80c0');\n",
        "plt.legend();"
      ],
      "metadata": {
        "colab": {
          "base_uri": "https://localhost:8080/",
          "height": 295
        },
        "id": "ZIPXjuyDBnmd",
        "outputId": "28bc6441-ab59-4b0f-f837-e3d46dd48448"
      },
      "execution_count": null,
      "outputs": [
        {
          "output_type": "display_data",
          "data": {
            "text/plain": [
              "<Figure size 432x288 with 1 Axes>"
            ],
            "image/png": "[encoded data removed]"
          },
          "metadata": {
            "needs_background": "light"
          }
        }
      ]
    },
    {
      "cell_type": "code",
      "source": [
        "x=np.linspace(0,2,100)\n",
        "\n",
        "plt.title(\"Numbers\");\n",
        "plt.xlabel(\"0-8\");\n",
        "plt.ylabel(\"0-2\");\n",
        "plt.plot(x,x,'r--',label='linerar');\n",
        "plt.plot(x,x**2,'bs', label='squared' );\n",
        "plt.plot(x,x**3, 'g^',label= 'cubed');\n",
        "plt.legend();"
      ],
      "metadata": {
        "colab": {
          "base_uri": "https://localhost:8080/",
          "height": 295
        },
        "id": "xFktqrlMCbmA",
        "outputId": "c1c9211b-f934-4dd7-a944-5bd45c12d070"
      },
      "execution_count": null,
      "outputs": [
        {
          "output_type": "display_data",
          "data": {
            "text/plain": [
              "<Figure size 432x288 with 1 Axes>"
            ],
            "image/png": "[encoded data removed]"
          },
          "metadata": {
            "needs_background": "light"
          }
        }
      ]
    },
    {
      "cell_type": "markdown",
      "source": [
        "#more plotting "
      ],
      "metadata": {
        "id": "wXhPyaJSEsND"
      }
    },
    {
      "cell_type": "code",
      "source": [
        "names=['cat','dog','bird']"
      ],
      "metadata": {
        "id": "V3U8HUt-DzHR"
      },
      "execution_count": null,
      "outputs": []
    },
    {
      "cell_type": "code",
      "source": [
        "names"
      ],
      "metadata": {
        "colab": {
          "base_uri": "https://localhost:8080/"
        },
        "id": "gy3LXcJQE0aB",
        "outputId": "95816332-f265-4c11-b8fe-27935e80fbd8"
      },
      "execution_count": null,
      "outputs": [
        {
          "output_type": "execute_result",
          "data": {
            "text/plain": [
              "['cat', 'dog', 'bird']"
            ]
          },
          "metadata": {},
          "execution_count": 187
        }
      ]
    },
    {
      "cell_type": "code",
      "source": [
        "names[0]"
      ],
      "metadata": {
        "colab": {
          "base_uri": "https://localhost:8080/",
          "height": 36
        },
        "id": "4GRnYrh-E1ZR",
        "outputId": "95afd7b7-10ab-40d0-c950-4b1f0021d44c"
      },
      "execution_count": null,
      "outputs": [
        {
          "output_type": "execute_result",
          "data": {
            "text/plain": [
              "'cat'"
            ],
            "application/vnd.google.colaboratory.intrinsic+json": {
              "type": "string"
            }
          },
          "metadata": {},
          "execution_count": 189
        }
      ]
    },
    {
      "cell_type": "code",
      "source": [
        "names[1]"
      ],
      "metadata": {
        "colab": {
          "base_uri": "https://localhost:8080/",
          "height": 36
        },
        "id": "pX9Ep7GvE4ER",
        "outputId": "fe984590-9984-42b9-cbdd-03a8b453c96f"
      },
      "execution_count": null,
      "outputs": [
        {
          "output_type": "execute_result",
          "data": {
            "text/plain": [
              "'dog'"
            ],
            "application/vnd.google.colaboratory.intrinsic+json": {
              "type": "string"
            }
          },
          "metadata": {},
          "execution_count": 190
        }
      ]
    },
    {
      "cell_type": "code",
      "source": [
        "names[2]"
      ],
      "metadata": {
        "colab": {
          "base_uri": "https://localhost:8080/",
          "height": 36
        },
        "id": "PxZe1_iIE68R",
        "outputId": "b38d8922-b672-4055-e796-7ea1f6850671"
      },
      "execution_count": null,
      "outputs": [
        {
          "output_type": "execute_result",
          "data": {
            "text/plain": [
              "'bird'"
            ],
            "application/vnd.google.colaboratory.intrinsic+json": {
              "type": "string"
            }
          },
          "metadata": {},
          "execution_count": 191
        }
      ]
    },
    {
      "cell_type": "code",
      "source": [
        "values=[15,18,6]"
      ],
      "metadata": {
        "id": "aC-6sgaQE75B"
      },
      "execution_count": null,
      "outputs": []
    },
    {
      "cell_type": "code",
      "source": [
        "values"
      ],
      "metadata": {
        "colab": {
          "base_uri": "https://localhost:8080/"
        },
        "id": "Xp7pULK-FAhR",
        "outputId": "f645fa0a-6a17-4962-a1af-d1ad6de2399e"
      },
      "execution_count": null,
      "outputs": [
        {
          "output_type": "execute_result",
          "data": {
            "text/plain": [
              "[15, 18, 6]"
            ]
          },
          "metadata": {},
          "execution_count": 193
        }
      ]
    },
    {
      "cell_type": "code",
      "source": [
        "values[0]"
      ],
      "metadata": {
        "colab": {
          "base_uri": "https://localhost:8080/"
        },
        "id": "pSvSKnJCFBCh",
        "outputId": "ff388fb8-6a13-4e6a-db30-37d79a0dbb30"
      },
      "execution_count": null,
      "outputs": [
        {
          "output_type": "execute_result",
          "data": {
            "text/plain": [
              "15"
            ]
          },
          "metadata": {},
          "execution_count": 194
        }
      ]
    },
    {
      "cell_type": "code",
      "source": [
        "values[1]"
      ],
      "metadata": {
        "colab": {
          "base_uri": "https://localhost:8080/"
        },
        "id": "_Kquih5SFCLR",
        "outputId": "ce4c3a48-ea11-4518-b562-b8ebcd25d712"
      },
      "execution_count": null,
      "outputs": [
        {
          "output_type": "execute_result",
          "data": {
            "text/plain": [
              "18"
            ]
          },
          "metadata": {},
          "execution_count": 195
        }
      ]
    },
    {
      "cell_type": "code",
      "source": [
        "values[2]"
      ],
      "metadata": {
        "colab": {
          "base_uri": "https://localhost:8080/"
        },
        "id": "3TOBg5CQFDGx",
        "outputId": "a5cd7cee-b917-4d7a-80d2-f649a41383aa"
      },
      "execution_count": null,
      "outputs": [
        {
          "output_type": "execute_result",
          "data": {
            "text/plain": [
              "6"
            ]
          },
          "metadata": {},
          "execution_count": 196
        }
      ]
    },
    {
      "cell_type": "code",
      "source": [
        "\n",
        "plt.figure(1,figsize=(10,10))\n",
        "\n",
        "plt.subplot(1,3,1) # 1 row 3 coloms, plot your trying to fill in \n",
        "plt.bar(names,values) #this allows us to show sizes and make a bar graph\n",
        "\n",
        "plt.subplot(1,3,2)\n",
        "plt.scatter(names,values) #scatter plot \n",
        "\n",
        "plt.subplot(1,3,3)\n",
        "plt.plot(names,values) #line plot"
      ],
      "metadata": {
        "colab": {
          "base_uri": "https://localhost:8080/",
          "height": 610
        },
        "id": "Md27GkZSFDrQ",
        "outputId": "9acb9a8d-0993-442b-ddb5-39a1dfa15fa8"
      },
      "execution_count": null,
      "outputs": [
        {
          "output_type": "execute_result",
          "data": {
            "text/plain": [
              "[<matplotlib.lines.Line2D at 0x7f2ae48c2fd0>]"
            ]
          },
          "metadata": {},
          "execution_count": 204
        },
        {
          "output_type": "display_data",
          "data": {
            "text/plain": [
              "<Figure size 720x720 with 3 Axes>"
            ],
            "image/png": "[encoded data removed]"
          },
          "metadata": {
            "needs_background": "light"
          }
        }
      ]
    },
    {
      "cell_type": "code",
      "source": [
        "\n",
        "plt.figure(1,figsize=(10,10))\n",
        "\n",
        "plt.subplot(2,2,1) # 1 row 3 coloms, plot your trying to fill in \n",
        "plt.bar(names,values) #this allows us to show sizes and make a bar graph\n",
        "\n",
        "plt.subplot(2,2,2)\n",
        "plt.scatter(names,values) #scatter plot \n",
        "\n",
        "plt.subplot(2,2,3)\n",
        "plt.plot(names,values) #line plot\n",
        "\n",
        "plt.subplot(2,2,4)\n",
        "plt.plot(names,values)"
      ],
      "metadata": {
        "id": "P7sVe4kQFWPC",
        "colab": {
          "base_uri": "https://localhost:8080/",
          "height": 610
        },
        "outputId": "decf237d-3d29-46cb-94fd-488d845d97bb"
      },
      "execution_count": null,
      "outputs": [
        {
          "output_type": "execute_result",
          "data": {
            "text/plain": [
              "[<matplotlib.lines.Line2D at 0x7f2ae46ea410>]"
            ]
          },
          "metadata": {},
          "execution_count": 205
        },
        {
          "output_type": "display_data",
          "data": {
            "text/plain": [
              "<Figure size 720x720 with 4 Axes>"
            ],
            "image/png": "[encoded data removed]"
          },
          "metadata": {
            "needs_background": "light"
          }
        }
      ]
    },
    {
      "cell_type": "markdown",
      "source": [
        "# 8/29/22 class extras "
      ],
      "metadata": {
        "id": "-PJelMbfXuwE"
      }
    },
    {
      "cell_type": "markdown",
      "source": [
        "<img src=\"https://e7.pngegg.com/pngimages/935/770/png-clipart-pizza-pizza.png\">\n",
        "\n",
        "#the code above imbeds an image into the notebook"
      ],
      "metadata": {
        "id": "7S6uxQi7YMmT"
      }
    },
    {
      "cell_type": "markdown",
      "source": [
        "<img src=\"https://e7.pngegg.com/pngimages/935/770/png-clipart-pizza-pizza.png\" width=100>\n",
        "\n",
        "#at the end if you change the width it can adjust the size of the image "
      ],
      "metadata": {
        "id": "aiGr9D4nZm5c"
      }
    },
    {
      "cell_type": "markdown",
      "source": [
        "#Style Guide for Colab Markdown \n",
        "https://colab.research.google.com/notebooks/markdown_guide.ipynb "
      ],
      "metadata": {
        "id": "3WFkLDLMah-H"
      }
    },
    {
      "cell_type": "markdown",
      "source": [
        "#Style Choices "
      ],
      "metadata": {
        "id": "o8Qatgzpffza"
      }
    },
    {
      "cell_type": "markdown",
      "source": [
        "x\n"
      ],
      "metadata": {
        "id": "PQDC0BYkbEWW"
      }
    },
    {
      "cell_type": "markdown",
      "source": [
        "$x$ \n",
        "\n",
        "put $ signs on each side of the x to make it the mathematical "
      ],
      "metadata": {
        "id": "zM-ycSJqbEUA"
      }
    },
    {
      "cell_type": "markdown",
      "source": [
        "$y = m x + b$\n",
        "\n",
        "the $ signs on both sides of the equation makes it look like the math equation "
      ],
      "metadata": {
        "id": "VklddWn-bEQ5"
      }
    },
    {
      "cell_type": "markdown",
      "source": [
        "$\\frac{a}{b}$ \n",
        "\n",
        "for a fraction you use this equation; the $ makes it the math equation "
      ],
      "metadata": {
        "id": "NhZb7a6ObENg"
      }
    },
    {
      "cell_type": "markdown",
      "source": [
        "$a^b$"
      ],
      "metadata": {
        "id": "NMwuPm3ubEFt"
      }
    },
    {
      "cell_type": "markdown",
      "source": [
        "$a_b$"
      ],
      "metadata": {
        "id": "Esywah6TdGx7"
      }
    },
    {
      "cell_type": "markdown",
      "source": [
        "$a^{12345}$"
      ],
      "metadata": {
        "id": "Ywc22DZFb2Ci"
      }
    },
    {
      "cell_type": "markdown",
      "source": [
        "$a_{12345}$"
      ],
      "metadata": {
        "id": "fqdTsu4ZdJaa"
      }
    },
    {
      "cell_type": "markdown",
      "source": [
        "$f(x) = \\frac{1}{\\sigma\\sqrt{2\\pi}}e^{-\\frac{1}{2}(\\frac{x-\\mu}{\\sigma})^2}$"
      ],
      "metadata": {
        "id": "OWTnpgHwb1_r"
      }
    },
    {
      "cell_type": "markdown",
      "source": [],
      "metadata": {
        "id": "5R70yGXvb17z"
      }
    },
    {
      "cell_type": "markdown",
      "source": [],
      "metadata": {
        "id": "B4J_rHfQb13p"
      }
    }
  ]
}